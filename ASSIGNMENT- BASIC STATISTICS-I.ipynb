{
 "cells": [
  {
   "cell_type": "markdown",
   "metadata": {},
   "source": [
    "## Question 1\n",
    "### Identify the data type for the following:"
   ]
  },
  {
   "cell_type": "markdown",
   "metadata": {},
   "source": [
    "|Activity|Data Type\n",
    "----|----\n",
    "Number of beatings from Wife|Discrete\n",
    "Results of rolling a dice|Discrete\n",
    "Weight of a person|Continuous\n",
    "Weight of Gold|Continuous\n",
    "Distance between two places|Continuous\n",
    "Length of a leaf|Continuous\n",
    "Dog's weight|Continuous\n",
    "Blue Color|Categorical\n",
    "Number of kids|Discrete\n",
    "Number of tickets in Indian railways|Discrete\n",
    "Number of times married|Discrete\n",
    "Gender (Male or Female)|Categorical\n"
   ]
  },
  {
   "cell_type": "markdown",
   "metadata": {},
   "source": [
    "## Question 2\n",
    "### Identify the Data types, which were among the following:Nominal, Ordinal, Interval, Ratio."
   ]
  },
  {
   "cell_type": "markdown",
   "metadata": {},
   "source": [
    "Data|Data Type\n",
    "----|----\n",
    "Gender|Nominal\n",
    "High School Class Ranking|ordinal\n",
    "Celsius Temperature|Interval\n",
    "Weight|Ratio\n",
    "Hair Color|Nominal\n",
    "Socioeconomic Status|Ordinal\n",
    "Fahrenheit Temperature|Interval\n",
    "Height|Ratio\n",
    "Type of living accommodation|Nominal\n",
    "Level of Agreement|Ordinal\n",
    "IQ(Intelligence Scale)|Ratio\n",
    "Sales Figures|Ratio\n",
    "Blood Group|Nominal\n",
    "Time Of Day|Nominal\n",
    "Time on a Clock with Hands|Interval\n",
    "Number of Children|Ratio\n",
    "Religious Preference|Nominal\n",
    "Barometer Pressure|Ratio\n",
    "SAT Scores|Ordinal\n",
    "Years of Education|Ordinal\n"
   ]
  },
  {
   "cell_type": "markdown",
   "metadata": {},
   "source": [
    "## Question 3\n",
    "### Three Coins are tossed, find the probability that two heads and one tail are obtained?\n",
    "    Each coin has two outcomes\n",
    "    Total no of outcomes= 2x2x2=8\n",
    "    Two heads and one tail outcomes={HHT,HTH,THH}=3\n",
    "    Probability=3/8=0.375\n"
   ]
  },
  {
   "cell_type": "markdown",
   "metadata": {},
   "source": [
    "## Question 4 \n",
    "### Two Dice are rolled, find the probability that sum is\n",
    "    a) Equal to 1\n",
    "    b) Less than or equal to 4\n",
    "    c) Sum is divisible by 2 and 3\n",
    "Solution:\n",
    "\n",
    "    a.Total outcomes=6x6=36\n",
    "    Sum of two dice can never be 1.So probability=0\n",
    "    \n",
    "    b.Possible outcomes={(1,1),(1,2),(1,3),(2,1),(3,1),(2,2)}=6\n",
    "    required probability=6/36=0.167\n",
    "    \n",
    "    c.sum not divisible by 2 or 3= 5,7,11\n",
    "    Possible outcomes={(1,4),(2,3),(3,2),(4,1),(1,6),(2,5),(3,4),(4,3),(5,2),(6,1),(6,5),(5,6)}=12\n",
    "    P(sum not divisible by 2 or 3)=12/36\n",
    "    Therefore,P(sum divisible by 2 or 3)=1-12/36=0.67\n"
   ]
  },
  {
   "cell_type": "markdown",
   "metadata": {},
   "source": [
    "# Question 5\n",
    "A bag contains 2 red, 3 green and 2 blue balls. Two balls are drawn at random. What is the probability that none of the balls drawn is blue?"
   ]
  },
  {
   "cell_type": "markdown",
   "metadata": {},
   "source": [
    "    total no of balls=7\n",
    "    No. of ways in which 2 balls can be drawn out of 7=7C2=21\n",
    "    No of red and green balls=5\n",
    "    no of ways in which 2 balls can be drawn from green and red balls= 5C2=10\n",
    "    Probability of drawing a green/red ball=10/21=0.48\n",
    "    so probability of not drawing a blue ball= probability of drawing a red/green ball\n",
    "                                              = 0.48"
   ]
  },
  {
   "cell_type": "markdown",
   "metadata": {},
   "source": [
    "# Question 6\n",
    " Calculate the Expected number of candies for a randomly selected child \n",
    "Below are the probabilities of count of candies for children (ignoring the nature of the child-Generalized view)\n",
    " \n",
    "CHILD|Candies count|Probability\n",
    "----|----|----\n",
    "A|1|0.015\n",
    "B|4|0.20\n",
    "C|3|0.65\n",
    "D|5|0.005\n",
    "E|6|0.01\n",
    "F|2|0.120\n"
   ]
  },
  {
   "cell_type": "markdown",
   "metadata": {},
   "source": [
    "    Expected value=sum of(Candies count x Probability)\n",
    "                  =3.1\n",
    "    Expected number of candies for a randomly selected child =3"
   ]
  },
  {
   "cell_type": "markdown",
   "metadata": {},
   "source": [
    "## Question 7\n",
    " Calculate Mean, Median, Mode, Variance, Standard Deviation, Range & comment about the values / draw inferences, for the given dataset"
   ]
  },
  {
   "cell_type": "code",
   "execution_count": 1,
   "metadata": {},
   "outputs": [
    {
     "name": "stdout",
     "output_type": "stream",
     "text": [
      "Libraries imported!!\n"
     ]
    }
   ],
   "source": [
    "import numpy as np\n",
    "import pandas as pd\n",
    "import matplotlib.pyplot as plt\n",
    "import seaborn as sns\n",
    "from scipy import stats\n",
    "print(\"Libraries imported!!\")"
   ]
  },
  {
   "cell_type": "code",
   "execution_count": 2,
   "metadata": {},
   "outputs": [
    {
     "data": {
      "text/html": [
       "<div>\n",
       "<style scoped>\n",
       "    .dataframe tbody tr th:only-of-type {\n",
       "        vertical-align: middle;\n",
       "    }\n",
       "\n",
       "    .dataframe tbody tr th {\n",
       "        vertical-align: top;\n",
       "    }\n",
       "\n",
       "    .dataframe thead th {\n",
       "        text-align: right;\n",
       "    }\n",
       "</style>\n",
       "<table border=\"1\" class=\"dataframe\">\n",
       "  <thead>\n",
       "    <tr style=\"text-align: right;\">\n",
       "      <th></th>\n",
       "      <th>Unnamed: 0</th>\n",
       "      <th>Points</th>\n",
       "      <th>Score</th>\n",
       "      <th>Weigh</th>\n",
       "    </tr>\n",
       "  </thead>\n",
       "  <tbody>\n",
       "    <tr>\n",
       "      <th>0</th>\n",
       "      <td>Mazda RX4</td>\n",
       "      <td>3.90</td>\n",
       "      <td>2.620</td>\n",
       "      <td>16.46</td>\n",
       "    </tr>\n",
       "    <tr>\n",
       "      <th>1</th>\n",
       "      <td>Mazda RX4 Wag</td>\n",
       "      <td>3.90</td>\n",
       "      <td>2.875</td>\n",
       "      <td>17.02</td>\n",
       "    </tr>\n",
       "    <tr>\n",
       "      <th>2</th>\n",
       "      <td>Datsun 710</td>\n",
       "      <td>3.85</td>\n",
       "      <td>2.320</td>\n",
       "      <td>18.61</td>\n",
       "    </tr>\n",
       "    <tr>\n",
       "      <th>3</th>\n",
       "      <td>Hornet 4 Drive</td>\n",
       "      <td>3.08</td>\n",
       "      <td>3.215</td>\n",
       "      <td>19.44</td>\n",
       "    </tr>\n",
       "    <tr>\n",
       "      <th>4</th>\n",
       "      <td>Hornet Sportabout</td>\n",
       "      <td>3.15</td>\n",
       "      <td>3.440</td>\n",
       "      <td>17.02</td>\n",
       "    </tr>\n",
       "  </tbody>\n",
       "</table>\n",
       "</div>"
      ],
      "text/plain": [
       "          Unnamed: 0  Points  Score  Weigh\n",
       "0          Mazda RX4    3.90  2.620  16.46\n",
       "1      Mazda RX4 Wag    3.90  2.875  17.02\n",
       "2         Datsun 710    3.85  2.320  18.61\n",
       "3     Hornet 4 Drive    3.08  3.215  19.44\n",
       "4  Hornet Sportabout    3.15  3.440  17.02"
      ]
     },
     "execution_count": 2,
     "metadata": {},
     "output_type": "execute_result"
    }
   ],
   "source": [
    "df1=pd.read_csv(\"H:/ExcelR Data Science/datasets_BA/Q7.csv\")\n",
    "df1.head()"
   ]
  },
  {
   "cell_type": "code",
   "execution_count": 3,
   "metadata": {},
   "outputs": [
    {
     "data": {
      "text/html": [
       "<div>\n",
       "<style scoped>\n",
       "    .dataframe tbody tr th:only-of-type {\n",
       "        vertical-align: middle;\n",
       "    }\n",
       "\n",
       "    .dataframe tbody tr th {\n",
       "        vertical-align: top;\n",
       "    }\n",
       "\n",
       "    .dataframe thead th {\n",
       "        text-align: right;\n",
       "    }\n",
       "</style>\n",
       "<table border=\"1\" class=\"dataframe\">\n",
       "  <thead>\n",
       "    <tr style=\"text-align: right;\">\n",
       "      <th></th>\n",
       "      <th>Points</th>\n",
       "      <th>Score</th>\n",
       "      <th>Weigh</th>\n",
       "    </tr>\n",
       "  </thead>\n",
       "  <tbody>\n",
       "    <tr>\n",
       "      <th>count</th>\n",
       "      <td>32.000000</td>\n",
       "      <td>32.000000</td>\n",
       "      <td>32.000000</td>\n",
       "    </tr>\n",
       "    <tr>\n",
       "      <th>mean</th>\n",
       "      <td>3.596563</td>\n",
       "      <td>3.217250</td>\n",
       "      <td>17.848750</td>\n",
       "    </tr>\n",
       "    <tr>\n",
       "      <th>std</th>\n",
       "      <td>0.534679</td>\n",
       "      <td>0.978457</td>\n",
       "      <td>1.786943</td>\n",
       "    </tr>\n",
       "    <tr>\n",
       "      <th>min</th>\n",
       "      <td>2.760000</td>\n",
       "      <td>1.513000</td>\n",
       "      <td>14.500000</td>\n",
       "    </tr>\n",
       "    <tr>\n",
       "      <th>25%</th>\n",
       "      <td>3.080000</td>\n",
       "      <td>2.581250</td>\n",
       "      <td>16.892500</td>\n",
       "    </tr>\n",
       "    <tr>\n",
       "      <th>50%</th>\n",
       "      <td>3.695000</td>\n",
       "      <td>3.325000</td>\n",
       "      <td>17.710000</td>\n",
       "    </tr>\n",
       "    <tr>\n",
       "      <th>75%</th>\n",
       "      <td>3.920000</td>\n",
       "      <td>3.610000</td>\n",
       "      <td>18.900000</td>\n",
       "    </tr>\n",
       "    <tr>\n",
       "      <th>max</th>\n",
       "      <td>4.930000</td>\n",
       "      <td>5.424000</td>\n",
       "      <td>22.900000</td>\n",
       "    </tr>\n",
       "  </tbody>\n",
       "</table>\n",
       "</div>"
      ],
      "text/plain": [
       "          Points      Score      Weigh\n",
       "count  32.000000  32.000000  32.000000\n",
       "mean    3.596563   3.217250  17.848750\n",
       "std     0.534679   0.978457   1.786943\n",
       "min     2.760000   1.513000  14.500000\n",
       "25%     3.080000   2.581250  16.892500\n",
       "50%     3.695000   3.325000  17.710000\n",
       "75%     3.920000   3.610000  18.900000\n",
       "max     4.930000   5.424000  22.900000"
      ]
     },
     "execution_count": 3,
     "metadata": {},
     "output_type": "execute_result"
    }
   ],
   "source": [
    "df1.describe()"
   ]
  },
  {
   "cell_type": "code",
   "execution_count": 4,
   "metadata": {},
   "outputs": [
    {
     "name": "stdout",
     "output_type": "stream",
     "text": [
      "Mean:\n",
      "Points     3.596563\n",
      "Score      3.217250\n",
      "Weigh     17.848750\n",
      "dtype: float64\n",
      "---------\n",
      "Median:\n",
      "Points     3.695\n",
      "Score      3.325\n",
      "Weigh     17.710\n",
      "dtype: float64\n",
      "---------\n",
      "Standard deviation:\n",
      "Points    0.534679\n",
      "Score     0.978457\n",
      "Weigh     1.786943\n",
      "dtype: float64\n",
      "---------\n",
      "Variance:\n",
      "Points    0.285881\n",
      "Score     0.957379\n",
      "Weigh     3.193166\n",
      "dtype: float64\n"
     ]
    }
   ],
   "source": [
    "## Finding mean.median and standard deviation\n",
    "print(\"Mean:\")\n",
    "print(df1.mean())\n",
    "print(\"---------\")\n",
    "print(\"Median:\")\n",
    "print(df1.median())\n",
    "print(\"---------\")\n",
    "print(\"Standard deviation:\")\n",
    "print(df1.std())\n",
    "print(\"---------\")\n",
    "print(\"Variance:\")\n",
    "print(df1.var())"
   ]
  },
  {
   "cell_type": "code",
   "execution_count": 5,
   "metadata": {},
   "outputs": [
    {
     "name": "stdout",
     "output_type": "stream",
     "text": [
      "The mode of Points column: ModeResult(mode=array([3.07]), count=array([3]))\n",
      "The mode of Score column: ModeResult(mode=array([3.44]), count=array([3]))\n",
      "The mode of Weigh column: ModeResult(mode=array([17.02]), count=array([2]))\n"
     ]
    }
   ],
   "source": [
    "#Finding the mode \n",
    "from scipy import stats\n",
    "mode_points=stats.mode(df1['Points'])\n",
    "mode_score=stats.mode(df1['Score'])\n",
    "mode_weigh=stats.mode(df1['Weigh'])\n",
    "print(\"The mode of Points column:\",mode_points)\n",
    "print(\"The mode of Score column:\",mode_score)\n",
    "print(\"The mode of Weigh column:\",mode_weigh)"
   ]
  },
  {
   "cell_type": "code",
   "execution_count": 6,
   "metadata": {},
   "outputs": [
    {
     "name": "stdout",
     "output_type": "stream",
     "text": [
      "Range of Points column: 2.17\n",
      "Range of Score column: 3.91\n",
      "Range of Weigh column: 8.4\n"
     ]
    }
   ],
   "source": [
    "#FINDING THE RANGE\n",
    "range_points=df1['Points'].max()-df1['Points'].min()\n",
    "range_score=df1['Score'].max()-df1['Score'].min()\n",
    "range_weigh=df1['Weigh'].max()-df1['Weigh'].min()\n",
    "print(\"Range of Points column:\",round(range_points,2))\n",
    "print(\"Range of Score column:\",round(range_score,2))\n",
    "print(\"Range of Weigh column:\",round(range_weigh,2))\n"
   ]
  },
  {
   "cell_type": "markdown",
   "metadata": {},
   "source": [
    "### Inferences drawn:\n",
    "1. The Points column has the lowest deviation while the Weigh column has the highest deviation.\n",
    "2. 75% of data in Points column has value less than 3.92\n",
    "3. 75% of data in Score column has value less than 3.61\n",
    "3. 75% of data in Weigh column has value less than 18.9"
   ]
  },
  {
   "cell_type": "markdown",
   "metadata": {},
   "source": [
    "# Question 8\n",
    "Calculate Expected Value for the problem below\n",
    "\n",
    "    a) The weights (X) of patients at a clinic (in pounds)are:\n",
    "    108, 110, 123, 134, 135, 145, 167, 187, 199\n",
    "    Assume one of the patients is chosen at random. What is the Expected Value of the Weight of that patient?"
   ]
  },
  {
   "cell_type": "markdown",
   "metadata": {},
   "source": [
    "    Expected weight= sum of(Weights x Probabilities)\n",
    "                   = 143.88\n",
    "                   =144\n",
    "     Expected weight of a randomly chosen patient =144 pounds              "
   ]
  },
  {
   "cell_type": "markdown",
   "metadata": {},
   "source": [
    "## Question 9a\n",
    "### Calculate Skewness, Kurtosis & draw inferences on the following data: Cars speed and distance"
   ]
  },
  {
   "cell_type": "code",
   "execution_count": 7,
   "metadata": {},
   "outputs": [
    {
     "data": {
      "text/html": [
       "<div>\n",
       "<style scoped>\n",
       "    .dataframe tbody tr th:only-of-type {\n",
       "        vertical-align: middle;\n",
       "    }\n",
       "\n",
       "    .dataframe tbody tr th {\n",
       "        vertical-align: top;\n",
       "    }\n",
       "\n",
       "    .dataframe thead th {\n",
       "        text-align: right;\n",
       "    }\n",
       "</style>\n",
       "<table border=\"1\" class=\"dataframe\">\n",
       "  <thead>\n",
       "    <tr style=\"text-align: right;\">\n",
       "      <th></th>\n",
       "      <th>Index</th>\n",
       "      <th>speed</th>\n",
       "      <th>dist</th>\n",
       "    </tr>\n",
       "  </thead>\n",
       "  <tbody>\n",
       "    <tr>\n",
       "      <th>0</th>\n",
       "      <td>1</td>\n",
       "      <td>4</td>\n",
       "      <td>2</td>\n",
       "    </tr>\n",
       "    <tr>\n",
       "      <th>1</th>\n",
       "      <td>2</td>\n",
       "      <td>4</td>\n",
       "      <td>10</td>\n",
       "    </tr>\n",
       "    <tr>\n",
       "      <th>2</th>\n",
       "      <td>3</td>\n",
       "      <td>7</td>\n",
       "      <td>4</td>\n",
       "    </tr>\n",
       "    <tr>\n",
       "      <th>3</th>\n",
       "      <td>4</td>\n",
       "      <td>7</td>\n",
       "      <td>22</td>\n",
       "    </tr>\n",
       "    <tr>\n",
       "      <th>4</th>\n",
       "      <td>5</td>\n",
       "      <td>8</td>\n",
       "      <td>16</td>\n",
       "    </tr>\n",
       "  </tbody>\n",
       "</table>\n",
       "</div>"
      ],
      "text/plain": [
       "   Index  speed  dist\n",
       "0      1      4     2\n",
       "1      2      4    10\n",
       "2      3      7     4\n",
       "3      4      7    22\n",
       "4      5      8    16"
      ]
     },
     "execution_count": 7,
     "metadata": {},
     "output_type": "execute_result"
    }
   ],
   "source": [
    "#QUESTION--9\n",
    "#loading Q9a dataset\n",
    "df=pd.read_csv(\"H:/ExcelR Data Science/datasets_BA/Q9_a.csv\")\n",
    "df.head()"
   ]
  },
  {
   "cell_type": "code",
   "execution_count": 12,
   "metadata": {},
   "outputs": [
    {
     "name": "stdout",
     "output_type": "stream",
     "text": [
      "The skewness of speed distribution is: -0.11750986144663393\n",
      "The kurtosis of speed distribution is: -0.5089944204057617\n",
      "--------------------------------------\n",
      "The skewness of distance distribution is: 0.8068949601674215\n",
      "The kurtosis of distance distribution is: 0.4050525816795765\n"
     ]
    }
   ],
   "source": [
    "# CALCULATING KURTOSIS AND SKEWNESS FOR SPEED AND DISTANCE\n",
    "speed_sk=df['speed'].skew()\n",
    "speed_kt=df['speed'].kurtosis()\n",
    "dist_sk=df['dist'].skew()\n",
    "dist_kt=df['dist'].kurtosis()\n",
    "\n",
    "print(\"The skewness of speed distribution is:\",speed_sk)\n",
    "print(\"The kurtosis of speed distribution is:\",speed_kt)\n",
    "print(\"--------------------------------------\")\n",
    "print(\"The skewness of distance distribution is:\",dist_sk)\n",
    "print(\"The kurtosis of distance distribution is:\",dist_kt)"
   ]
  },
  {
   "cell_type": "markdown",
   "metadata": {},
   "source": [
    "### INFERENCES\n",
    "+ Speed distribution curve negatively skewed(-0.117) i.e it is left tailed.\n",
    "+ Distance distribution curve is positively skewed (skewness=0.808) i.e it is right tailed\n",
    "+ kurtosis for both speed and distance is less than 3 so distribution is platykurtic."
   ]
  },
  {
   "cell_type": "markdown",
   "metadata": {},
   "source": [
    "## QUESTION- 9b\n",
    "### Calculate Skewness, Kurtosis & draw inferences on the following data: SP and Weight(WT)"
   ]
  },
  {
   "cell_type": "code",
   "execution_count": 14,
   "metadata": {},
   "outputs": [
    {
     "data": {
      "text/html": [
       "<div>\n",
       "<style scoped>\n",
       "    .dataframe tbody tr th:only-of-type {\n",
       "        vertical-align: middle;\n",
       "    }\n",
       "\n",
       "    .dataframe tbody tr th {\n",
       "        vertical-align: top;\n",
       "    }\n",
       "\n",
       "    .dataframe thead th {\n",
       "        text-align: right;\n",
       "    }\n",
       "</style>\n",
       "<table border=\"1\" class=\"dataframe\">\n",
       "  <thead>\n",
       "    <tr style=\"text-align: right;\">\n",
       "      <th></th>\n",
       "      <th>Unnamed: 0</th>\n",
       "      <th>SP</th>\n",
       "      <th>WT</th>\n",
       "    </tr>\n",
       "  </thead>\n",
       "  <tbody>\n",
       "    <tr>\n",
       "      <th>0</th>\n",
       "      <td>1</td>\n",
       "      <td>104.185353</td>\n",
       "      <td>28.762059</td>\n",
       "    </tr>\n",
       "    <tr>\n",
       "      <th>1</th>\n",
       "      <td>2</td>\n",
       "      <td>105.461264</td>\n",
       "      <td>30.466833</td>\n",
       "    </tr>\n",
       "    <tr>\n",
       "      <th>2</th>\n",
       "      <td>3</td>\n",
       "      <td>105.461264</td>\n",
       "      <td>30.193597</td>\n",
       "    </tr>\n",
       "    <tr>\n",
       "      <th>3</th>\n",
       "      <td>4</td>\n",
       "      <td>113.461264</td>\n",
       "      <td>30.632114</td>\n",
       "    </tr>\n",
       "    <tr>\n",
       "      <th>4</th>\n",
       "      <td>5</td>\n",
       "      <td>104.461264</td>\n",
       "      <td>29.889149</td>\n",
       "    </tr>\n",
       "  </tbody>\n",
       "</table>\n",
       "</div>"
      ],
      "text/plain": [
       "   Unnamed: 0          SP         WT\n",
       "0           1  104.185353  28.762059\n",
       "1           2  105.461264  30.466833\n",
       "2           3  105.461264  30.193597\n",
       "3           4  113.461264  30.632114\n",
       "4           5  104.461264  29.889149"
      ]
     },
     "execution_count": 14,
     "metadata": {},
     "output_type": "execute_result"
    }
   ],
   "source": [
    "df=pd.read_csv(\"H:/ExcelR Data Science/datasets_BA/Q9_b.csv\")\n",
    "df.head()"
   ]
  },
  {
   "cell_type": "code",
   "execution_count": 17,
   "metadata": {},
   "outputs": [
    {
     "name": "stdout",
     "output_type": "stream",
     "text": [
      "The skewness of SP distribution is 1.6114501961773555 and WT distribution is -0.6147533255357768\n",
      "\n",
      "\n",
      "The kurtosis of SP distribution is 2.9773289437871764 and WT distribution is 0.9502914910300326\n"
     ]
    }
   ],
   "source": [
    "# CALCULATING KURTOSIS AND SKEWNESS FOR SP and WT\n",
    "SP_sk=df['SP'].skew()\n",
    "SP_kt=df['SP'].kurtosis()\n",
    "WT_sk=df['WT'].skew()\n",
    "WT_kt=df['WT'].kurtosis()\n",
    "print(\"The skewness of SP distribution is {} and WT distribution is {}\".format(SP_sk,WT_sk))\n",
    "print(\"\\n\")\n",
    "print(\"The kurtosis of SP distribution is {} and WT distribution is {}\".format(SP_kt,WT_kt))"
   ]
  },
  {
   "cell_type": "markdown",
   "metadata": {},
   "source": [
    "## INFERENCES:\n",
    "+ SP distribution is positively skewed while WT distribution is negatively skewed.\n",
    "+ Kurtosis for both is less than 3 so distributions are platykurtic."
   ]
  },
  {
   "cell_type": "markdown",
   "metadata": {},
   "source": [
    "## Question 10\n",
    "### Draw inferences about the following boxplot & histogram"
   ]
  },
  {
   "attachments": {
    "image.png": {
     "image/png": "[encoded data removed]"
    }
   },
   "cell_type": "markdown",
   "metadata": {},
   "source": [
    "![image.png](attachment:image.png)\n",
    "\n",
    "From the histogram we can see that: \n",
    "\n",
    "1. mode is between 50-100\n",
    "2. median is approx 200\n",
    "3. As mode is less than median, the above distribution is positively skewed"
   ]
  },
  {
   "attachments": {
    "image.png": {
     "image/png": "[encoded data removed]"
    }
   },
   "cell_type": "markdown",
   "metadata": {},
   "source": [
    "![image.png](attachment:image.png)\n",
    "### The boxplot is negatively skewed (left skewed) "
   ]
  },
  {
   "cell_type": "markdown",
   "metadata": {},
   "source": [
    "## Question-11\n",
    "### Suppose we want to estimate the average weight of an adult male in    Mexico. We draw a random sample of 2,000 men from a population of 3,000,000 men and weigh them. We find that the average person in our sample weighs 200 pounds, and the standard deviation of the sample is 30 pounds. Calculate 94%,98%,96% confidence interval?\n",
    "\n",
    "Here : n=2000 , sample_average=200 , sample_std= 30\n",
    " C.I=94% , alpha=0.06\n",
    " C.I=98% , alpha=0.02\n",
    " C.I=96% , alpha=0.04"
   ]
  },
  {
   "cell_type": "code",
   "execution_count": 20,
   "metadata": {},
   "outputs": [
    {
     "data": {
      "text/plain": [
       "0.6708203932499369"
      ]
     },
     "execution_count": 20,
     "metadata": {},
     "output_type": "execute_result"
    }
   ],
   "source": [
    "standard_error=30/np.sqrt(2000)\n",
    "standard_error"
   ]
  },
  {
   "cell_type": "code",
   "execution_count": 25,
   "metadata": {},
   "outputs": [
    {
     "name": "stdout",
     "output_type": "stream",
     "text": [
      "We are 94% confident that average age of an adult male is between: (198.73798748893051, 201.26201251106949)\n"
     ]
    }
   ],
   "source": [
    "## 94% CI\n",
    "age_94 = stats.norm.interval(0.94,loc =200,scale =0.671)\n",
    "print(\"We are 94% confident that average age of an adult male is between:\",age_94)"
   ]
  },
  {
   "cell_type": "code",
   "execution_count": 27,
   "metadata": {},
   "outputs": [
    {
     "name": "stdout",
     "output_type": "stream",
     "text": [
      "We are 96% confident that average age of an adult male is between: (198.62193448096605, 201.37806551903395)\n"
     ]
    }
   ],
   "source": [
    "## 96% CI\n",
    "age_96 = stats.norm.interval(0.96,loc =200,scale =0.671)\n",
    "print(\"We are 96% confident that average age of an adult male is between:\",age_96)"
   ]
  },
  {
   "cell_type": "code",
   "execution_count": 28,
   "metadata": {},
   "outputs": [
    {
     "name": "stdout",
     "output_type": "stream",
     "text": [
      "We are 98% confident that average age of an adult male is between: (198.4390205765186, 201.5609794234814)\n"
     ]
    }
   ],
   "source": [
    "## 98% C.I\n",
    "age_98 = stats.norm.interval(0.98,loc =200,scale =0.671)\n",
    "print(\"We are 98% confident that average age of an adult male is between:\",age_98)"
   ]
  },
  {
   "cell_type": "markdown",
   "metadata": {},
   "source": [
    "## Question 12\n",
    "### Below are the scores obtained by a student in tests :\n",
    "### 34,36,36,38,38,39,39,40,40,41,41,41,41,42,42,45,49,56\n",
    "\n",
    "    a.Find mean, median, variance, standard deviation\n",
    "    b.What can we say about the student marks? "
   ]
  },
  {
   "cell_type": "code",
   "execution_count": 29,
   "metadata": {},
   "outputs": [
    {
     "name": "stdout",
     "output_type": "stream",
     "text": [
      "mean is: 41.0\n",
      "median is: 40.5\n",
      "standard deviation is: 4.910306620885412\n",
      "variance is: 24.11111111111111\n",
      "mode is: ModeResult(mode=array([41]), count=array([4]))\n"
     ]
    }
   ],
   "source": [
    "## a\n",
    "s1=np.array([34,36,36,38,38,39,39,40,40,41,41,41,41,42,42,45,49,56])\n",
    "avg=s1.mean()\n",
    "med=np.median(s1)\n",
    "stan_dev=np.std(s1)\n",
    "mode_a=stats.mode(s1)\n",
    "print(\"mean is:\",avg)\n",
    "print(\"median is:\",med)\n",
    "print(\"standard deviation is:\",stan_dev)\n",
    "print(\"variance is:\",(stan_dev**2))\n",
    "print(\"mode is:\",mode_a)"
   ]
  },
  {
   "cell_type": "markdown",
   "metadata": {},
   "source": [
    "b.Insights drawn from student marks:\n",
    "+ Average marks obtained was 41 with the spread around 5.\n",
    "+ The median is 40.5 i.e 50% of students scored below 40.5 and rest 50% scored above 40.5\n"
   ]
  },
  {
   "cell_type": "markdown",
   "metadata": {},
   "source": [
    "## Question 13 \n",
    "### What is the nature of skewness when mean, median of data are equal?\n",
    "The skewness is 0 when mean=median=mode\n",
    "\n",
    "## Question 14\n",
    "### What is the nature of skewness when mean > median ?\n",
    "The distribution is positively skewed when mean>median\n",
    "\n",
    "## Question 15\n",
    "### What is the nature of skewness when median > mean?\n",
    "Distribution is negatively skewed when median>mean\n",
    "\n",
    "## Question 16\n",
    "### What does positive kurtosis value indicates for a data ? \n",
    "A distribution with a positive kurtosis value indicates that the distribution has heavier tails than the normal distribution. \n",
    "\n",
    "## Question 17\n",
    "### What does negative kurtosis value indicates for a data?\n",
    "A distribution with a negative kurtosis value indicates that the distribution has lighter tails than the normal distribution.\n"
   ]
  },
  {
   "attachments": {
    "image.png": {
     "image/png": "[encoded data removed]"
    }
   },
   "cell_type": "markdown",
   "metadata": {},
   "source": [
    "## Question 18\n",
    "### Answer the below questions using the below boxplot visualization.\n",
    "![image.png](attachment:image.png)\n",
    "1. What can we say about the distribution of the data?\n",
    "2. What is nature of skewness of the data?\n",
    "3. What will be the IQR of the data (approximately)? "
   ]
  },
  {
   "cell_type": "markdown",
   "metadata": {},
   "source": [
    "1. The data has a range from approx 1 to 19.There are no outliers present in the data.\n",
    "2. The data is negatively skewed or left skewed.\n",
    "3. Q1(approx)=10 , Q3(approx)=18\n",
    "    So IQR=Q3-Q1=8(approx)"
   ]
  },
  {
   "attachments": {
    "image.png": {
     "image/png": "[encoded data removed]"
    }
   },
   "cell_type": "markdown",
   "metadata": {},
   "source": [
    "## Question 19\n",
    "### Comment on the below Boxplot visualizations\n",
    "![image.png](attachment:image.png)"
   ]
  },
  {
   "cell_type": "markdown",
   "metadata": {},
   "source": [
    "+ Data 1 and data 2 both have the same median values(~262.5).\n",
    "+ Both datasets are symmetrically distributed as evident from the nature of their boxplots.\n",
    "+ The variation in dataset 1 is less compared to dataset 2. Dataset 1 is spread over a smaller range compared to dataset 2 whose range is wider.\n"
   ]
  },
  {
   "cell_type": "markdown",
   "metadata": {},
   "source": [
    "## Question 20\n",
    "### Calculate probability from the given dataset for the below cases"
   ]
  },
  {
   "cell_type": "code",
   "execution_count": 23,
   "metadata": {},
   "outputs": [
    {
     "data": {
      "text/html": [
       "<div>\n",
       "<style scoped>\n",
       "    .dataframe tbody tr th:only-of-type {\n",
       "        vertical-align: middle;\n",
       "    }\n",
       "\n",
       "    .dataframe tbody tr th {\n",
       "        vertical-align: top;\n",
       "    }\n",
       "\n",
       "    .dataframe thead th {\n",
       "        text-align: right;\n",
       "    }\n",
       "</style>\n",
       "<table border=\"1\" class=\"dataframe\">\n",
       "  <thead>\n",
       "    <tr style=\"text-align: right;\">\n",
       "      <th></th>\n",
       "      <th>HP</th>\n",
       "      <th>MPG</th>\n",
       "      <th>VOL</th>\n",
       "      <th>SP</th>\n",
       "      <th>WT</th>\n",
       "    </tr>\n",
       "  </thead>\n",
       "  <tbody>\n",
       "    <tr>\n",
       "      <th>0</th>\n",
       "      <td>49</td>\n",
       "      <td>53.700681</td>\n",
       "      <td>89</td>\n",
       "      <td>104.185353</td>\n",
       "      <td>28.762059</td>\n",
       "    </tr>\n",
       "    <tr>\n",
       "      <th>1</th>\n",
       "      <td>55</td>\n",
       "      <td>50.013401</td>\n",
       "      <td>92</td>\n",
       "      <td>105.461264</td>\n",
       "      <td>30.466833</td>\n",
       "    </tr>\n",
       "    <tr>\n",
       "      <th>2</th>\n",
       "      <td>55</td>\n",
       "      <td>50.013401</td>\n",
       "      <td>92</td>\n",
       "      <td>105.461264</td>\n",
       "      <td>30.193597</td>\n",
       "    </tr>\n",
       "    <tr>\n",
       "      <th>3</th>\n",
       "      <td>70</td>\n",
       "      <td>45.696322</td>\n",
       "      <td>92</td>\n",
       "      <td>113.461264</td>\n",
       "      <td>30.632114</td>\n",
       "    </tr>\n",
       "    <tr>\n",
       "      <th>4</th>\n",
       "      <td>53</td>\n",
       "      <td>50.504232</td>\n",
       "      <td>92</td>\n",
       "      <td>104.461264</td>\n",
       "      <td>29.889149</td>\n",
       "    </tr>\n",
       "  </tbody>\n",
       "</table>\n",
       "</div>"
      ],
      "text/plain": [
       "   HP        MPG  VOL          SP         WT\n",
       "0  49  53.700681   89  104.185353  28.762059\n",
       "1  55  50.013401   92  105.461264  30.466833\n",
       "2  55  50.013401   92  105.461264  30.193597\n",
       "3  70  45.696322   92  113.461264  30.632114\n",
       "4  53  50.504232   92  104.461264  29.889149"
      ]
     },
     "execution_count": 23,
     "metadata": {},
     "output_type": "execute_result"
    }
   ],
   "source": [
    "df=pd.read_csv(\"H:/ExcelR Data Science/datasets_BA/Cars.csv\")\n",
    "df.head()"
   ]
  },
  {
   "cell_type": "code",
   "execution_count": 24,
   "metadata": {},
   "outputs": [
    {
     "data": {
      "text/html": [
       "<div>\n",
       "<style scoped>\n",
       "    .dataframe tbody tr th:only-of-type {\n",
       "        vertical-align: middle;\n",
       "    }\n",
       "\n",
       "    .dataframe tbody tr th {\n",
       "        vertical-align: top;\n",
       "    }\n",
       "\n",
       "    .dataframe thead th {\n",
       "        text-align: right;\n",
       "    }\n",
       "</style>\n",
       "<table border=\"1\" class=\"dataframe\">\n",
       "  <thead>\n",
       "    <tr style=\"text-align: right;\">\n",
       "      <th></th>\n",
       "      <th>HP</th>\n",
       "      <th>MPG</th>\n",
       "      <th>VOL</th>\n",
       "      <th>SP</th>\n",
       "      <th>WT</th>\n",
       "    </tr>\n",
       "  </thead>\n",
       "  <tbody>\n",
       "    <tr>\n",
       "      <th>count</th>\n",
       "      <td>81.000000</td>\n",
       "      <td>81.000000</td>\n",
       "      <td>81.000000</td>\n",
       "      <td>81.000000</td>\n",
       "      <td>81.000000</td>\n",
       "    </tr>\n",
       "    <tr>\n",
       "      <th>mean</th>\n",
       "      <td>117.469136</td>\n",
       "      <td>34.422076</td>\n",
       "      <td>98.765432</td>\n",
       "      <td>121.540272</td>\n",
       "      <td>32.412577</td>\n",
       "    </tr>\n",
       "    <tr>\n",
       "      <th>std</th>\n",
       "      <td>57.113502</td>\n",
       "      <td>9.131445</td>\n",
       "      <td>22.301497</td>\n",
       "      <td>14.181432</td>\n",
       "      <td>7.492813</td>\n",
       "    </tr>\n",
       "    <tr>\n",
       "      <th>min</th>\n",
       "      <td>49.000000</td>\n",
       "      <td>12.101263</td>\n",
       "      <td>50.000000</td>\n",
       "      <td>99.564907</td>\n",
       "      <td>15.712859</td>\n",
       "    </tr>\n",
       "    <tr>\n",
       "      <th>25%</th>\n",
       "      <td>84.000000</td>\n",
       "      <td>27.856252</td>\n",
       "      <td>89.000000</td>\n",
       "      <td>113.829145</td>\n",
       "      <td>29.591768</td>\n",
       "    </tr>\n",
       "    <tr>\n",
       "      <th>50%</th>\n",
       "      <td>100.000000</td>\n",
       "      <td>35.152727</td>\n",
       "      <td>101.000000</td>\n",
       "      <td>118.208698</td>\n",
       "      <td>32.734518</td>\n",
       "    </tr>\n",
       "    <tr>\n",
       "      <th>75%</th>\n",
       "      <td>140.000000</td>\n",
       "      <td>39.531633</td>\n",
       "      <td>113.000000</td>\n",
       "      <td>126.404312</td>\n",
       "      <td>37.392524</td>\n",
       "    </tr>\n",
       "    <tr>\n",
       "      <th>max</th>\n",
       "      <td>322.000000</td>\n",
       "      <td>53.700681</td>\n",
       "      <td>160.000000</td>\n",
       "      <td>169.598513</td>\n",
       "      <td>52.997752</td>\n",
       "    </tr>\n",
       "  </tbody>\n",
       "</table>\n",
       "</div>"
      ],
      "text/plain": [
       "               HP        MPG         VOL          SP         WT\n",
       "count   81.000000  81.000000   81.000000   81.000000  81.000000\n",
       "mean   117.469136  34.422076   98.765432  121.540272  32.412577\n",
       "std     57.113502   9.131445   22.301497   14.181432   7.492813\n",
       "min     49.000000  12.101263   50.000000   99.564907  15.712859\n",
       "25%     84.000000  27.856252   89.000000  113.829145  29.591768\n",
       "50%    100.000000  35.152727  101.000000  118.208698  32.734518\n",
       "75%    140.000000  39.531633  113.000000  126.404312  37.392524\n",
       "max    322.000000  53.700681  160.000000  169.598513  52.997752"
      ]
     },
     "execution_count": 24,
     "metadata": {},
     "output_type": "execute_result"
    }
   ],
   "source": [
    "df.describe()"
   ]
  },
  {
   "cell_type": "code",
   "execution_count": 25,
   "metadata": {},
   "outputs": [],
   "source": [
    "mean_mpg=df['MPG'].mean()\n",
    "std_mpg=df['MPG'].std()"
   ]
  },
  {
   "cell_type": "code",
   "execution_count": 26,
   "metadata": {},
   "outputs": [
    {
     "name": "stdout",
     "output_type": "stream",
     "text": [
      "Probability of MPG> 38 is: 0.3475939251582705\n"
     ]
    }
   ],
   "source": [
    "## P(MPG>38)\n",
    "print(\"Probability of MPG> 38 is:\",1-stats.norm.cdf(38,loc=mean_mpg,scale=std_mpg))"
   ]
  },
  {
   "cell_type": "code",
   "execution_count": 27,
   "metadata": {},
   "outputs": [
    {
     "name": "stdout",
     "output_type": "stream",
     "text": [
      "probability of MPG < 40: 0.7293498762151616\n"
     ]
    }
   ],
   "source": [
    "## P(MPG<40)\n",
    "print('probability of MPG < 40:',stats.norm.cdf(40,loc=mean_mpg,scale=std_mpg))"
   ]
  },
  {
   "cell_type": "code",
   "execution_count": 28,
   "metadata": {},
   "outputs": [
    {
     "name": "stdout",
     "output_type": "stream",
     "text": [
      "Probability of 20<MPG<50 is: 0.8988689169682046\n"
     ]
    }
   ],
   "source": [
    "#P(20<MPG<50)\n",
    "prob=stats.norm.cdf(50,loc=mean_mpg,scale=std_mpg)-stats.norm.cdf(20,loc=mean_mpg,scale=std_mpg)\n",
    "print(\"Probability of 20<MPG<50 is:\",prob)"
   ]
  },
  {
   "cell_type": "markdown",
   "metadata": {},
   "source": [
    "## Question 21\n",
    "### a) Check whether the MPG of Cars follows Normal Distribution Dataset: Cars.csv"
   ]
  },
  {
   "cell_type": "code",
   "execution_count": 29,
   "metadata": {},
   "outputs": [
    {
     "name": "stderr",
     "output_type": "stream",
     "text": [
      "H:\\anaconda\\lib\\site-packages\\seaborn\\distributions.py:2557: FutureWarning: `distplot` is a deprecated function and will be removed in a future version. Please adapt your code to use either `displot` (a figure-level function with similar flexibility) or `histplot` (an axes-level function for histograms).\n",
      "  warnings.warn(msg, FutureWarning)\n"
     ]
    },
    {
     "data": {
      "image/png": "[encoded data removed]",
      "text/plain": [
       "<Figure size 432x288 with 1 Axes>"
      ]
     },
     "metadata": {
      "needs_background": "light"
     },
     "output_type": "display_data"
    }
   ],
   "source": [
    "ax = sns.distplot(df['MPG'],)\n",
    "plt.legend([\"Distribution graph of MPG\"],loc='upper left',facecolor='yellow',edgecolor='blue')\n",
    "plt.show()"
   ]
  },
  {
   "cell_type": "markdown",
   "metadata": {},
   "source": [
    "###    MPG data follows a normal distribution"
   ]
  },
  {
   "cell_type": "markdown",
   "metadata": {},
   "source": [
    "## Question 21(b)\n",
    "### Check Whether the Adipose Tissue (AT) and Waist Circumference(Waist)  from wc-at data set  follows Normal Distribution Dataset: wc-at.csv"
   ]
  },
  {
   "cell_type": "code",
   "execution_count": 19,
   "metadata": {},
   "outputs": [
    {
     "data": {
      "text/html": [
       "<div>\n",
       "<style scoped>\n",
       "    .dataframe tbody tr th:only-of-type {\n",
       "        vertical-align: middle;\n",
       "    }\n",
       "\n",
       "    .dataframe tbody tr th {\n",
       "        vertical-align: top;\n",
       "    }\n",
       "\n",
       "    .dataframe thead th {\n",
       "        text-align: right;\n",
       "    }\n",
       "</style>\n",
       "<table border=\"1\" class=\"dataframe\">\n",
       "  <thead>\n",
       "    <tr style=\"text-align: right;\">\n",
       "      <th></th>\n",
       "      <th>Waist</th>\n",
       "      <th>AT</th>\n",
       "    </tr>\n",
       "  </thead>\n",
       "  <tbody>\n",
       "    <tr>\n",
       "      <th>0</th>\n",
       "      <td>74.75</td>\n",
       "      <td>25.72</td>\n",
       "    </tr>\n",
       "    <tr>\n",
       "      <th>1</th>\n",
       "      <td>72.60</td>\n",
       "      <td>25.89</td>\n",
       "    </tr>\n",
       "    <tr>\n",
       "      <th>2</th>\n",
       "      <td>81.80</td>\n",
       "      <td>42.60</td>\n",
       "    </tr>\n",
       "    <tr>\n",
       "      <th>3</th>\n",
       "      <td>83.95</td>\n",
       "      <td>42.80</td>\n",
       "    </tr>\n",
       "    <tr>\n",
       "      <th>4</th>\n",
       "      <td>74.65</td>\n",
       "      <td>29.84</td>\n",
       "    </tr>\n",
       "  </tbody>\n",
       "</table>\n",
       "</div>"
      ],
      "text/plain": [
       "   Waist     AT\n",
       "0  74.75  25.72\n",
       "1  72.60  25.89\n",
       "2  81.80  42.60\n",
       "3  83.95  42.80\n",
       "4  74.65  29.84"
      ]
     },
     "execution_count": 19,
     "metadata": {},
     "output_type": "execute_result"
    }
   ],
   "source": [
    "df=pd.read_csv(\"H:/ExcelR Data Science/datasets_BA/wc-at.csv\")\n",
    "df.head()"
   ]
  },
  {
   "cell_type": "code",
   "execution_count": 20,
   "metadata": {},
   "outputs": [
    {
     "name": "stderr",
     "output_type": "stream",
     "text": [
      "H:\\anaconda\\lib\\site-packages\\seaborn\\distributions.py:2557: FutureWarning: `distplot` is a deprecated function and will be removed in a future version. Please adapt your code to use either `displot` (a figure-level function with similar flexibility) or `histplot` (an axes-level function for histograms).\n",
      "  warnings.warn(msg, FutureWarning)\n"
     ]
    },
    {
     "data": {
      "image/png": "[encoded data removed]",
      "text/plain": [
       "<Figure size 432x288 with 1 Axes>"
      ]
     },
     "metadata": {
      "needs_background": "light"
     },
     "output_type": "display_data"
    }
   ],
   "source": [
    "## Checking whether Waist is normally distributed\n",
    "ax = sns.distplot(df['Waist'],)\n",
    "plt.legend([\"Distribution graph of Waist\"],loc='upper left',facecolor='yellow',edgecolor='blue')\n",
    "plt.show()"
   ]
  },
  {
   "cell_type": "markdown",
   "metadata": {},
   "source": [
    "###    Waist data does not follow normal distribution"
   ]
  },
  {
   "cell_type": "code",
   "execution_count": 21,
   "metadata": {},
   "outputs": [
    {
     "name": "stderr",
     "output_type": "stream",
     "text": [
      "H:\\anaconda\\lib\\site-packages\\seaborn\\distributions.py:2557: FutureWarning: `distplot` is a deprecated function and will be removed in a future version. Please adapt your code to use either `displot` (a figure-level function with similar flexibility) or `histplot` (an axes-level function for histograms).\n",
      "  warnings.warn(msg, FutureWarning)\n"
     ]
    },
    {
     "data": {
      "image/png": "[encoded data removed]",
      "text/plain": [
       "<Figure size 432x288 with 1 Axes>"
      ]
     },
     "metadata": {
      "needs_background": "light"
     },
     "output_type": "display_data"
    }
   ],
   "source": [
    "## Checking whether AT is normally distributed\n",
    "ax = sns.distplot(df['AT'],)\n",
    "plt.legend([\"Distribution graph of AT\"],loc='upper left',facecolor='yellow',edgecolor='blue')\n",
    "plt.show()"
   ]
  },
  {
   "cell_type": "markdown",
   "metadata": {},
   "source": [
    "###   AT data does not follow normal distribution"
   ]
  },
  {
   "cell_type": "markdown",
   "metadata": {},
   "source": [
    "## Question 22\n",
    "### Calculate the Z scores of  90% confidence interval,94% confidence interval, 60% confidence interval "
   ]
  },
  {
   "cell_type": "code",
   "execution_count": 38,
   "metadata": {},
   "outputs": [
    {
     "name": "stdout",
     "output_type": "stream",
     "text": [
      "Z-score of 90% C.I is: 1.6448536269514722\n",
      "Z-score of 94% C.I is: 1.8807936081512509\n",
      "Z-score of 60% C.I is: 0.8416212335729143\n"
     ]
    }
   ],
   "source": [
    "z_90=stats.norm.ppf(0.95,loc=0,scale=1)\n",
    "z_94=stats.norm.ppf(0.97,loc=0,scale=1)\n",
    "z_60=stats.norm.ppf(0.80,loc=0,scale=1)\n",
    "print(\"Z-score of 90% C.I is:\",z_90)\n",
    "print(\"Z-score of 94% C.I is:\",z_94)\n",
    "print(\"Z-score of 60% C.I is:\",z_60)"
   ]
  },
  {
   "cell_type": "markdown",
   "metadata": {},
   "source": [
    "## Question 23\n",
    "### Calculate the t scores of 95% confidence interval, 96% confidence interval, 99% confidence interval for sample size of 25"
   ]
  },
  {
   "cell_type": "code",
   "execution_count": 42,
   "metadata": {},
   "outputs": [
    {
     "name": "stdout",
     "output_type": "stream",
     "text": [
      "T-score of 95% C.I is: 2.0638985616280205\n",
      "T-score of 96% C.I is: 2.1715446760080677\n",
      "T-score of 99% C.I is: 2.796939504772804\n"
     ]
    }
   ],
   "source": [
    "t_95=stats.t.ppf(0.975,df=24)\n",
    "t_96=stats.t.ppf(0.98,df=24)\n",
    "t_99=stats.t.ppf(0.995,df=24)\n",
    "print(\"T-score of 95% C.I is:\",t_95)\n",
    "print(\"T-score of 96% C.I is:\",t_96)\n",
    "print(\"T-score of 99% C.I is:\",t_99)"
   ]
  },
  {
   "cell_type": "markdown",
   "metadata": {},
   "source": [
    "## Question 24 \n",
    "### A Government  company claims that an average light bulb lasts 270 days. A researcher randomly selects 18 bulbs for testing. The sampled bulbs last an average of 260 days, with a standard deviation of 90 days. If the CEO's claim were true, what is the probability that 18 randomly selected bulbs would have an average life of no more than 260 days"
   ]
  },
  {
   "cell_type": "code",
   "execution_count": 3,
   "metadata": {},
   "outputs": [
    {
     "name": "stdout",
     "output_type": "stream",
     "text": [
      "T-score is: -0.4714045207910317\n",
      "Corresponding probability is: 0.32167253567098364\n"
     ]
    }
   ],
   "source": [
    "pop_mean=270\n",
    "n=18\n",
    "samp_mean=260\n",
    "samp_std=90\n",
    "t_value=(samp_mean-pop_mean)/(samp_std/np.sqrt(n))\n",
    "prob=stats.t.cdf(t_value,df=17)\n",
    "print(\"T-score is:\",t_value)\n",
    "print(\"Corresponding probability is:\",prob)"
   ]
  },
  {
   "cell_type": "code",
   "execution_count": null,
   "metadata": {},
   "outputs": [],
   "source": []
  }
 ],
 "metadata": {
  "kernelspec": {
   "display_name": "Python 3 (ipykernel)",
   "language": "python",
   "name": "python3"
  },
  "language_info": {
   "codemirror_mode": {
    "name": "ipython",
    "version": 3
   },
   "file_extension": ".py",
   "mimetype": "text/x-python",
   "name": "python",
   "nbconvert_exporter": "python",
   "pygments_lexer": "ipython3",
   "version": "3.9.12"
  }
 },
 "nbformat": 4,
 "nbformat_minor": 4
}
