{
 "cells": [
  {
   "cell_type": "markdown",
   "metadata": {},
   "source": [
    "### Prepare rules for the all the data sets \n",
    "1. Try different values of support and confidence. Observe the change in number of rules for different support,confidence values\n",
    "2. Change the minimum length in apriori algorithm\n",
    "3. Visualize the obtained rules using different plots \n"
   ]
  },
  {
   "cell_type": "code",
   "execution_count": 1,
   "metadata": {},
   "outputs": [],
   "source": [
    "import pandas as pd\n",
    "import numpy as np\n",
    "import matplotlib.pyplot as plt\n",
    "import seaborn as sns\n",
    "from mlxtend.frequent_patterns import apriori,association_rules\n",
    "from mlxtend.preprocessing import TransactionEncoder\n"
   ]
  },
  {
   "cell_type": "code",
   "execution_count": 2,
   "metadata": {},
   "outputs": [
    {
     "data": {
      "text/html": [
       "<div>\n",
       "<style scoped>\n",
       "    .dataframe tbody tr th:only-of-type {\n",
       "        vertical-align: middle;\n",
       "    }\n",
       "\n",
       "    .dataframe tbody tr th {\n",
       "        vertical-align: top;\n",
       "    }\n",
       "\n",
       "    .dataframe thead th {\n",
       "        text-align: right;\n",
       "    }\n",
       "</style>\n",
       "<table border=\"1\" class=\"dataframe\">\n",
       "  <thead>\n",
       "    <tr style=\"text-align: right;\">\n",
       "      <th></th>\n",
       "      <th>ChildBks</th>\n",
       "      <th>YouthBks</th>\n",
       "      <th>CookBks</th>\n",
       "      <th>DoItYBks</th>\n",
       "      <th>RefBks</th>\n",
       "      <th>ArtBks</th>\n",
       "      <th>GeogBks</th>\n",
       "      <th>ItalCook</th>\n",
       "      <th>ItalAtlas</th>\n",
       "      <th>ItalArt</th>\n",
       "      <th>Florence</th>\n",
       "    </tr>\n",
       "  </thead>\n",
       "  <tbody>\n",
       "    <tr>\n",
       "      <th>0</th>\n",
       "      <td>0</td>\n",
       "      <td>1</td>\n",
       "      <td>0</td>\n",
       "      <td>1</td>\n",
       "      <td>0</td>\n",
       "      <td>0</td>\n",
       "      <td>1</td>\n",
       "      <td>0</td>\n",
       "      <td>0</td>\n",
       "      <td>0</td>\n",
       "      <td>0</td>\n",
       "    </tr>\n",
       "    <tr>\n",
       "      <th>1</th>\n",
       "      <td>1</td>\n",
       "      <td>0</td>\n",
       "      <td>0</td>\n",
       "      <td>0</td>\n",
       "      <td>0</td>\n",
       "      <td>0</td>\n",
       "      <td>0</td>\n",
       "      <td>0</td>\n",
       "      <td>0</td>\n",
       "      <td>0</td>\n",
       "      <td>0</td>\n",
       "    </tr>\n",
       "    <tr>\n",
       "      <th>2</th>\n",
       "      <td>0</td>\n",
       "      <td>0</td>\n",
       "      <td>0</td>\n",
       "      <td>0</td>\n",
       "      <td>0</td>\n",
       "      <td>0</td>\n",
       "      <td>0</td>\n",
       "      <td>0</td>\n",
       "      <td>0</td>\n",
       "      <td>0</td>\n",
       "      <td>0</td>\n",
       "    </tr>\n",
       "    <tr>\n",
       "      <th>3</th>\n",
       "      <td>1</td>\n",
       "      <td>1</td>\n",
       "      <td>1</td>\n",
       "      <td>0</td>\n",
       "      <td>1</td>\n",
       "      <td>0</td>\n",
       "      <td>1</td>\n",
       "      <td>0</td>\n",
       "      <td>0</td>\n",
       "      <td>0</td>\n",
       "      <td>0</td>\n",
       "    </tr>\n",
       "    <tr>\n",
       "      <th>4</th>\n",
       "      <td>0</td>\n",
       "      <td>0</td>\n",
       "      <td>1</td>\n",
       "      <td>0</td>\n",
       "      <td>0</td>\n",
       "      <td>0</td>\n",
       "      <td>1</td>\n",
       "      <td>0</td>\n",
       "      <td>0</td>\n",
       "      <td>0</td>\n",
       "      <td>0</td>\n",
       "    </tr>\n",
       "  </tbody>\n",
       "</table>\n",
       "</div>"
      ],
      "text/plain": [
       "   ChildBks  YouthBks  CookBks  DoItYBks  RefBks  ArtBks  GeogBks  ItalCook  \\\n",
       "0         0         1        0         1       0       0        1         0   \n",
       "1         1         0        0         0       0       0        0         0   \n",
       "2         0         0        0         0       0       0        0         0   \n",
       "3         1         1        1         0       1       0        1         0   \n",
       "4         0         0        1         0       0       0        1         0   \n",
       "\n",
       "   ItalAtlas  ItalArt  Florence  \n",
       "0          0        0         0  \n",
       "1          0        0         0  \n",
       "2          0        0         0  \n",
       "3          0        0         0  \n",
       "4          0        0         0  "
      ]
     },
     "execution_count": 2,
     "metadata": {},
     "output_type": "execute_result"
    }
   ],
   "source": [
    "df = pd.read_csv(\"H:/ExcelR Data Science/datasets_BA/book.csv\")\n",
    "df.head()"
   ]
  },
  {
   "cell_type": "code",
   "execution_count": 3,
   "metadata": {},
   "outputs": [
    {
     "data": {
      "text/plain": [
       "(2000, 11)"
      ]
     },
     "execution_count": 3,
     "metadata": {},
     "output_type": "execute_result"
    }
   ],
   "source": [
    "df.shape"
   ]
  },
  {
   "cell_type": "code",
   "execution_count": 4,
   "metadata": {},
   "outputs": [
    {
     "data": {
      "text/plain": [
       "ChildBks     846\n",
       "YouthBks     495\n",
       "CookBks      862\n",
       "DoItYBks     564\n",
       "RefBks       429\n",
       "ArtBks       482\n",
       "GeogBks      552\n",
       "ItalCook     227\n",
       "ItalAtlas     74\n",
       "ItalArt       97\n",
       "Florence     217\n",
       "dtype: int64"
      ]
     },
     "execution_count": 4,
     "metadata": {},
     "output_type": "execute_result"
    }
   ],
   "source": [
    "# creating total of each item bought\n",
    "s=df.sum()\n",
    "s"
   ]
  },
  {
   "cell_type": "code",
   "execution_count": 5,
   "metadata": {},
   "outputs": [
    {
     "data": {
      "text/plain": [
       "<matplotlib.axes._subplots.AxesSubplot at 0x1a88dce8a30>"
      ]
     },
     "execution_count": 5,
     "metadata": {},
     "output_type": "execute_result"
    },
    {
     "data": {
      "image/png": "[encoded data removed]",
      "text/plain": [
       "<Figure size 432x288 with 1 Axes>"
      ]
     },
     "metadata": {
      "needs_background": "light"
     },
     "output_type": "display_data"
    }
   ],
   "source": [
    "s.plot.bar()"
   ]
  },
  {
   "cell_type": "markdown",
   "metadata": {},
   "source": [
    "The top three books bought by customers according to transaction record are: ChildBks, CookBks,GeogBks"
   ]
  },
  {
   "cell_type": "markdown",
   "metadata": {},
   "source": [
    "### 1. Apriori algorithm with iterating support values and keeping min confidence=0.5"
   ]
  },
  {
   "cell_type": "code",
   "execution_count": 6,
   "metadata": {},
   "outputs": [
    {
     "name": "stdout",
     "output_type": "stream",
     "text": [
      "Number of iterations: 41\n"
     ]
    }
   ],
   "source": [
    "min_support=[]\n",
    "len_rules=[]\n",
    "itemset=[]\n",
    "i=0\n",
    "\n",
    "for s in np.arange(0.01,0.420,0.010):\n",
    "    frequent_item = apriori(df, min_support=s, use_colnames=True)\n",
    "    rules = association_rules(frequent_item, metric=\"confidence\", min_threshold=0.5)\n",
    "    item_length=len(frequent_item)\n",
    "    rule_length=len(rules)\n",
    "    min_support.append(s)\n",
    "    len_rules.append(rule_length)\n",
    "    itemset.append(item_length)\n",
    "    i=i+1\n",
    "    \n",
    "print(\"Number of iterations:\",i)"
   ]
  },
  {
   "cell_type": "code",
   "execution_count": 7,
   "metadata": {},
   "outputs": [
    {
     "data": {
      "text/html": [
       "<div>\n",
       "<style scoped>\n",
       "    .dataframe tbody tr th:only-of-type {\n",
       "        vertical-align: middle;\n",
       "    }\n",
       "\n",
       "    .dataframe tbody tr th {\n",
       "        vertical-align: top;\n",
       "    }\n",
       "\n",
       "    .dataframe thead th {\n",
       "        text-align: right;\n",
       "    }\n",
       "</style>\n",
       "<table border=\"1\" class=\"dataframe\">\n",
       "  <thead>\n",
       "    <tr style=\"text-align: right;\">\n",
       "      <th></th>\n",
       "      <th>Minimum support</th>\n",
       "      <th>Frequent itemsets</th>\n",
       "      <th>Association rules number</th>\n",
       "    </tr>\n",
       "  </thead>\n",
       "  <tbody>\n",
       "    <tr>\n",
       "      <th>0</th>\n",
       "      <td>0.01</td>\n",
       "      <td>594</td>\n",
       "      <td>3272</td>\n",
       "    </tr>\n",
       "    <tr>\n",
       "      <th>1</th>\n",
       "      <td>0.02</td>\n",
       "      <td>276</td>\n",
       "      <td>1004</td>\n",
       "    </tr>\n",
       "    <tr>\n",
       "      <th>2</th>\n",
       "      <td>0.03</td>\n",
       "      <td>181</td>\n",
       "      <td>558</td>\n",
       "    </tr>\n",
       "    <tr>\n",
       "      <th>3</th>\n",
       "      <td>0.04</td>\n",
       "      <td>133</td>\n",
       "      <td>372</td>\n",
       "    </tr>\n",
       "    <tr>\n",
       "      <th>4</th>\n",
       "      <td>0.05</td>\n",
       "      <td>100</td>\n",
       "      <td>260</td>\n",
       "    </tr>\n",
       "  </tbody>\n",
       "</table>\n",
       "</div>"
      ],
      "text/plain": [
       "   Minimum support  Frequent itemsets  Association rules number\n",
       "0             0.01                594                      3272\n",
       "1             0.02                276                      1004\n",
       "2             0.03                181                       558\n",
       "3             0.04                133                       372\n",
       "4             0.05                100                       260"
      ]
     },
     "execution_count": 7,
     "metadata": {},
     "output_type": "execute_result"
    }
   ],
   "source": [
    "d={'Minimum support':min_support,'Frequent itemsets':itemset,'Association rules number':len_rules}\n",
    "sup_rules=pd.DataFrame(d)\n",
    "sup_rules.head()"
   ]
  },
  {
   "cell_type": "code",
   "execution_count": 8,
   "metadata": {},
   "outputs": [
    {
     "data": {
      "text/plain": [
       "<matplotlib.axes._subplots.AxesSubplot at 0x1a88de5ab20>"
      ]
     },
     "execution_count": 8,
     "metadata": {},
     "output_type": "execute_result"
    },
    {
     "data": {
      "image/png": "[encoded data removed]",
      "text/plain": [
       "<Figure size 432x288 with 1 Axes>"
      ]
     },
     "metadata": {
      "needs_background": "light"
     },
     "output_type": "display_data"
    }
   ],
   "source": [
    "import seaborn as sns\n",
    "sns.lineplot(data=sup_rules, x=\"Minimum support\", y=\"Association rules number\")"
   ]
  },
  {
   "cell_type": "markdown",
   "metadata": {},
   "source": [
    "The above plot shows that as minimum support value increases the number of association rules formed decreases.This is because with increase in support value,the number of frequent item sets generated decreases.Less number of frequent sets means less number of rules formed."
   ]
  },
  {
   "cell_type": "markdown",
   "metadata": {},
   "source": [
    "### 2. Apriori algorithm with iterating confidence values and min support =0.01"
   ]
  },
  {
   "cell_type": "code",
   "execution_count": 9,
   "metadata": {},
   "outputs": [
    {
     "name": "stdout",
     "output_type": "stream",
     "text": [
      "Number of iterations: 37\n"
     ]
    }
   ],
   "source": [
    "min_conf=[]\n",
    "len_rules=[]\n",
    "itemset=[]\n",
    "i=0\n",
    "\n",
    "for t in np.arange(0.1,1.025,0.025):\n",
    "    frequent_item = apriori(df, min_support=0.01, use_colnames=True)\n",
    "    rules = association_rules(frequent_item, metric=\"confidence\", min_threshold=t)\n",
    "    item_length=len(frequent_item)\n",
    "    rule_length=len(rules)\n",
    "    min_conf.append(t)\n",
    "    len_rules.append(rule_length)\n",
    "    itemset.append(item_length)\n",
    "    i=i+1\n",
    "    \n",
    "print(\"Number of iterations:\",i)"
   ]
  },
  {
   "cell_type": "code",
   "execution_count": 10,
   "metadata": {},
   "outputs": [
    {
     "data": {
      "text/html": [
       "<div>\n",
       "<style scoped>\n",
       "    .dataframe tbody tr th:only-of-type {\n",
       "        vertical-align: middle;\n",
       "    }\n",
       "\n",
       "    .dataframe tbody tr th {\n",
       "        vertical-align: top;\n",
       "    }\n",
       "\n",
       "    .dataframe thead th {\n",
       "        text-align: right;\n",
       "    }\n",
       "</style>\n",
       "<table border=\"1\" class=\"dataframe\">\n",
       "  <thead>\n",
       "    <tr style=\"text-align: right;\">\n",
       "      <th></th>\n",
       "      <th>Minimum confidence</th>\n",
       "      <th>Frequent itemsets</th>\n",
       "      <th>Association rules number</th>\n",
       "    </tr>\n",
       "  </thead>\n",
       "  <tbody>\n",
       "    <tr>\n",
       "      <th>0</th>\n",
       "      <td>0.100</td>\n",
       "      <td>594</td>\n",
       "      <td>9079</td>\n",
       "    </tr>\n",
       "    <tr>\n",
       "      <th>1</th>\n",
       "      <td>0.125</td>\n",
       "      <td>594</td>\n",
       "      <td>8420</td>\n",
       "    </tr>\n",
       "    <tr>\n",
       "      <th>2</th>\n",
       "      <td>0.150</td>\n",
       "      <td>594</td>\n",
       "      <td>7926</td>\n",
       "    </tr>\n",
       "    <tr>\n",
       "      <th>3</th>\n",
       "      <td>0.175</td>\n",
       "      <td>594</td>\n",
       "      <td>7528</td>\n",
       "    </tr>\n",
       "    <tr>\n",
       "      <th>4</th>\n",
       "      <td>0.200</td>\n",
       "      <td>594</td>\n",
       "      <td>7163</td>\n",
       "    </tr>\n",
       "  </tbody>\n",
       "</table>\n",
       "</div>"
      ],
      "text/plain": [
       "   Minimum confidence  Frequent itemsets  Association rules number\n",
       "0               0.100                594                      9079\n",
       "1               0.125                594                      8420\n",
       "2               0.150                594                      7926\n",
       "3               0.175                594                      7528\n",
       "4               0.200                594                      7163"
      ]
     },
     "execution_count": 10,
     "metadata": {},
     "output_type": "execute_result"
    }
   ],
   "source": [
    "c={'Minimum confidence':min_conf,'Frequent itemsets':itemset,'Association rules number':len_rules}\n",
    "conf_rules=pd.DataFrame(c)\n",
    "conf_rules.head()"
   ]
  },
  {
   "cell_type": "code",
   "execution_count": 11,
   "metadata": {},
   "outputs": [
    {
     "data": {
      "text/plain": [
       "<matplotlib.axes._subplots.AxesSubplot at 0x1a88dd967c0>"
      ]
     },
     "execution_count": 11,
     "metadata": {},
     "output_type": "execute_result"
    },
    {
     "data": {
      "image/png": "[encoded data removed]",
      "text/plain": [
       "<Figure size 432x288 with 1 Axes>"
      ]
     },
     "metadata": {
      "needs_background": "light"
     },
     "output_type": "display_data"
    }
   ],
   "source": [
    "import seaborn as sns\n",
    "sns.lineplot(data=conf_rules, x=\"Minimum confidence\", y=\"Association rules number\")"
   ]
  },
  {
   "cell_type": "markdown",
   "metadata": {},
   "source": [
    "The graph shows that as threshold of confidence is increased,the number of association rules get decreased.This is because with higher thresholds, fewer frequent itemsets are generated as few qualify for increased threshold values."
   ]
  },
  {
   "cell_type": "markdown",
   "metadata": {},
   "source": [
    "## Changing min length in apriori algorithm and observing the changes in association rules.\n",
    "Here min support is considered as 0.01 and min confidence as 0.5"
   ]
  },
  {
   "cell_type": "code",
   "execution_count": 12,
   "metadata": {},
   "outputs": [
    {
     "name": "stdout",
     "output_type": "stream",
     "text": [
      "Number of iterations: 99\n"
     ]
    }
   ],
   "source": [
    "k_itemset=[]\n",
    "len_rules=[]\n",
    "itemset=[]\n",
    "i=0\n",
    "\n",
    "for l in range(1,100):\n",
    "    frequent_item = apriori(df, max_len=l,min_support=0.01, use_colnames=True)\n",
    "    rules = association_rules(frequent_item, metric=\"confidence\", min_threshold=0.5)\n",
    "    item_length=len(frequent_item)\n",
    "    rule_length=len(rules)\n",
    "    k_itemset.append(l)\n",
    "    len_rules.append(rule_length)\n",
    "    itemset.append(item_length)\n",
    "    i=i+1\n",
    "    \n",
    "print(\"Number of iterations:\",i)"
   ]
  },
  {
   "cell_type": "code",
   "execution_count": 13,
   "metadata": {},
   "outputs": [
    {
     "data": {
      "text/html": [
       "<div>\n",
       "<style scoped>\n",
       "    .dataframe tbody tr th:only-of-type {\n",
       "        vertical-align: middle;\n",
       "    }\n",
       "\n",
       "    .dataframe tbody tr th {\n",
       "        vertical-align: top;\n",
       "    }\n",
       "\n",
       "    .dataframe thead th {\n",
       "        text-align: right;\n",
       "    }\n",
       "</style>\n",
       "<table border=\"1\" class=\"dataframe\">\n",
       "  <thead>\n",
       "    <tr style=\"text-align: right;\">\n",
       "      <th></th>\n",
       "      <th>Length_itemset</th>\n",
       "      <th>Frequent itemsets</th>\n",
       "      <th>Association rules number</th>\n",
       "    </tr>\n",
       "  </thead>\n",
       "  <tbody>\n",
       "    <tr>\n",
       "      <th>0</th>\n",
       "      <td>1</td>\n",
       "      <td>11</td>\n",
       "      <td>0</td>\n",
       "    </tr>\n",
       "    <tr>\n",
       "      <th>1</th>\n",
       "      <td>2</td>\n",
       "      <td>65</td>\n",
       "      <td>32</td>\n",
       "    </tr>\n",
       "    <tr>\n",
       "      <th>2</th>\n",
       "      <td>3</td>\n",
       "      <td>208</td>\n",
       "      <td>317</td>\n",
       "    </tr>\n",
       "    <tr>\n",
       "      <th>3</th>\n",
       "      <td>4</td>\n",
       "      <td>408</td>\n",
       "      <td>1167</td>\n",
       "    </tr>\n",
       "    <tr>\n",
       "      <th>4</th>\n",
       "      <td>5</td>\n",
       "      <td>547</td>\n",
       "      <td>2366</td>\n",
       "    </tr>\n",
       "  </tbody>\n",
       "</table>\n",
       "</div>"
      ],
      "text/plain": [
       "   Length_itemset  Frequent itemsets  Association rules number\n",
       "0               1                 11                         0\n",
       "1               2                 65                        32\n",
       "2               3                208                       317\n",
       "3               4                408                      1167\n",
       "4               5                547                      2366"
      ]
     },
     "execution_count": 13,
     "metadata": {},
     "output_type": "execute_result"
    }
   ],
   "source": [
    "a={'Length_itemset':k_itemset,'Frequent itemsets':itemset,'Association rules number':len_rules}\n",
    "itemset_rules=pd.DataFrame(a)\n",
    "itemset_rules.head()"
   ]
  },
  {
   "cell_type": "code",
   "execution_count": 14,
   "metadata": {},
   "outputs": [
    {
     "data": {
      "text/plain": [
       "(0.0, 3435.6)"
      ]
     },
     "execution_count": 14,
     "metadata": {},
     "output_type": "execute_result"
    },
    {
     "data": {
      "image/png": "[encoded data removed]",
      "text/plain": [
       "<Figure size 432x288 with 1 Axes>"
      ]
     },
     "metadata": {
      "needs_background": "light"
     },
     "output_type": "display_data"
    }
   ],
   "source": [
    "import seaborn as sns\n",
    "import matplotlib.pyplot as plt\n",
    "sns.lineplot(data=itemset_rules, x=\"Length_itemset\", y=\"Association rules number\")\n",
    "plt.xlim(1,100)\n",
    "plt.ylim(0,)"
   ]
  },
  {
   "cell_type": "markdown",
   "metadata": {},
   "source": [
    "The graph shows that with increase in length of itemsets till 10, the number of association rules keep on increasing. Beyond length 10,the number of rules become constant. "
   ]
  },
  {
   "cell_type": "markdown",
   "metadata": {},
   "source": [
    "### Association Rules generation by running Apriori with min support=0.01 and min confidence=0.5"
   ]
  },
  {
   "cell_type": "code",
   "execution_count": 15,
   "metadata": {},
   "outputs": [
    {
     "data": {
      "text/html": [
       "<div>\n",
       "<style scoped>\n",
       "    .dataframe tbody tr th:only-of-type {\n",
       "        vertical-align: middle;\n",
       "    }\n",
       "\n",
       "    .dataframe tbody tr th {\n",
       "        vertical-align: top;\n",
       "    }\n",
       "\n",
       "    .dataframe thead th {\n",
       "        text-align: right;\n",
       "    }\n",
       "</style>\n",
       "<table border=\"1\" class=\"dataframe\">\n",
       "  <thead>\n",
       "    <tr style=\"text-align: right;\">\n",
       "      <th></th>\n",
       "      <th>support</th>\n",
       "      <th>itemsets</th>\n",
       "    </tr>\n",
       "  </thead>\n",
       "  <tbody>\n",
       "    <tr>\n",
       "      <th>0</th>\n",
       "      <td>0.4230</td>\n",
       "      <td>(ChildBks)</td>\n",
       "    </tr>\n",
       "    <tr>\n",
       "      <th>1</th>\n",
       "      <td>0.2475</td>\n",
       "      <td>(YouthBks)</td>\n",
       "    </tr>\n",
       "    <tr>\n",
       "      <th>2</th>\n",
       "      <td>0.4310</td>\n",
       "      <td>(CookBks)</td>\n",
       "    </tr>\n",
       "    <tr>\n",
       "      <th>3</th>\n",
       "      <td>0.2820</td>\n",
       "      <td>(DoItYBks)</td>\n",
       "    </tr>\n",
       "    <tr>\n",
       "      <th>4</th>\n",
       "      <td>0.2145</td>\n",
       "      <td>(RefBks)</td>\n",
       "    </tr>\n",
       "  </tbody>\n",
       "</table>\n",
       "</div>"
      ],
      "text/plain": [
       "   support    itemsets\n",
       "0   0.4230  (ChildBks)\n",
       "1   0.2475  (YouthBks)\n",
       "2   0.4310   (CookBks)\n",
       "3   0.2820  (DoItYBks)\n",
       "4   0.2145    (RefBks)"
      ]
     },
     "execution_count": 15,
     "metadata": {},
     "output_type": "execute_result"
    }
   ],
   "source": [
    "# generating frequent itemset\n",
    "frequent_itemsets= apriori(df, min_support=0.01, use_colnames=True)\n",
    "frequent_itemsets.head()"
   ]
  },
  {
   "cell_type": "code",
   "execution_count": 16,
   "metadata": {},
   "outputs": [
    {
     "name": "stdout",
     "output_type": "stream",
     "text": [
      "Number of frequent itemsets generated with min support 0.01 is: 594\n"
     ]
    }
   ],
   "source": [
    "print(\"Number of frequent itemsets generated with min support 0.01 is:\",(frequent_itemsets.shape[0]))"
   ]
  },
  {
   "cell_type": "code",
   "execution_count": 17,
   "metadata": {},
   "outputs": [],
   "source": [
    "# adding a length column which stores the length of item sets generated\n",
    "frequent_itemsets['length'] = frequent_itemsets['itemsets'].apply(lambda x: len(x))"
   ]
  },
  {
   "cell_type": "code",
   "execution_count": 18,
   "metadata": {},
   "outputs": [
    {
     "data": {
      "text/html": [
       "<div>\n",
       "<style scoped>\n",
       "    .dataframe tbody tr th:only-of-type {\n",
       "        vertical-align: middle;\n",
       "    }\n",
       "\n",
       "    .dataframe tbody tr th {\n",
       "        vertical-align: top;\n",
       "    }\n",
       "\n",
       "    .dataframe thead th {\n",
       "        text-align: right;\n",
       "    }\n",
       "</style>\n",
       "<table border=\"1\" class=\"dataframe\">\n",
       "  <thead>\n",
       "    <tr style=\"text-align: right;\">\n",
       "      <th></th>\n",
       "      <th>support</th>\n",
       "      <th>itemsets</th>\n",
       "      <th>length</th>\n",
       "    </tr>\n",
       "  </thead>\n",
       "  <tbody>\n",
       "    <tr>\n",
       "      <th>0</th>\n",
       "      <td>0.4230</td>\n",
       "      <td>(ChildBks)</td>\n",
       "      <td>1</td>\n",
       "    </tr>\n",
       "    <tr>\n",
       "      <th>1</th>\n",
       "      <td>0.2475</td>\n",
       "      <td>(YouthBks)</td>\n",
       "      <td>1</td>\n",
       "    </tr>\n",
       "    <tr>\n",
       "      <th>2</th>\n",
       "      <td>0.4310</td>\n",
       "      <td>(CookBks)</td>\n",
       "      <td>1</td>\n",
       "    </tr>\n",
       "    <tr>\n",
       "      <th>3</th>\n",
       "      <td>0.2820</td>\n",
       "      <td>(DoItYBks)</td>\n",
       "      <td>1</td>\n",
       "    </tr>\n",
       "    <tr>\n",
       "      <th>4</th>\n",
       "      <td>0.2145</td>\n",
       "      <td>(RefBks)</td>\n",
       "      <td>1</td>\n",
       "    </tr>\n",
       "  </tbody>\n",
       "</table>\n",
       "</div>"
      ],
      "text/plain": [
       "   support    itemsets  length\n",
       "0   0.4230  (ChildBks)       1\n",
       "1   0.2475  (YouthBks)       1\n",
       "2   0.4310   (CookBks)       1\n",
       "3   0.2820  (DoItYBks)       1\n",
       "4   0.2145    (RefBks)       1"
      ]
     },
     "execution_count": 18,
     "metadata": {},
     "output_type": "execute_result"
    }
   ],
   "source": [
    "frequent_itemsets.head()"
   ]
  },
  {
   "cell_type": "code",
   "execution_count": 19,
   "metadata": {},
   "outputs": [
    {
     "data": {
      "text/plain": [
       "4    200\n",
       "3    143\n",
       "5    139\n",
       "2     54\n",
       "6     43\n",
       "1     11\n",
       "7      4\n",
       "Name: length, dtype: int64"
      ]
     },
     "execution_count": 19,
     "metadata": {},
     "output_type": "execute_result"
    }
   ],
   "source": [
    "# checking the number of frequent itemsets generated for each length\n",
    "frequent_itemsets['length'].value_counts()"
   ]
  },
  {
   "cell_type": "markdown",
   "metadata": {},
   "source": [
    "The maximum number of frequent itemsets generated are of length 4."
   ]
  },
  {
   "cell_type": "code",
   "execution_count": 20,
   "metadata": {},
   "outputs": [
    {
     "data": {
      "text/html": [
       "<div>\n",
       "<style scoped>\n",
       "    .dataframe tbody tr th:only-of-type {\n",
       "        vertical-align: middle;\n",
       "    }\n",
       "\n",
       "    .dataframe tbody tr th {\n",
       "        vertical-align: top;\n",
       "    }\n",
       "\n",
       "    .dataframe thead th {\n",
       "        text-align: right;\n",
       "    }\n",
       "</style>\n",
       "<table border=\"1\" class=\"dataframe\">\n",
       "  <thead>\n",
       "    <tr style=\"text-align: right;\">\n",
       "      <th></th>\n",
       "      <th>antecedents</th>\n",
       "      <th>consequents</th>\n",
       "      <th>antecedent support</th>\n",
       "      <th>consequent support</th>\n",
       "      <th>support</th>\n",
       "      <th>confidence</th>\n",
       "      <th>lift</th>\n",
       "      <th>leverage</th>\n",
       "      <th>conviction</th>\n",
       "    </tr>\n",
       "  </thead>\n",
       "  <tbody>\n",
       "    <tr>\n",
       "      <th>0</th>\n",
       "      <td>(YouthBks)</td>\n",
       "      <td>(ChildBks)</td>\n",
       "      <td>0.2475</td>\n",
       "      <td>0.4230</td>\n",
       "      <td>0.1650</td>\n",
       "      <td>0.666667</td>\n",
       "      <td>1.576044</td>\n",
       "      <td>0.060308</td>\n",
       "      <td>1.731000</td>\n",
       "    </tr>\n",
       "    <tr>\n",
       "      <th>1</th>\n",
       "      <td>(ChildBks)</td>\n",
       "      <td>(CookBks)</td>\n",
       "      <td>0.4230</td>\n",
       "      <td>0.4310</td>\n",
       "      <td>0.2560</td>\n",
       "      <td>0.605201</td>\n",
       "      <td>1.404179</td>\n",
       "      <td>0.073687</td>\n",
       "      <td>1.441240</td>\n",
       "    </tr>\n",
       "    <tr>\n",
       "      <th>2</th>\n",
       "      <td>(DoItYBks)</td>\n",
       "      <td>(ChildBks)</td>\n",
       "      <td>0.2820</td>\n",
       "      <td>0.4230</td>\n",
       "      <td>0.1840</td>\n",
       "      <td>0.652482</td>\n",
       "      <td>1.542511</td>\n",
       "      <td>0.064714</td>\n",
       "      <td>1.660347</td>\n",
       "    </tr>\n",
       "    <tr>\n",
       "      <th>3</th>\n",
       "      <td>(RefBks)</td>\n",
       "      <td>(ChildBks)</td>\n",
       "      <td>0.2145</td>\n",
       "      <td>0.4230</td>\n",
       "      <td>0.1515</td>\n",
       "      <td>0.706294</td>\n",
       "      <td>1.669725</td>\n",
       "      <td>0.060767</td>\n",
       "      <td>1.964548</td>\n",
       "    </tr>\n",
       "    <tr>\n",
       "      <th>4</th>\n",
       "      <td>(ArtBks)</td>\n",
       "      <td>(ChildBks)</td>\n",
       "      <td>0.2410</td>\n",
       "      <td>0.4230</td>\n",
       "      <td>0.1625</td>\n",
       "      <td>0.674274</td>\n",
       "      <td>1.594028</td>\n",
       "      <td>0.060557</td>\n",
       "      <td>1.771427</td>\n",
       "    </tr>\n",
       "    <tr>\n",
       "      <th>...</th>\n",
       "      <td>...</td>\n",
       "      <td>...</td>\n",
       "      <td>...</td>\n",
       "      <td>...</td>\n",
       "      <td>...</td>\n",
       "      <td>...</td>\n",
       "      <td>...</td>\n",
       "      <td>...</td>\n",
       "      <td>...</td>\n",
       "    </tr>\n",
       "    <tr>\n",
       "      <th>2174</th>\n",
       "      <td>(ItalAtlas, ItalCook, ItalArt)</td>\n",
       "      <td>(ArtBks, CookBks, RefBks, ChildBks)</td>\n",
       "      <td>0.0125</td>\n",
       "      <td>0.0610</td>\n",
       "      <td>0.0110</td>\n",
       "      <td>0.880000</td>\n",
       "      <td>14.426230</td>\n",
       "      <td>0.010238</td>\n",
       "      <td>7.825000</td>\n",
       "    </tr>\n",
       "    <tr>\n",
       "      <th>2175</th>\n",
       "      <td>(ItalArt, RefBks, ChildBks)</td>\n",
       "      <td>(ItalAtlas, ArtBks, CookBks, ItalCook)</td>\n",
       "      <td>0.0180</td>\n",
       "      <td>0.0130</td>\n",
       "      <td>0.0110</td>\n",
       "      <td>0.611111</td>\n",
       "      <td>47.008547</td>\n",
       "      <td>0.010766</td>\n",
       "      <td>2.538000</td>\n",
       "    </tr>\n",
       "    <tr>\n",
       "      <th>2176</th>\n",
       "      <td>(ItalArt, RefBks, ItalCook)</td>\n",
       "      <td>(ItalAtlas, ArtBks, CookBks, ChildBks)</td>\n",
       "      <td>0.0160</td>\n",
       "      <td>0.0125</td>\n",
       "      <td>0.0110</td>\n",
       "      <td>0.687500</td>\n",
       "      <td>55.000000</td>\n",
       "      <td>0.010800</td>\n",
       "      <td>3.160000</td>\n",
       "    </tr>\n",
       "    <tr>\n",
       "      <th>2177</th>\n",
       "      <td>(ItalAtlas, ArtBks)</td>\n",
       "      <td>(CookBks, RefBks, ItalArt, ChildBks, ItalCook)</td>\n",
       "      <td>0.0180</td>\n",
       "      <td>0.0145</td>\n",
       "      <td>0.0110</td>\n",
       "      <td>0.611111</td>\n",
       "      <td>42.145594</td>\n",
       "      <td>0.010739</td>\n",
       "      <td>2.534143</td>\n",
       "    </tr>\n",
       "    <tr>\n",
       "      <th>2178</th>\n",
       "      <td>(ItalAtlas, ItalArt)</td>\n",
       "      <td>(CookBks, ArtBks, RefBks, ChildBks, ItalCook)</td>\n",
       "      <td>0.0165</td>\n",
       "      <td>0.0220</td>\n",
       "      <td>0.0110</td>\n",
       "      <td>0.666667</td>\n",
       "      <td>30.303030</td>\n",
       "      <td>0.010637</td>\n",
       "      <td>2.934000</td>\n",
       "    </tr>\n",
       "  </tbody>\n",
       "</table>\n",
       "<p>2179 rows × 9 columns</p>\n",
       "</div>"
      ],
      "text/plain": [
       "                         antecedents  \\\n",
       "0                         (YouthBks)   \n",
       "1                         (ChildBks)   \n",
       "2                         (DoItYBks)   \n",
       "3                           (RefBks)   \n",
       "4                           (ArtBks)   \n",
       "...                              ...   \n",
       "2174  (ItalAtlas, ItalCook, ItalArt)   \n",
       "2175     (ItalArt, RefBks, ChildBks)   \n",
       "2176     (ItalArt, RefBks, ItalCook)   \n",
       "2177             (ItalAtlas, ArtBks)   \n",
       "2178            (ItalAtlas, ItalArt)   \n",
       "\n",
       "                                         consequents  antecedent support  \\\n",
       "0                                         (ChildBks)              0.2475   \n",
       "1                                          (CookBks)              0.4230   \n",
       "2                                         (ChildBks)              0.2820   \n",
       "3                                         (ChildBks)              0.2145   \n",
       "4                                         (ChildBks)              0.2410   \n",
       "...                                              ...                 ...   \n",
       "2174             (ArtBks, CookBks, RefBks, ChildBks)              0.0125   \n",
       "2175          (ItalAtlas, ArtBks, CookBks, ItalCook)              0.0180   \n",
       "2176          (ItalAtlas, ArtBks, CookBks, ChildBks)              0.0160   \n",
       "2177  (CookBks, RefBks, ItalArt, ChildBks, ItalCook)              0.0180   \n",
       "2178   (CookBks, ArtBks, RefBks, ChildBks, ItalCook)              0.0165   \n",
       "\n",
       "      consequent support  support  confidence       lift  leverage  conviction  \n",
       "0                 0.4230   0.1650    0.666667   1.576044  0.060308    1.731000  \n",
       "1                 0.4310   0.2560    0.605201   1.404179  0.073687    1.441240  \n",
       "2                 0.4230   0.1840    0.652482   1.542511  0.064714    1.660347  \n",
       "3                 0.4230   0.1515    0.706294   1.669725  0.060767    1.964548  \n",
       "4                 0.4230   0.1625    0.674274   1.594028  0.060557    1.771427  \n",
       "...                  ...      ...         ...        ...       ...         ...  \n",
       "2174              0.0610   0.0110    0.880000  14.426230  0.010238    7.825000  \n",
       "2175              0.0130   0.0110    0.611111  47.008547  0.010766    2.538000  \n",
       "2176              0.0125   0.0110    0.687500  55.000000  0.010800    3.160000  \n",
       "2177              0.0145   0.0110    0.611111  42.145594  0.010739    2.534143  \n",
       "2178              0.0220   0.0110    0.666667  30.303030  0.010637    2.934000  \n",
       "\n",
       "[2179 rows x 9 columns]"
      ]
     },
     "execution_count": 20,
     "metadata": {},
     "output_type": "execute_result"
    }
   ],
   "source": [
    "rules = association_rules(frequent_itemsets,metric=\"confidence\", min_threshold=0.6)\n",
    "rules"
   ]
  },
  {
   "cell_type": "code",
   "execution_count": 21,
   "metadata": {},
   "outputs": [
    {
     "data": {
      "text/html": [
       "<div>\n",
       "<style scoped>\n",
       "    .dataframe tbody tr th:only-of-type {\n",
       "        vertical-align: middle;\n",
       "    }\n",
       "\n",
       "    .dataframe tbody tr th {\n",
       "        vertical-align: top;\n",
       "    }\n",
       "\n",
       "    .dataframe thead th {\n",
       "        text-align: right;\n",
       "    }\n",
       "</style>\n",
       "<table border=\"1\" class=\"dataframe\">\n",
       "  <thead>\n",
       "    <tr style=\"text-align: right;\">\n",
       "      <th></th>\n",
       "      <th>antecedent support</th>\n",
       "      <th>consequent support</th>\n",
       "      <th>support</th>\n",
       "      <th>confidence</th>\n",
       "      <th>lift</th>\n",
       "      <th>leverage</th>\n",
       "      <th>conviction</th>\n",
       "    </tr>\n",
       "  </thead>\n",
       "  <tbody>\n",
       "    <tr>\n",
       "      <th>count</th>\n",
       "      <td>2179.000000</td>\n",
       "      <td>2179.000000</td>\n",
       "      <td>2179.000000</td>\n",
       "      <td>2179.000000</td>\n",
       "      <td>2179.000000</td>\n",
       "      <td>2179.000000</td>\n",
       "      <td>2179.000000</td>\n",
       "    </tr>\n",
       "    <tr>\n",
       "      <th>mean</th>\n",
       "      <td>0.027498</td>\n",
       "      <td>0.223341</td>\n",
       "      <td>0.021013</td>\n",
       "      <td>0.794653</td>\n",
       "      <td>7.432924</td>\n",
       "      <td>0.013714</td>\n",
       "      <td>inf</td>\n",
       "    </tr>\n",
       "    <tr>\n",
       "      <th>std</th>\n",
       "      <td>0.028906</td>\n",
       "      <td>0.142198</td>\n",
       "      <td>0.020536</td>\n",
       "      <td>0.131975</td>\n",
       "      <td>9.120928</td>\n",
       "      <td>0.009386</td>\n",
       "      <td>NaN</td>\n",
       "    </tr>\n",
       "    <tr>\n",
       "      <th>min</th>\n",
       "      <td>0.010000</td>\n",
       "      <td>0.011500</td>\n",
       "      <td>0.010000</td>\n",
       "      <td>0.600000</td>\n",
       "      <td>1.404179</td>\n",
       "      <td>0.004155</td>\n",
       "      <td>1.441240</td>\n",
       "    </tr>\n",
       "    <tr>\n",
       "      <th>25%</th>\n",
       "      <td>0.014500</td>\n",
       "      <td>0.113500</td>\n",
       "      <td>0.011500</td>\n",
       "      <td>0.666667</td>\n",
       "      <td>2.314815</td>\n",
       "      <td>0.008640</td>\n",
       "      <td>2.489375</td>\n",
       "    </tr>\n",
       "    <tr>\n",
       "      <th>50%</th>\n",
       "      <td>0.018000</td>\n",
       "      <td>0.214500</td>\n",
       "      <td>0.014500</td>\n",
       "      <td>0.781250</td>\n",
       "      <td>4.149378</td>\n",
       "      <td>0.010752</td>\n",
       "      <td>3.519700</td>\n",
       "    </tr>\n",
       "    <tr>\n",
       "      <th>75%</th>\n",
       "      <td>0.028500</td>\n",
       "      <td>0.423000</td>\n",
       "      <td>0.021000</td>\n",
       "      <td>0.904879</td>\n",
       "      <td>7.672540</td>\n",
       "      <td>0.014866</td>\n",
       "      <td>7.440000</td>\n",
       "    </tr>\n",
       "    <tr>\n",
       "      <th>max</th>\n",
       "      <td>0.423000</td>\n",
       "      <td>0.431000</td>\n",
       "      <td>0.256000</td>\n",
       "      <td>1.000000</td>\n",
       "      <td>58.275058</td>\n",
       "      <td>0.078252</td>\n",
       "      <td>inf</td>\n",
       "    </tr>\n",
       "  </tbody>\n",
       "</table>\n",
       "</div>"
      ],
      "text/plain": [
       "       antecedent support  consequent support      support   confidence  \\\n",
       "count         2179.000000         2179.000000  2179.000000  2179.000000   \n",
       "mean             0.027498            0.223341     0.021013     0.794653   \n",
       "std              0.028906            0.142198     0.020536     0.131975   \n",
       "min              0.010000            0.011500     0.010000     0.600000   \n",
       "25%              0.014500            0.113500     0.011500     0.666667   \n",
       "50%              0.018000            0.214500     0.014500     0.781250   \n",
       "75%              0.028500            0.423000     0.021000     0.904879   \n",
       "max              0.423000            0.431000     0.256000     1.000000   \n",
       "\n",
       "              lift     leverage   conviction  \n",
       "count  2179.000000  2179.000000  2179.000000  \n",
       "mean      7.432924     0.013714          inf  \n",
       "std       9.120928     0.009386          NaN  \n",
       "min       1.404179     0.004155     1.441240  \n",
       "25%       2.314815     0.008640     2.489375  \n",
       "50%       4.149378     0.010752     3.519700  \n",
       "75%       7.672540     0.014866     7.440000  \n",
       "max      58.275058     0.078252          inf  "
      ]
     },
     "execution_count": 21,
     "metadata": {},
     "output_type": "execute_result"
    }
   ],
   "source": [
    "# Checking statistical summary of rules generated\n",
    "rules.describe()"
   ]
  },
  {
   "cell_type": "code",
   "execution_count": 22,
   "metadata": {},
   "outputs": [
    {
     "name": "stdout",
     "output_type": "stream",
     "text": [
      "Total number of association rules generated: 2179\n"
     ]
    }
   ],
   "source": [
    "print(\"Total number of association rules generated:\",(rules.shape[0]))"
   ]
  },
  {
   "cell_type": "markdown",
   "metadata": {},
   "source": [
    "## Visualization of Association Rules "
   ]
  },
  {
   "cell_type": "markdown",
   "metadata": {},
   "source": [
    "## 1. Using Scatter Plot"
   ]
  },
  {
   "cell_type": "code",
   "execution_count": 23,
   "metadata": {},
   "outputs": [
    {
     "data": {
      "image/png": "[encoded data removed]",
      "text/plain": [
       "<Figure size 864x504 with 2 Axes>"
      ]
     },
     "metadata": {
      "needs_background": "light"
     },
     "output_type": "display_data"
    }
   ],
   "source": [
    "fig, axes = plt.subplots(1,2, figsize=(12,7))\n",
    "fig.suptitle('Scatter Plot')\n",
    "\n",
    "sns.scatterplot(ax=axes[0],x='antecedent support',y='consequent support',hue='confidence',data=rules)\n",
    "axes[0].set_title('Confidence')\n",
    "\n",
    "sns.scatterplot(ax=axes[1],x='antecedent support',y='consequent support',hue='lift',data=rules)\n",
    "axes[1].set_title('Lift')\n",
    "\n",
    "plt.subplots_adjust(wspace=0.4)\n",
    "plt.show()"
   ]
  },
  {
   "cell_type": "markdown",
   "metadata": {},
   "source": [
    "+ The first subplot shows relationship of antecedent and consequent support with confidence which is shown in color gradient.Deep colors indicate high confidence and light colors indicate low confidence.We can see that dark points are concentrated near lower values of x axis.This means high confidence is observed for lower antecedent support values.\n",
    "\n",
    "\n",
    "+ The second subplot shows  relationship of lift with antecedent and consequent support.Dark color indicates highest lift values.The plot shows taht maximum rules have lift values in range 10-30. Higher values around 40-50 is almost minimal and that too found for very low antecedent and consequent support."
   ]
  },
  {
   "cell_type": "markdown",
   "metadata": {},
   "source": [
    "## 2. Heatmap"
   ]
  },
  {
   "cell_type": "markdown",
   "metadata": {},
   "source": [
    "To generate heatmap,a subset of first ten rules will be considered to avoid overcrowding of map and enhance clarity of map."
   ]
  },
  {
   "cell_type": "code",
   "execution_count": 24,
   "metadata": {},
   "outputs": [],
   "source": [
    "rules_map=rules.copy()"
   ]
  },
  {
   "cell_type": "code",
   "execution_count": 25,
   "metadata": {},
   "outputs": [],
   "source": [
    "# selecting rules with high confidence,lift and support\n",
    "rules_map=rules_map.loc[(rules_map['lift']>10)& (rules_map['confidence']>0.70)& (rules_map['support']>0.02)]"
   ]
  },
  {
   "cell_type": "code",
   "execution_count": 26,
   "metadata": {},
   "outputs": [],
   "source": [
    "rules_map.reset_index(drop=True,inplace=True)"
   ]
  },
  {
   "cell_type": "code",
   "execution_count": 27,
   "metadata": {},
   "outputs": [
    {
     "data": {
      "text/html": [
       "<div>\n",
       "<style scoped>\n",
       "    .dataframe tbody tr th:only-of-type {\n",
       "        vertical-align: middle;\n",
       "    }\n",
       "\n",
       "    .dataframe tbody tr th {\n",
       "        vertical-align: top;\n",
       "    }\n",
       "\n",
       "    .dataframe thead th {\n",
       "        text-align: right;\n",
       "    }\n",
       "</style>\n",
       "<table border=\"1\" class=\"dataframe\">\n",
       "  <thead>\n",
       "    <tr style=\"text-align: right;\">\n",
       "      <th></th>\n",
       "      <th>antecedents</th>\n",
       "      <th>consequents</th>\n",
       "      <th>antecedent support</th>\n",
       "      <th>consequent support</th>\n",
       "      <th>support</th>\n",
       "      <th>confidence</th>\n",
       "      <th>lift</th>\n",
       "      <th>leverage</th>\n",
       "      <th>conviction</th>\n",
       "    </tr>\n",
       "  </thead>\n",
       "  <tbody>\n",
       "    <tr>\n",
       "      <th>0</th>\n",
       "      <td>(ItalArt)</td>\n",
       "      <td>(ArtBks, ItalCook)</td>\n",
       "      <td>0.0485</td>\n",
       "      <td>0.0565</td>\n",
       "      <td>0.0375</td>\n",
       "      <td>0.773196</td>\n",
       "      <td>13.684883</td>\n",
       "      <td>0.034760</td>\n",
       "      <td>4.159977</td>\n",
       "    </tr>\n",
       "    <tr>\n",
       "      <th>1</th>\n",
       "      <td>(ItalArt, ChildBks)</td>\n",
       "      <td>(ArtBks, ItalCook)</td>\n",
       "      <td>0.0360</td>\n",
       "      <td>0.0565</td>\n",
       "      <td>0.0285</td>\n",
       "      <td>0.791667</td>\n",
       "      <td>14.011799</td>\n",
       "      <td>0.026466</td>\n",
       "      <td>4.528800</td>\n",
       "    </tr>\n",
       "    <tr>\n",
       "      <th>2</th>\n",
       "      <td>(ItalAtlas, CookBks)</td>\n",
       "      <td>(RefBks, ItalCook)</td>\n",
       "      <td>0.0285</td>\n",
       "      <td>0.0465</td>\n",
       "      <td>0.0230</td>\n",
       "      <td>0.807018</td>\n",
       "      <td>17.355216</td>\n",
       "      <td>0.021675</td>\n",
       "      <td>4.940864</td>\n",
       "    </tr>\n",
       "    <tr>\n",
       "      <th>3</th>\n",
       "      <td>(ItalArt, CookBks)</td>\n",
       "      <td>(ArtBks, ItalCook)</td>\n",
       "      <td>0.0410</td>\n",
       "      <td>0.0565</td>\n",
       "      <td>0.0375</td>\n",
       "      <td>0.914634</td>\n",
       "      <td>16.188215</td>\n",
       "      <td>0.035183</td>\n",
       "      <td>11.052429</td>\n",
       "    </tr>\n",
       "    <tr>\n",
       "      <th>4</th>\n",
       "      <td>(ItalArt)</td>\n",
       "      <td>(ArtBks, CookBks, ItalCook)</td>\n",
       "      <td>0.0485</td>\n",
       "      <td>0.0565</td>\n",
       "      <td>0.0375</td>\n",
       "      <td>0.773196</td>\n",
       "      <td>13.684883</td>\n",
       "      <td>0.034760</td>\n",
       "      <td>4.159977</td>\n",
       "    </tr>\n",
       "    <tr>\n",
       "      <th>5</th>\n",
       "      <td>(ItalArt, DoItYBks)</td>\n",
       "      <td>(ArtBks, ItalCook)</td>\n",
       "      <td>0.0300</td>\n",
       "      <td>0.0565</td>\n",
       "      <td>0.0250</td>\n",
       "      <td>0.833333</td>\n",
       "      <td>14.749263</td>\n",
       "      <td>0.023305</td>\n",
       "      <td>5.661000</td>\n",
       "    </tr>\n",
       "    <tr>\n",
       "      <th>6</th>\n",
       "      <td>(ItalArt, GeogBks)</td>\n",
       "      <td>(ArtBks, ItalCook)</td>\n",
       "      <td>0.0295</td>\n",
       "      <td>0.0565</td>\n",
       "      <td>0.0240</td>\n",
       "      <td>0.813559</td>\n",
       "      <td>14.399280</td>\n",
       "      <td>0.022333</td>\n",
       "      <td>5.060591</td>\n",
       "    </tr>\n",
       "    <tr>\n",
       "      <th>7</th>\n",
       "      <td>(ItalArt, CookBks, ChildBks)</td>\n",
       "      <td>(ArtBks, ItalCook)</td>\n",
       "      <td>0.0300</td>\n",
       "      <td>0.0565</td>\n",
       "      <td>0.0285</td>\n",
       "      <td>0.950000</td>\n",
       "      <td>16.814159</td>\n",
       "      <td>0.026805</td>\n",
       "      <td>18.870000</td>\n",
       "    </tr>\n",
       "    <tr>\n",
       "      <th>8</th>\n",
       "      <td>(ItalArt, ChildBks)</td>\n",
       "      <td>(ArtBks, CookBks, ItalCook)</td>\n",
       "      <td>0.0360</td>\n",
       "      <td>0.0565</td>\n",
       "      <td>0.0285</td>\n",
       "      <td>0.791667</td>\n",
       "      <td>14.011799</td>\n",
       "      <td>0.026466</td>\n",
       "      <td>4.528800</td>\n",
       "    </tr>\n",
       "    <tr>\n",
       "      <th>9</th>\n",
       "      <td>(ItalArt, CookBks, DoItYBks)</td>\n",
       "      <td>(ArtBks, ItalCook)</td>\n",
       "      <td>0.0270</td>\n",
       "      <td>0.0565</td>\n",
       "      <td>0.0250</td>\n",
       "      <td>0.925926</td>\n",
       "      <td>16.388069</td>\n",
       "      <td>0.023475</td>\n",
       "      <td>12.737250</td>\n",
       "    </tr>\n",
       "  </tbody>\n",
       "</table>\n",
       "</div>"
      ],
      "text/plain": [
       "                    antecedents                  consequents  \\\n",
       "0                     (ItalArt)           (ArtBks, ItalCook)   \n",
       "1           (ItalArt, ChildBks)           (ArtBks, ItalCook)   \n",
       "2          (ItalAtlas, CookBks)           (RefBks, ItalCook)   \n",
       "3            (ItalArt, CookBks)           (ArtBks, ItalCook)   \n",
       "4                     (ItalArt)  (ArtBks, CookBks, ItalCook)   \n",
       "5           (ItalArt, DoItYBks)           (ArtBks, ItalCook)   \n",
       "6            (ItalArt, GeogBks)           (ArtBks, ItalCook)   \n",
       "7  (ItalArt, CookBks, ChildBks)           (ArtBks, ItalCook)   \n",
       "8           (ItalArt, ChildBks)  (ArtBks, CookBks, ItalCook)   \n",
       "9  (ItalArt, CookBks, DoItYBks)           (ArtBks, ItalCook)   \n",
       "\n",
       "   antecedent support  consequent support  support  confidence       lift  \\\n",
       "0              0.0485              0.0565   0.0375    0.773196  13.684883   \n",
       "1              0.0360              0.0565   0.0285    0.791667  14.011799   \n",
       "2              0.0285              0.0465   0.0230    0.807018  17.355216   \n",
       "3              0.0410              0.0565   0.0375    0.914634  16.188215   \n",
       "4              0.0485              0.0565   0.0375    0.773196  13.684883   \n",
       "5              0.0300              0.0565   0.0250    0.833333  14.749263   \n",
       "6              0.0295              0.0565   0.0240    0.813559  14.399280   \n",
       "7              0.0300              0.0565   0.0285    0.950000  16.814159   \n",
       "8              0.0360              0.0565   0.0285    0.791667  14.011799   \n",
       "9              0.0270              0.0565   0.0250    0.925926  16.388069   \n",
       "\n",
       "   leverage  conviction  \n",
       "0  0.034760    4.159977  \n",
       "1  0.026466    4.528800  \n",
       "2  0.021675    4.940864  \n",
       "3  0.035183   11.052429  \n",
       "4  0.034760    4.159977  \n",
       "5  0.023305    5.661000  \n",
       "6  0.022333    5.060591  \n",
       "7  0.026805   18.870000  \n",
       "8  0.026466    4.528800  \n",
       "9  0.023475   12.737250  "
      ]
     },
     "execution_count": 27,
     "metadata": {},
     "output_type": "execute_result"
    }
   ],
   "source": [
    "# creating a subset of first 10 rules which will be plotted with heatmap\n",
    "rules_10=rules_map.iloc[0:10,:]\n",
    "rules_10"
   ]
  },
  {
   "cell_type": "code",
   "execution_count": 28,
   "metadata": {},
   "outputs": [
    {
     "name": "stderr",
     "output_type": "stream",
     "text": [
      "<ipython-input-28-5d5cf0e38084>:2: SettingWithCopyWarning: \n",
      "A value is trying to be set on a copy of a slice from a DataFrame.\n",
      "Try using .loc[row_indexer,col_indexer] = value instead\n",
      "\n",
      "See the caveats in the documentation: https://pandas.pydata.org/pandas-docs/stable/user_guide/indexing.html#returning-a-view-versus-a-copy\n",
      "  rules_10['antecedents']=rules_10['antecedents'].apply(lambda a: ','.join(list(a)))\n",
      "<ipython-input-28-5d5cf0e38084>:3: SettingWithCopyWarning: \n",
      "A value is trying to be set on a copy of a slice from a DataFrame.\n",
      "Try using .loc[row_indexer,col_indexer] = value instead\n",
      "\n",
      "See the caveats in the documentation: https://pandas.pydata.org/pandas-docs/stable/user_guide/indexing.html#returning-a-view-versus-a-copy\n",
      "  rules_10['consequents']=rules_10['consequents'].apply(lambda a: ','.join(list(a)))\n"
     ]
    }
   ],
   "source": [
    "# converting antecedents and consequents to strings\n",
    "rules_10['antecedents']=rules_10['antecedents'].apply(lambda a: ','.join(list(a)))\n",
    "rules_10['consequents']=rules_10['consequents'].apply(lambda a: ','.join(list(a)))"
   ]
  },
  {
   "cell_type": "code",
   "execution_count": 29,
   "metadata": {},
   "outputs": [
    {
     "name": "stdout",
     "output_type": "stream",
     "text": [
      "                antecedents              consequents\n",
      "0                   ItalArt          ArtBks,ItalCook\n",
      "1          ItalArt,ChildBks          ArtBks,ItalCook\n",
      "2         ItalAtlas,CookBks          RefBks,ItalCook\n",
      "3           ItalArt,CookBks          ArtBks,ItalCook\n",
      "4                   ItalArt  ArtBks,CookBks,ItalCook\n",
      "5          ItalArt,DoItYBks          ArtBks,ItalCook\n",
      "6           ItalArt,GeogBks          ArtBks,ItalCook\n",
      "7  ItalArt,CookBks,ChildBks          ArtBks,ItalCook\n",
      "8          ItalArt,ChildBks  ArtBks,CookBks,ItalCook\n",
      "9  ItalArt,CookBks,DoItYBks          ArtBks,ItalCook\n"
     ]
    }
   ],
   "source": [
    "print(rules_10[['antecedents','consequents']])"
   ]
  },
  {
   "cell_type": "code",
   "execution_count": 30,
   "metadata": {},
   "outputs": [],
   "source": [
    "# Constructing  pivot table\n",
    "pvt_table1=rules_10.pivot(index='antecedents',columns='consequents',values='support')\n",
    "pvt_table2=rules_10.pivot(index='antecedents',columns='consequents',values='confidence')\n",
    "pvt_table3=rules_10.pivot(index='antecedents',columns='consequents',values='lift')"
   ]
  },
  {
   "cell_type": "code",
   "execution_count": 31,
   "metadata": {},
   "outputs": [
    {
     "data": {
      "image/png": "[encoded data removed]",
      "text/plain": [
       "<Figure size 576x864 with 3 Axes>"
      ]
     },
     "metadata": {
      "needs_background": "light"
     },
     "output_type": "display_data"
    }
   ],
   "source": [
    "fig, axes = plt.subplots(3,1,sharex=True,constrained_layout = True,figsize=(8,12))\n",
    "fig.suptitle('Heatmaps')\n",
    "\n",
    "sns.heatmap(ax=axes[0],data=pvt_table1,annot=True,cbar=False,cmap='Blues')\n",
    "axes[0].set_title('Support')\n",
    "axes[0].set(xlabel=None)\n",
    "axes[0].set(ylabel=None)\n",
    "\n",
    "sns.heatmap(ax=axes[1],data=pvt_table2,annot=True,cbar=False,cmap='Blues')\n",
    "axes[1].set_title('Confidence')\n",
    "axes[1].set(xlabel=None)\n",
    "\n",
    "sns.heatmap(ax=axes[2],data=pvt_table3,annot=True,cbar=False,cmap='Blues')\n",
    "axes[2].set_title('Lift')\n",
    "axes[2].set(ylabel=None)\n",
    "\n",
    "\n",
    "plt.show()"
   ]
  },
  {
   "cell_type": "markdown",
   "metadata": {},
   "source": [
    "+ Darker cells imply higher support/confidence/lift values. The blank/white cells imply that no association rule was formed for those antecedent-->sconsequent pairs.\n",
    "+ The first subplot shows correlation with support values. The highest support is 0.037 for (ItalArt,CookBks)-->(ItalCook,ArtBks).\n",
    "+ The second subplot shows that consequent(ItalCook,ArtBks) have high confidence for all its antecedents except (CookBks,ItalAtlas) for which no rule was formed.\n",
    "+ In third subplot, it can be seen (ItalCook,ArtBks) have high lift values for all its antecedents except one.\n",
    "+ It can be said that (ItalCook,ArtBks) is a very significant consequent i.e these two items have a high change of getting purchased by customers if their antecedents are purchased."
   ]
  },
  {
   "cell_type": "markdown",
   "metadata": {},
   "source": [
    "## 3.Parallel Coordinate Plots"
   ]
  },
  {
   "cell_type": "code",
   "execution_count": 32,
   "metadata": {},
   "outputs": [
    {
     "data": {
      "text/html": [
       "<div>\n",
       "<style scoped>\n",
       "    .dataframe tbody tr th:only-of-type {\n",
       "        vertical-align: middle;\n",
       "    }\n",
       "\n",
       "    .dataframe tbody tr th {\n",
       "        vertical-align: top;\n",
       "    }\n",
       "\n",
       "    .dataframe thead th {\n",
       "        text-align: right;\n",
       "    }\n",
       "</style>\n",
       "<table border=\"1\" class=\"dataframe\">\n",
       "  <thead>\n",
       "    <tr style=\"text-align: right;\">\n",
       "      <th></th>\n",
       "      <th>antecedents</th>\n",
       "      <th>consequents</th>\n",
       "      <th>antecedent support</th>\n",
       "      <th>consequent support</th>\n",
       "      <th>support</th>\n",
       "      <th>confidence</th>\n",
       "      <th>lift</th>\n",
       "      <th>leverage</th>\n",
       "      <th>conviction</th>\n",
       "    </tr>\n",
       "  </thead>\n",
       "  <tbody>\n",
       "    <tr>\n",
       "      <th>0</th>\n",
       "      <td>ItalArt</td>\n",
       "      <td>ArtBks,ItalCook</td>\n",
       "      <td>0.0485</td>\n",
       "      <td>0.0565</td>\n",
       "      <td>0.0375</td>\n",
       "      <td>0.773196</td>\n",
       "      <td>13.684883</td>\n",
       "      <td>0.034760</td>\n",
       "      <td>4.159977</td>\n",
       "    </tr>\n",
       "    <tr>\n",
       "      <th>1</th>\n",
       "      <td>ItalArt,ChildBks</td>\n",
       "      <td>ArtBks,ItalCook</td>\n",
       "      <td>0.0360</td>\n",
       "      <td>0.0565</td>\n",
       "      <td>0.0285</td>\n",
       "      <td>0.791667</td>\n",
       "      <td>14.011799</td>\n",
       "      <td>0.026466</td>\n",
       "      <td>4.528800</td>\n",
       "    </tr>\n",
       "    <tr>\n",
       "      <th>2</th>\n",
       "      <td>ItalAtlas,CookBks</td>\n",
       "      <td>RefBks,ItalCook</td>\n",
       "      <td>0.0285</td>\n",
       "      <td>0.0465</td>\n",
       "      <td>0.0230</td>\n",
       "      <td>0.807018</td>\n",
       "      <td>17.355216</td>\n",
       "      <td>0.021675</td>\n",
       "      <td>4.940864</td>\n",
       "    </tr>\n",
       "    <tr>\n",
       "      <th>3</th>\n",
       "      <td>ItalArt,CookBks</td>\n",
       "      <td>ArtBks,ItalCook</td>\n",
       "      <td>0.0410</td>\n",
       "      <td>0.0565</td>\n",
       "      <td>0.0375</td>\n",
       "      <td>0.914634</td>\n",
       "      <td>16.188215</td>\n",
       "      <td>0.035183</td>\n",
       "      <td>11.052429</td>\n",
       "    </tr>\n",
       "    <tr>\n",
       "      <th>4</th>\n",
       "      <td>ItalArt</td>\n",
       "      <td>ArtBks,CookBks,ItalCook</td>\n",
       "      <td>0.0485</td>\n",
       "      <td>0.0565</td>\n",
       "      <td>0.0375</td>\n",
       "      <td>0.773196</td>\n",
       "      <td>13.684883</td>\n",
       "      <td>0.034760</td>\n",
       "      <td>4.159977</td>\n",
       "    </tr>\n",
       "    <tr>\n",
       "      <th>5</th>\n",
       "      <td>ItalArt,DoItYBks</td>\n",
       "      <td>ArtBks,ItalCook</td>\n",
       "      <td>0.0300</td>\n",
       "      <td>0.0565</td>\n",
       "      <td>0.0250</td>\n",
       "      <td>0.833333</td>\n",
       "      <td>14.749263</td>\n",
       "      <td>0.023305</td>\n",
       "      <td>5.661000</td>\n",
       "    </tr>\n",
       "    <tr>\n",
       "      <th>6</th>\n",
       "      <td>ItalArt,GeogBks</td>\n",
       "      <td>ArtBks,ItalCook</td>\n",
       "      <td>0.0295</td>\n",
       "      <td>0.0565</td>\n",
       "      <td>0.0240</td>\n",
       "      <td>0.813559</td>\n",
       "      <td>14.399280</td>\n",
       "      <td>0.022333</td>\n",
       "      <td>5.060591</td>\n",
       "    </tr>\n",
       "    <tr>\n",
       "      <th>7</th>\n",
       "      <td>ItalArt,CookBks,ChildBks</td>\n",
       "      <td>ArtBks,ItalCook</td>\n",
       "      <td>0.0300</td>\n",
       "      <td>0.0565</td>\n",
       "      <td>0.0285</td>\n",
       "      <td>0.950000</td>\n",
       "      <td>16.814159</td>\n",
       "      <td>0.026805</td>\n",
       "      <td>18.870000</td>\n",
       "    </tr>\n",
       "    <tr>\n",
       "      <th>8</th>\n",
       "      <td>ItalArt,ChildBks</td>\n",
       "      <td>ArtBks,CookBks,ItalCook</td>\n",
       "      <td>0.0360</td>\n",
       "      <td>0.0565</td>\n",
       "      <td>0.0285</td>\n",
       "      <td>0.791667</td>\n",
       "      <td>14.011799</td>\n",
       "      <td>0.026466</td>\n",
       "      <td>4.528800</td>\n",
       "    </tr>\n",
       "    <tr>\n",
       "      <th>9</th>\n",
       "      <td>ItalArt,CookBks,DoItYBks</td>\n",
       "      <td>ArtBks,ItalCook</td>\n",
       "      <td>0.0270</td>\n",
       "      <td>0.0565</td>\n",
       "      <td>0.0250</td>\n",
       "      <td>0.925926</td>\n",
       "      <td>16.388069</td>\n",
       "      <td>0.023475</td>\n",
       "      <td>12.737250</td>\n",
       "    </tr>\n",
       "  </tbody>\n",
       "</table>\n",
       "</div>"
      ],
      "text/plain": [
       "                antecedents              consequents  antecedent support  \\\n",
       "0                   ItalArt          ArtBks,ItalCook              0.0485   \n",
       "1          ItalArt,ChildBks          ArtBks,ItalCook              0.0360   \n",
       "2         ItalAtlas,CookBks          RefBks,ItalCook              0.0285   \n",
       "3           ItalArt,CookBks          ArtBks,ItalCook              0.0410   \n",
       "4                   ItalArt  ArtBks,CookBks,ItalCook              0.0485   \n",
       "5          ItalArt,DoItYBks          ArtBks,ItalCook              0.0300   \n",
       "6           ItalArt,GeogBks          ArtBks,ItalCook              0.0295   \n",
       "7  ItalArt,CookBks,ChildBks          ArtBks,ItalCook              0.0300   \n",
       "8          ItalArt,ChildBks  ArtBks,CookBks,ItalCook              0.0360   \n",
       "9  ItalArt,CookBks,DoItYBks          ArtBks,ItalCook              0.0270   \n",
       "\n",
       "   consequent support  support  confidence       lift  leverage  conviction  \n",
       "0              0.0565   0.0375    0.773196  13.684883  0.034760    4.159977  \n",
       "1              0.0565   0.0285    0.791667  14.011799  0.026466    4.528800  \n",
       "2              0.0465   0.0230    0.807018  17.355216  0.021675    4.940864  \n",
       "3              0.0565   0.0375    0.914634  16.188215  0.035183   11.052429  \n",
       "4              0.0565   0.0375    0.773196  13.684883  0.034760    4.159977  \n",
       "5              0.0565   0.0250    0.833333  14.749263  0.023305    5.661000  \n",
       "6              0.0565   0.0240    0.813559  14.399280  0.022333    5.060591  \n",
       "7              0.0565   0.0285    0.950000  16.814159  0.026805   18.870000  \n",
       "8              0.0565   0.0285    0.791667  14.011799  0.026466    4.528800  \n",
       "9              0.0565   0.0250    0.925926  16.388069  0.023475   12.737250  "
      ]
     },
     "execution_count": 32,
     "metadata": {},
     "output_type": "execute_result"
    }
   ],
   "source": [
    "rules_10"
   ]
  },
  {
   "cell_type": "code",
   "execution_count": 33,
   "metadata": {},
   "outputs": [
    {
     "name": "stderr",
     "output_type": "stream",
     "text": [
      "<ipython-input-33-b1a8976bd668>:2: SettingWithCopyWarning: \n",
      "A value is trying to be set on a copy of a slice from a DataFrame.\n",
      "Try using .loc[row_indexer,col_indexer] = value instead\n",
      "\n",
      "See the caveats in the documentation: https://pandas.pydata.org/pandas-docs/stable/user_guide/indexing.html#returning-a-view-versus-a-copy\n",
      "  rules_10['rule no']=np.arange(1,11)\n"
     ]
    },
    {
     "data": {
      "text/html": [
       "<div>\n",
       "<style scoped>\n",
       "    .dataframe tbody tr th:only-of-type {\n",
       "        vertical-align: middle;\n",
       "    }\n",
       "\n",
       "    .dataframe tbody tr th {\n",
       "        vertical-align: top;\n",
       "    }\n",
       "\n",
       "    .dataframe thead th {\n",
       "        text-align: right;\n",
       "    }\n",
       "</style>\n",
       "<table border=\"1\" class=\"dataframe\">\n",
       "  <thead>\n",
       "    <tr style=\"text-align: right;\">\n",
       "      <th></th>\n",
       "      <th>antecedents</th>\n",
       "      <th>consequents</th>\n",
       "      <th>rule no</th>\n",
       "    </tr>\n",
       "  </thead>\n",
       "  <tbody>\n",
       "    <tr>\n",
       "      <th>0</th>\n",
       "      <td>ItalArt</td>\n",
       "      <td>ArtBks,ItalCook</td>\n",
       "      <td>1</td>\n",
       "    </tr>\n",
       "    <tr>\n",
       "      <th>1</th>\n",
       "      <td>ItalArt,ChildBks</td>\n",
       "      <td>ArtBks,ItalCook</td>\n",
       "      <td>2</td>\n",
       "    </tr>\n",
       "    <tr>\n",
       "      <th>2</th>\n",
       "      <td>ItalAtlas,CookBks</td>\n",
       "      <td>RefBks,ItalCook</td>\n",
       "      <td>3</td>\n",
       "    </tr>\n",
       "    <tr>\n",
       "      <th>3</th>\n",
       "      <td>ItalArt,CookBks</td>\n",
       "      <td>ArtBks,ItalCook</td>\n",
       "      <td>4</td>\n",
       "    </tr>\n",
       "    <tr>\n",
       "      <th>4</th>\n",
       "      <td>ItalArt</td>\n",
       "      <td>ArtBks,CookBks,ItalCook</td>\n",
       "      <td>5</td>\n",
       "    </tr>\n",
       "    <tr>\n",
       "      <th>5</th>\n",
       "      <td>ItalArt,DoItYBks</td>\n",
       "      <td>ArtBks,ItalCook</td>\n",
       "      <td>6</td>\n",
       "    </tr>\n",
       "    <tr>\n",
       "      <th>6</th>\n",
       "      <td>ItalArt,GeogBks</td>\n",
       "      <td>ArtBks,ItalCook</td>\n",
       "      <td>7</td>\n",
       "    </tr>\n",
       "    <tr>\n",
       "      <th>7</th>\n",
       "      <td>ItalArt,CookBks,ChildBks</td>\n",
       "      <td>ArtBks,ItalCook</td>\n",
       "      <td>8</td>\n",
       "    </tr>\n",
       "    <tr>\n",
       "      <th>8</th>\n",
       "      <td>ItalArt,ChildBks</td>\n",
       "      <td>ArtBks,CookBks,ItalCook</td>\n",
       "      <td>9</td>\n",
       "    </tr>\n",
       "    <tr>\n",
       "      <th>9</th>\n",
       "      <td>ItalArt,CookBks,DoItYBks</td>\n",
       "      <td>ArtBks,ItalCook</td>\n",
       "      <td>10</td>\n",
       "    </tr>\n",
       "  </tbody>\n",
       "</table>\n",
       "</div>"
      ],
      "text/plain": [
       "                antecedents              consequents  rule no\n",
       "0                   ItalArt          ArtBks,ItalCook        1\n",
       "1          ItalArt,ChildBks          ArtBks,ItalCook        2\n",
       "2         ItalAtlas,CookBks          RefBks,ItalCook        3\n",
       "3           ItalArt,CookBks          ArtBks,ItalCook        4\n",
       "4                   ItalArt  ArtBks,CookBks,ItalCook        5\n",
       "5          ItalArt,DoItYBks          ArtBks,ItalCook        6\n",
       "6           ItalArt,GeogBks          ArtBks,ItalCook        7\n",
       "7  ItalArt,CookBks,ChildBks          ArtBks,ItalCook        8\n",
       "8          ItalArt,ChildBks  ArtBks,CookBks,ItalCook        9\n",
       "9  ItalArt,CookBks,DoItYBks          ArtBks,ItalCook       10"
      ]
     },
     "execution_count": 33,
     "metadata": {},
     "output_type": "execute_result"
    }
   ],
   "source": [
    "# creating a column called 'rule no' to store rule numbers\n",
    "rules_10['rule no']=np.arange(1,11)\n",
    "data=rules_10.iloc[:,[0,1,9]]\n",
    "data"
   ]
  },
  {
   "cell_type": "code",
   "execution_count": 34,
   "metadata": {},
   "outputs": [
    {
     "data": {
      "text/plain": [
       "<matplotlib.axes._subplots.AxesSubplot at 0x1a88e7a0d30>"
      ]
     },
     "execution_count": 34,
     "metadata": {},
     "output_type": "execute_result"
    },
    {
     "data": {
      "image/png": "[encoded data removed]",
      "text/plain": [
       "<Figure size 576x720 with 1 Axes>"
      ]
     },
     "metadata": {
      "needs_background": "light"
     },
     "output_type": "display_data"
    }
   ],
   "source": [
    "from pandas.plotting import parallel_coordinates\n",
    "plt.figure(figsize=(8,10))\n",
    "parallel_coordinates(data,'rule no',colormap='Blues')"
   ]
  },
  {
   "cell_type": "markdown",
   "metadata": {},
   "source": [
    "+ In above plot,the line represents association rules.It shows rules formed between each antecedent and consequent pair.Absence of lines imply no rules were formed for that antecedent--> consequent pair.\n",
    "+ The plot gives only an idea of association rules present or absent for antecedent-->consequent pair.No information about metrics such as lift or support are provided by parallel coordinates plot.\n",
    "+ The graph shows association present between (ItalArt)-->(ItalCook,CookBks,ArtBks),(ItalArt,ChildBks)-->(ItalCook,ArtBks)etc.\n",
    "+ We can see no association rule found for these pairs:(ItalCook,Artbks)-->(ItalArt,ChildBks),(ItalArt,ChildBks)-->(ItalAtlas,CookBks)etc."
   ]
  },
  {
   "cell_type": "code",
   "execution_count": null,
   "metadata": {},
   "outputs": [],
   "source": []
  }
 ],
 "metadata": {
  "kernelspec": {
   "display_name": "Python 3 (ipykernel)",
   "language": "python",
   "name": "python3"
  },
  "language_info": {
   "codemirror_mode": {
    "name": "ipython",
    "version": 3
   },
   "file_extension": ".py",
   "mimetype": "text/x-python",
   "name": "python",
   "nbconvert_exporter": "python",
   "pygments_lexer": "ipython3",
   "version": "3.9.12"
  }
 },
 "nbformat": 4,
 "nbformat_minor": 4
}
