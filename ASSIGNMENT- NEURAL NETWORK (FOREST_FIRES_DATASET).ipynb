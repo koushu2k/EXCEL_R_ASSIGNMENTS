{
 "cells": [
  {
   "cell_type": "code",
   "execution_count": 1,
   "metadata": {},
   "outputs": [],
   "source": [
    "import numpy as np\n",
    "import pandas as pd\n",
    "import matplotlib.pyplot as plt"
   ]
  },
  {
   "cell_type": "code",
   "execution_count": 2,
   "metadata": {},
   "outputs": [],
   "source": [
    "from keras.models import Sequential\n",
    "from keras.layers import Dense"
   ]
  },
  {
   "cell_type": "code",
   "execution_count": 3,
   "metadata": {},
   "outputs": [
    {
     "data": {
      "text/html": [
       "<div>\n",
       "<style scoped>\n",
       "    .dataframe tbody tr th:only-of-type {\n",
       "        vertical-align: middle;\n",
       "    }\n",
       "\n",
       "    .dataframe tbody tr th {\n",
       "        vertical-align: top;\n",
       "    }\n",
       "\n",
       "    .dataframe thead th {\n",
       "        text-align: right;\n",
       "    }\n",
       "</style>\n",
       "<table border=\"1\" class=\"dataframe\">\n",
       "  <thead>\n",
       "    <tr style=\"text-align: right;\">\n",
       "      <th></th>\n",
       "      <th>month</th>\n",
       "      <th>day</th>\n",
       "      <th>FFMC</th>\n",
       "      <th>DMC</th>\n",
       "      <th>DC</th>\n",
       "      <th>ISI</th>\n",
       "      <th>temp</th>\n",
       "      <th>RH</th>\n",
       "      <th>wind</th>\n",
       "      <th>rain</th>\n",
       "      <th>...</th>\n",
       "      <th>monthfeb</th>\n",
       "      <th>monthjan</th>\n",
       "      <th>monthjul</th>\n",
       "      <th>monthjun</th>\n",
       "      <th>monthmar</th>\n",
       "      <th>monthmay</th>\n",
       "      <th>monthnov</th>\n",
       "      <th>monthoct</th>\n",
       "      <th>monthsep</th>\n",
       "      <th>size_category</th>\n",
       "    </tr>\n",
       "  </thead>\n",
       "  <tbody>\n",
       "    <tr>\n",
       "      <th>0</th>\n",
       "      <td>mar</td>\n",
       "      <td>fri</td>\n",
       "      <td>86.2</td>\n",
       "      <td>26.2</td>\n",
       "      <td>94.3</td>\n",
       "      <td>5.1</td>\n",
       "      <td>8.2</td>\n",
       "      <td>51</td>\n",
       "      <td>6.7</td>\n",
       "      <td>0.0</td>\n",
       "      <td>...</td>\n",
       "      <td>0</td>\n",
       "      <td>0</td>\n",
       "      <td>0</td>\n",
       "      <td>0</td>\n",
       "      <td>1</td>\n",
       "      <td>0</td>\n",
       "      <td>0</td>\n",
       "      <td>0</td>\n",
       "      <td>0</td>\n",
       "      <td>small</td>\n",
       "    </tr>\n",
       "    <tr>\n",
       "      <th>1</th>\n",
       "      <td>oct</td>\n",
       "      <td>tue</td>\n",
       "      <td>90.6</td>\n",
       "      <td>35.4</td>\n",
       "      <td>669.1</td>\n",
       "      <td>6.7</td>\n",
       "      <td>18.0</td>\n",
       "      <td>33</td>\n",
       "      <td>0.9</td>\n",
       "      <td>0.0</td>\n",
       "      <td>...</td>\n",
       "      <td>0</td>\n",
       "      <td>0</td>\n",
       "      <td>0</td>\n",
       "      <td>0</td>\n",
       "      <td>0</td>\n",
       "      <td>0</td>\n",
       "      <td>0</td>\n",
       "      <td>1</td>\n",
       "      <td>0</td>\n",
       "      <td>small</td>\n",
       "    </tr>\n",
       "    <tr>\n",
       "      <th>2</th>\n",
       "      <td>oct</td>\n",
       "      <td>sat</td>\n",
       "      <td>90.6</td>\n",
       "      <td>43.7</td>\n",
       "      <td>686.9</td>\n",
       "      <td>6.7</td>\n",
       "      <td>14.6</td>\n",
       "      <td>33</td>\n",
       "      <td>1.3</td>\n",
       "      <td>0.0</td>\n",
       "      <td>...</td>\n",
       "      <td>0</td>\n",
       "      <td>0</td>\n",
       "      <td>0</td>\n",
       "      <td>0</td>\n",
       "      <td>0</td>\n",
       "      <td>0</td>\n",
       "      <td>0</td>\n",
       "      <td>1</td>\n",
       "      <td>0</td>\n",
       "      <td>small</td>\n",
       "    </tr>\n",
       "    <tr>\n",
       "      <th>3</th>\n",
       "      <td>mar</td>\n",
       "      <td>fri</td>\n",
       "      <td>91.7</td>\n",
       "      <td>33.3</td>\n",
       "      <td>77.5</td>\n",
       "      <td>9.0</td>\n",
       "      <td>8.3</td>\n",
       "      <td>97</td>\n",
       "      <td>4.0</td>\n",
       "      <td>0.2</td>\n",
       "      <td>...</td>\n",
       "      <td>0</td>\n",
       "      <td>0</td>\n",
       "      <td>0</td>\n",
       "      <td>0</td>\n",
       "      <td>1</td>\n",
       "      <td>0</td>\n",
       "      <td>0</td>\n",
       "      <td>0</td>\n",
       "      <td>0</td>\n",
       "      <td>small</td>\n",
       "    </tr>\n",
       "    <tr>\n",
       "      <th>4</th>\n",
       "      <td>mar</td>\n",
       "      <td>sun</td>\n",
       "      <td>89.3</td>\n",
       "      <td>51.3</td>\n",
       "      <td>102.2</td>\n",
       "      <td>9.6</td>\n",
       "      <td>11.4</td>\n",
       "      <td>99</td>\n",
       "      <td>1.8</td>\n",
       "      <td>0.0</td>\n",
       "      <td>...</td>\n",
       "      <td>0</td>\n",
       "      <td>0</td>\n",
       "      <td>0</td>\n",
       "      <td>0</td>\n",
       "      <td>1</td>\n",
       "      <td>0</td>\n",
       "      <td>0</td>\n",
       "      <td>0</td>\n",
       "      <td>0</td>\n",
       "      <td>small</td>\n",
       "    </tr>\n",
       "  </tbody>\n",
       "</table>\n",
       "<p>5 rows × 31 columns</p>\n",
       "</div>"
      ],
      "text/plain": [
       "  month  day  FFMC   DMC     DC  ISI  temp  RH  wind  rain  ...  monthfeb  \\\n",
       "0   mar  fri  86.2  26.2   94.3  5.1   8.2  51   6.7   0.0  ...         0   \n",
       "1   oct  tue  90.6  35.4  669.1  6.7  18.0  33   0.9   0.0  ...         0   \n",
       "2   oct  sat  90.6  43.7  686.9  6.7  14.6  33   1.3   0.0  ...         0   \n",
       "3   mar  fri  91.7  33.3   77.5  9.0   8.3  97   4.0   0.2  ...         0   \n",
       "4   mar  sun  89.3  51.3  102.2  9.6  11.4  99   1.8   0.0  ...         0   \n",
       "\n",
       "   monthjan  monthjul  monthjun  monthmar  monthmay  monthnov  monthoct  \\\n",
       "0         0         0         0         1         0         0         0   \n",
       "1         0         0         0         0         0         0         1   \n",
       "2         0         0         0         0         0         0         1   \n",
       "3         0         0         0         1         0         0         0   \n",
       "4         0         0         0         1         0         0         0   \n",
       "\n",
       "   monthsep  size_category  \n",
       "0         0          small  \n",
       "1         0          small  \n",
       "2         0          small  \n",
       "3         0          small  \n",
       "4         0          small  \n",
       "\n",
       "[5 rows x 31 columns]"
      ]
     },
     "execution_count": 3,
     "metadata": {},
     "output_type": "execute_result"
    }
   ],
   "source": [
    "df=pd.read_csv('H:/ExcelR Data Science/datasets_BA/forestfires.csv')\n",
    "df.head()"
   ]
  },
  {
   "cell_type": "code",
   "execution_count": 4,
   "metadata": {},
   "outputs": [
    {
     "data": {
      "text/plain": [
       "Index(['month', 'day', 'FFMC', 'DMC', 'DC', 'ISI', 'temp', 'RH', 'wind',\n",
       "       'rain', 'area', 'dayfri', 'daymon', 'daysat', 'daysun', 'daythu',\n",
       "       'daytue', 'daywed', 'monthapr', 'monthaug', 'monthdec', 'monthfeb',\n",
       "       'monthjan', 'monthjul', 'monthjun', 'monthmar', 'monthmay', 'monthnov',\n",
       "       'monthoct', 'monthsep', 'size_category'],\n",
       "      dtype='object')"
      ]
     },
     "execution_count": 4,
     "metadata": {},
     "output_type": "execute_result"
    }
   ],
   "source": [
    "df.columns"
   ]
  },
  {
   "cell_type": "code",
   "execution_count": 5,
   "metadata": {},
   "outputs": [],
   "source": [
    "df.drop(['month','day'],axis=1,inplace=True)"
   ]
  },
  {
   "cell_type": "code",
   "execution_count": 6,
   "metadata": {},
   "outputs": [
    {
     "name": "stdout",
     "output_type": "stream",
     "text": [
      "Shape of dataset before dropping duplicates: (517, 29)\n"
     ]
    }
   ],
   "source": [
    "print('Shape of dataset before dropping duplicates:',df.shape)"
   ]
  },
  {
   "cell_type": "code",
   "execution_count": 7,
   "metadata": {},
   "outputs": [],
   "source": [
    "df.drop_duplicates(keep=False,inplace=True)"
   ]
  },
  {
   "cell_type": "code",
   "execution_count": 8,
   "metadata": {},
   "outputs": [
    {
     "name": "stdout",
     "output_type": "stream",
     "text": [
      "Shape of dataset after dropping duplicates: (501, 29)\n"
     ]
    }
   ],
   "source": [
    "print('Shape of dataset after dropping duplicates:',df.shape)"
   ]
  },
  {
   "cell_type": "code",
   "execution_count": 9,
   "metadata": {},
   "outputs": [
    {
     "data": {
      "text/html": [
       "<div>\n",
       "<style scoped>\n",
       "    .dataframe tbody tr th:only-of-type {\n",
       "        vertical-align: middle;\n",
       "    }\n",
       "\n",
       "    .dataframe tbody tr th {\n",
       "        vertical-align: top;\n",
       "    }\n",
       "\n",
       "    .dataframe thead th {\n",
       "        text-align: right;\n",
       "    }\n",
       "</style>\n",
       "<table border=\"1\" class=\"dataframe\">\n",
       "  <thead>\n",
       "    <tr style=\"text-align: right;\">\n",
       "      <th></th>\n",
       "      <th>FFMC</th>\n",
       "      <th>DMC</th>\n",
       "      <th>DC</th>\n",
       "      <th>ISI</th>\n",
       "      <th>temp</th>\n",
       "      <th>RH</th>\n",
       "      <th>wind</th>\n",
       "      <th>rain</th>\n",
       "      <th>area</th>\n",
       "      <th>dayfri</th>\n",
       "      <th>...</th>\n",
       "      <th>monthfeb</th>\n",
       "      <th>monthjan</th>\n",
       "      <th>monthjul</th>\n",
       "      <th>monthjun</th>\n",
       "      <th>monthmar</th>\n",
       "      <th>monthmay</th>\n",
       "      <th>monthnov</th>\n",
       "      <th>monthoct</th>\n",
       "      <th>monthsep</th>\n",
       "      <th>size_category</th>\n",
       "    </tr>\n",
       "  </thead>\n",
       "  <tbody>\n",
       "    <tr>\n",
       "      <th>0</th>\n",
       "      <td>86.2</td>\n",
       "      <td>26.2</td>\n",
       "      <td>94.3</td>\n",
       "      <td>5.1</td>\n",
       "      <td>8.2</td>\n",
       "      <td>51</td>\n",
       "      <td>6.7</td>\n",
       "      <td>0.0</td>\n",
       "      <td>0.0</td>\n",
       "      <td>1</td>\n",
       "      <td>...</td>\n",
       "      <td>0</td>\n",
       "      <td>0</td>\n",
       "      <td>0</td>\n",
       "      <td>0</td>\n",
       "      <td>1</td>\n",
       "      <td>0</td>\n",
       "      <td>0</td>\n",
       "      <td>0</td>\n",
       "      <td>0</td>\n",
       "      <td>small</td>\n",
       "    </tr>\n",
       "    <tr>\n",
       "      <th>1</th>\n",
       "      <td>90.6</td>\n",
       "      <td>35.4</td>\n",
       "      <td>669.1</td>\n",
       "      <td>6.7</td>\n",
       "      <td>18.0</td>\n",
       "      <td>33</td>\n",
       "      <td>0.9</td>\n",
       "      <td>0.0</td>\n",
       "      <td>0.0</td>\n",
       "      <td>0</td>\n",
       "      <td>...</td>\n",
       "      <td>0</td>\n",
       "      <td>0</td>\n",
       "      <td>0</td>\n",
       "      <td>0</td>\n",
       "      <td>0</td>\n",
       "      <td>0</td>\n",
       "      <td>0</td>\n",
       "      <td>1</td>\n",
       "      <td>0</td>\n",
       "      <td>small</td>\n",
       "    </tr>\n",
       "    <tr>\n",
       "      <th>2</th>\n",
       "      <td>90.6</td>\n",
       "      <td>43.7</td>\n",
       "      <td>686.9</td>\n",
       "      <td>6.7</td>\n",
       "      <td>14.6</td>\n",
       "      <td>33</td>\n",
       "      <td>1.3</td>\n",
       "      <td>0.0</td>\n",
       "      <td>0.0</td>\n",
       "      <td>0</td>\n",
       "      <td>...</td>\n",
       "      <td>0</td>\n",
       "      <td>0</td>\n",
       "      <td>0</td>\n",
       "      <td>0</td>\n",
       "      <td>0</td>\n",
       "      <td>0</td>\n",
       "      <td>0</td>\n",
       "      <td>1</td>\n",
       "      <td>0</td>\n",
       "      <td>small</td>\n",
       "    </tr>\n",
       "    <tr>\n",
       "      <th>3</th>\n",
       "      <td>91.7</td>\n",
       "      <td>33.3</td>\n",
       "      <td>77.5</td>\n",
       "      <td>9.0</td>\n",
       "      <td>8.3</td>\n",
       "      <td>97</td>\n",
       "      <td>4.0</td>\n",
       "      <td>0.2</td>\n",
       "      <td>0.0</td>\n",
       "      <td>1</td>\n",
       "      <td>...</td>\n",
       "      <td>0</td>\n",
       "      <td>0</td>\n",
       "      <td>0</td>\n",
       "      <td>0</td>\n",
       "      <td>1</td>\n",
       "      <td>0</td>\n",
       "      <td>0</td>\n",
       "      <td>0</td>\n",
       "      <td>0</td>\n",
       "      <td>small</td>\n",
       "    </tr>\n",
       "    <tr>\n",
       "      <th>4</th>\n",
       "      <td>89.3</td>\n",
       "      <td>51.3</td>\n",
       "      <td>102.2</td>\n",
       "      <td>9.6</td>\n",
       "      <td>11.4</td>\n",
       "      <td>99</td>\n",
       "      <td>1.8</td>\n",
       "      <td>0.0</td>\n",
       "      <td>0.0</td>\n",
       "      <td>0</td>\n",
       "      <td>...</td>\n",
       "      <td>0</td>\n",
       "      <td>0</td>\n",
       "      <td>0</td>\n",
       "      <td>0</td>\n",
       "      <td>1</td>\n",
       "      <td>0</td>\n",
       "      <td>0</td>\n",
       "      <td>0</td>\n",
       "      <td>0</td>\n",
       "      <td>small</td>\n",
       "    </tr>\n",
       "  </tbody>\n",
       "</table>\n",
       "<p>5 rows × 29 columns</p>\n",
       "</div>"
      ],
      "text/plain": [
       "   FFMC   DMC     DC  ISI  temp  RH  wind  rain  area  dayfri  ...  monthfeb  \\\n",
       "0  86.2  26.2   94.3  5.1   8.2  51   6.7   0.0   0.0       1  ...         0   \n",
       "1  90.6  35.4  669.1  6.7  18.0  33   0.9   0.0   0.0       0  ...         0   \n",
       "2  90.6  43.7  686.9  6.7  14.6  33   1.3   0.0   0.0       0  ...         0   \n",
       "3  91.7  33.3   77.5  9.0   8.3  97   4.0   0.2   0.0       1  ...         0   \n",
       "4  89.3  51.3  102.2  9.6  11.4  99   1.8   0.0   0.0       0  ...         0   \n",
       "\n",
       "   monthjan  monthjul  monthjun  monthmar  monthmay  monthnov  monthoct  \\\n",
       "0         0         0         0         1         0         0         0   \n",
       "1         0         0         0         0         0         0         1   \n",
       "2         0         0         0         0         0         0         1   \n",
       "3         0         0         0         1         0         0         0   \n",
       "4         0         0         0         1         0         0         0   \n",
       "\n",
       "   monthsep  size_category  \n",
       "0         0          small  \n",
       "1         0          small  \n",
       "2         0          small  \n",
       "3         0          small  \n",
       "4         0          small  \n",
       "\n",
       "[5 rows x 29 columns]"
      ]
     },
     "execution_count": 9,
     "metadata": {},
     "output_type": "execute_result"
    }
   ],
   "source": [
    "df.head()"
   ]
  },
  {
   "cell_type": "code",
   "execution_count": 10,
   "metadata": {},
   "outputs": [
    {
     "data": {
      "text/html": [
       "<div>\n",
       "<style scoped>\n",
       "    .dataframe tbody tr th:only-of-type {\n",
       "        vertical-align: middle;\n",
       "    }\n",
       "\n",
       "    .dataframe tbody tr th {\n",
       "        vertical-align: top;\n",
       "    }\n",
       "\n",
       "    .dataframe thead th {\n",
       "        text-align: right;\n",
       "    }\n",
       "</style>\n",
       "<table border=\"1\" class=\"dataframe\">\n",
       "  <thead>\n",
       "    <tr style=\"text-align: right;\">\n",
       "      <th></th>\n",
       "      <th>FFMC</th>\n",
       "      <th>DMC</th>\n",
       "      <th>DC</th>\n",
       "      <th>ISI</th>\n",
       "      <th>temp</th>\n",
       "      <th>RH</th>\n",
       "      <th>wind</th>\n",
       "      <th>rain</th>\n",
       "      <th>area</th>\n",
       "      <th>dayfri</th>\n",
       "      <th>...</th>\n",
       "      <th>monthdec</th>\n",
       "      <th>monthfeb</th>\n",
       "      <th>monthjan</th>\n",
       "      <th>monthjul</th>\n",
       "      <th>monthjun</th>\n",
       "      <th>monthmar</th>\n",
       "      <th>monthmay</th>\n",
       "      <th>monthnov</th>\n",
       "      <th>monthoct</th>\n",
       "      <th>monthsep</th>\n",
       "    </tr>\n",
       "  </thead>\n",
       "  <tbody>\n",
       "    <tr>\n",
       "      <th>count</th>\n",
       "      <td>501.000000</td>\n",
       "      <td>501.000000</td>\n",
       "      <td>501.000000</td>\n",
       "      <td>501.000000</td>\n",
       "      <td>501.000000</td>\n",
       "      <td>501.000000</td>\n",
       "      <td>501.000000</td>\n",
       "      <td>501.000000</td>\n",
       "      <td>501.000000</td>\n",
       "      <td>501.000000</td>\n",
       "      <td>...</td>\n",
       "      <td>501.000000</td>\n",
       "      <td>501.000000</td>\n",
       "      <td>501.000000</td>\n",
       "      <td>501.000000</td>\n",
       "      <td>501.000000</td>\n",
       "      <td>501.000000</td>\n",
       "      <td>501.000000</td>\n",
       "      <td>501.000000</td>\n",
       "      <td>501.000000</td>\n",
       "      <td>501.000000</td>\n",
       "    </tr>\n",
       "    <tr>\n",
       "      <th>mean</th>\n",
       "      <td>90.590619</td>\n",
       "      <td>109.578842</td>\n",
       "      <td>547.630339</td>\n",
       "      <td>9.025549</td>\n",
       "      <td>18.840918</td>\n",
       "      <td>44.217565</td>\n",
       "      <td>4.004990</td>\n",
       "      <td>0.019162</td>\n",
       "      <td>13.143174</td>\n",
       "      <td>0.161677</td>\n",
       "      <td>...</td>\n",
       "      <td>0.017964</td>\n",
       "      <td>0.039920</td>\n",
       "      <td>0.003992</td>\n",
       "      <td>0.063872</td>\n",
       "      <td>0.029940</td>\n",
       "      <td>0.103792</td>\n",
       "      <td>0.003992</td>\n",
       "      <td>0.001996</td>\n",
       "      <td>0.029940</td>\n",
       "      <td>0.343313</td>\n",
       "    </tr>\n",
       "    <tr>\n",
       "      <th>std</th>\n",
       "      <td>5.591709</td>\n",
       "      <td>63.546318</td>\n",
       "      <td>248.330243</td>\n",
       "      <td>4.611358</td>\n",
       "      <td>5.876331</td>\n",
       "      <td>16.414219</td>\n",
       "      <td>1.810424</td>\n",
       "      <td>0.296567</td>\n",
       "      <td>64.622131</td>\n",
       "      <td>0.368522</td>\n",
       "      <td>...</td>\n",
       "      <td>0.132954</td>\n",
       "      <td>0.195967</td>\n",
       "      <td>0.063119</td>\n",
       "      <td>0.244770</td>\n",
       "      <td>0.170592</td>\n",
       "      <td>0.305296</td>\n",
       "      <td>0.063119</td>\n",
       "      <td>0.044677</td>\n",
       "      <td>0.170592</td>\n",
       "      <td>0.475290</td>\n",
       "    </tr>\n",
       "    <tr>\n",
       "      <th>min</th>\n",
       "      <td>18.700000</td>\n",
       "      <td>1.100000</td>\n",
       "      <td>7.900000</td>\n",
       "      <td>0.000000</td>\n",
       "      <td>2.200000</td>\n",
       "      <td>15.000000</td>\n",
       "      <td>0.400000</td>\n",
       "      <td>0.000000</td>\n",
       "      <td>0.000000</td>\n",
       "      <td>0.000000</td>\n",
       "      <td>...</td>\n",
       "      <td>0.000000</td>\n",
       "      <td>0.000000</td>\n",
       "      <td>0.000000</td>\n",
       "      <td>0.000000</td>\n",
       "      <td>0.000000</td>\n",
       "      <td>0.000000</td>\n",
       "      <td>0.000000</td>\n",
       "      <td>0.000000</td>\n",
       "      <td>0.000000</td>\n",
       "      <td>0.000000</td>\n",
       "    </tr>\n",
       "    <tr>\n",
       "      <th>25%</th>\n",
       "      <td>90.200000</td>\n",
       "      <td>61.100000</td>\n",
       "      <td>437.700000</td>\n",
       "      <td>6.400000</td>\n",
       "      <td>15.400000</td>\n",
       "      <td>32.000000</td>\n",
       "      <td>2.700000</td>\n",
       "      <td>0.000000</td>\n",
       "      <td>0.000000</td>\n",
       "      <td>0.000000</td>\n",
       "      <td>...</td>\n",
       "      <td>0.000000</td>\n",
       "      <td>0.000000</td>\n",
       "      <td>0.000000</td>\n",
       "      <td>0.000000</td>\n",
       "      <td>0.000000</td>\n",
       "      <td>0.000000</td>\n",
       "      <td>0.000000</td>\n",
       "      <td>0.000000</td>\n",
       "      <td>0.000000</td>\n",
       "      <td>0.000000</td>\n",
       "    </tr>\n",
       "    <tr>\n",
       "      <th>50%</th>\n",
       "      <td>91.600000</td>\n",
       "      <td>108.300000</td>\n",
       "      <td>664.200000</td>\n",
       "      <td>8.400000</td>\n",
       "      <td>19.300000</td>\n",
       "      <td>42.000000</td>\n",
       "      <td>4.000000</td>\n",
       "      <td>0.000000</td>\n",
       "      <td>0.710000</td>\n",
       "      <td>0.000000</td>\n",
       "      <td>...</td>\n",
       "      <td>0.000000</td>\n",
       "      <td>0.000000</td>\n",
       "      <td>0.000000</td>\n",
       "      <td>0.000000</td>\n",
       "      <td>0.000000</td>\n",
       "      <td>0.000000</td>\n",
       "      <td>0.000000</td>\n",
       "      <td>0.000000</td>\n",
       "      <td>0.000000</td>\n",
       "      <td>0.000000</td>\n",
       "    </tr>\n",
       "    <tr>\n",
       "      <th>75%</th>\n",
       "      <td>92.900000</td>\n",
       "      <td>141.200000</td>\n",
       "      <td>713.000000</td>\n",
       "      <td>11.000000</td>\n",
       "      <td>22.800000</td>\n",
       "      <td>53.000000</td>\n",
       "      <td>5.400000</td>\n",
       "      <td>0.000000</td>\n",
       "      <td>6.610000</td>\n",
       "      <td>0.000000</td>\n",
       "      <td>...</td>\n",
       "      <td>0.000000</td>\n",
       "      <td>0.000000</td>\n",
       "      <td>0.000000</td>\n",
       "      <td>0.000000</td>\n",
       "      <td>0.000000</td>\n",
       "      <td>0.000000</td>\n",
       "      <td>0.000000</td>\n",
       "      <td>0.000000</td>\n",
       "      <td>0.000000</td>\n",
       "      <td>1.000000</td>\n",
       "    </tr>\n",
       "    <tr>\n",
       "      <th>max</th>\n",
       "      <td>96.200000</td>\n",
       "      <td>291.300000</td>\n",
       "      <td>860.600000</td>\n",
       "      <td>56.100000</td>\n",
       "      <td>33.300000</td>\n",
       "      <td>100.000000</td>\n",
       "      <td>9.400000</td>\n",
       "      <td>6.400000</td>\n",
       "      <td>1090.840000</td>\n",
       "      <td>1.000000</td>\n",
       "      <td>...</td>\n",
       "      <td>1.000000</td>\n",
       "      <td>1.000000</td>\n",
       "      <td>1.000000</td>\n",
       "      <td>1.000000</td>\n",
       "      <td>1.000000</td>\n",
       "      <td>1.000000</td>\n",
       "      <td>1.000000</td>\n",
       "      <td>1.000000</td>\n",
       "      <td>1.000000</td>\n",
       "      <td>1.000000</td>\n",
       "    </tr>\n",
       "  </tbody>\n",
       "</table>\n",
       "<p>8 rows × 28 columns</p>\n",
       "</div>"
      ],
      "text/plain": [
       "             FFMC         DMC          DC         ISI        temp          RH  \\\n",
       "count  501.000000  501.000000  501.000000  501.000000  501.000000  501.000000   \n",
       "mean    90.590619  109.578842  547.630339    9.025549   18.840918   44.217565   \n",
       "std      5.591709   63.546318  248.330243    4.611358    5.876331   16.414219   \n",
       "min     18.700000    1.100000    7.900000    0.000000    2.200000   15.000000   \n",
       "25%     90.200000   61.100000  437.700000    6.400000   15.400000   32.000000   \n",
       "50%     91.600000  108.300000  664.200000    8.400000   19.300000   42.000000   \n",
       "75%     92.900000  141.200000  713.000000   11.000000   22.800000   53.000000   \n",
       "max     96.200000  291.300000  860.600000   56.100000   33.300000  100.000000   \n",
       "\n",
       "             wind        rain         area      dayfri  ...    monthdec  \\\n",
       "count  501.000000  501.000000   501.000000  501.000000  ...  501.000000   \n",
       "mean     4.004990    0.019162    13.143174    0.161677  ...    0.017964   \n",
       "std      1.810424    0.296567    64.622131    0.368522  ...    0.132954   \n",
       "min      0.400000    0.000000     0.000000    0.000000  ...    0.000000   \n",
       "25%      2.700000    0.000000     0.000000    0.000000  ...    0.000000   \n",
       "50%      4.000000    0.000000     0.710000    0.000000  ...    0.000000   \n",
       "75%      5.400000    0.000000     6.610000    0.000000  ...    0.000000   \n",
       "max      9.400000    6.400000  1090.840000    1.000000  ...    1.000000   \n",
       "\n",
       "         monthfeb    monthjan    monthjul    monthjun    monthmar    monthmay  \\\n",
       "count  501.000000  501.000000  501.000000  501.000000  501.000000  501.000000   \n",
       "mean     0.039920    0.003992    0.063872    0.029940    0.103792    0.003992   \n",
       "std      0.195967    0.063119    0.244770    0.170592    0.305296    0.063119   \n",
       "min      0.000000    0.000000    0.000000    0.000000    0.000000    0.000000   \n",
       "25%      0.000000    0.000000    0.000000    0.000000    0.000000    0.000000   \n",
       "50%      0.000000    0.000000    0.000000    0.000000    0.000000    0.000000   \n",
       "75%      0.000000    0.000000    0.000000    0.000000    0.000000    0.000000   \n",
       "max      1.000000    1.000000    1.000000    1.000000    1.000000    1.000000   \n",
       "\n",
       "         monthnov    monthoct    monthsep  \n",
       "count  501.000000  501.000000  501.000000  \n",
       "mean     0.001996    0.029940    0.343313  \n",
       "std      0.044677    0.170592    0.475290  \n",
       "min      0.000000    0.000000    0.000000  \n",
       "25%      0.000000    0.000000    0.000000  \n",
       "50%      0.000000    0.000000    0.000000  \n",
       "75%      0.000000    0.000000    1.000000  \n",
       "max      1.000000    1.000000    1.000000  \n",
       "\n",
       "[8 rows x 28 columns]"
      ]
     },
     "execution_count": 10,
     "metadata": {},
     "output_type": "execute_result"
    }
   ],
   "source": [
    "df.describe()"
   ]
  },
  {
   "cell_type": "code",
   "execution_count": 11,
   "metadata": {},
   "outputs": [
    {
     "name": "stdout",
     "output_type": "stream",
     "text": [
      "<class 'pandas.core.frame.DataFrame'>\n",
      "Int64Index: 501 entries, 0 to 516\n",
      "Data columns (total 29 columns):\n",
      " #   Column         Non-Null Count  Dtype  \n",
      "---  ------         --------------  -----  \n",
      " 0   FFMC           501 non-null    float64\n",
      " 1   DMC            501 non-null    float64\n",
      " 2   DC             501 non-null    float64\n",
      " 3   ISI            501 non-null    float64\n",
      " 4   temp           501 non-null    float64\n",
      " 5   RH             501 non-null    int64  \n",
      " 6   wind           501 non-null    float64\n",
      " 7   rain           501 non-null    float64\n",
      " 8   area           501 non-null    float64\n",
      " 9   dayfri         501 non-null    int64  \n",
      " 10  daymon         501 non-null    int64  \n",
      " 11  daysat         501 non-null    int64  \n",
      " 12  daysun         501 non-null    int64  \n",
      " 13  daythu         501 non-null    int64  \n",
      " 14  daytue         501 non-null    int64  \n",
      " 15  daywed         501 non-null    int64  \n",
      " 16  monthapr       501 non-null    int64  \n",
      " 17  monthaug       501 non-null    int64  \n",
      " 18  monthdec       501 non-null    int64  \n",
      " 19  monthfeb       501 non-null    int64  \n",
      " 20  monthjan       501 non-null    int64  \n",
      " 21  monthjul       501 non-null    int64  \n",
      " 22  monthjun       501 non-null    int64  \n",
      " 23  monthmar       501 non-null    int64  \n",
      " 24  monthmay       501 non-null    int64  \n",
      " 25  monthnov       501 non-null    int64  \n",
      " 26  monthoct       501 non-null    int64  \n",
      " 27  monthsep       501 non-null    int64  \n",
      " 28  size_category  501 non-null    object \n",
      "dtypes: float64(8), int64(20), object(1)\n",
      "memory usage: 117.4+ KB\n"
     ]
    }
   ],
   "source": [
    "df.info()"
   ]
  },
  {
   "cell_type": "code",
   "execution_count": 12,
   "metadata": {},
   "outputs": [
    {
     "name": "stdout",
     "output_type": "stream",
     "text": [
      "['large' 'small']\n"
     ]
    }
   ],
   "source": [
    "# Label Encoding size_category column\n",
    "\n",
    "from sklearn import preprocessing\n",
    "le=preprocessing.LabelEncoder()\n",
    "df['size_category']=le.fit_transform(df['size_category'])\n",
    "print(le.classes_)"
   ]
  },
  {
   "cell_type": "code",
   "execution_count": 13,
   "metadata": {},
   "outputs": [
    {
     "data": {
      "text/plain": [
       "dtype('int32')"
      ]
     },
     "execution_count": 13,
     "metadata": {},
     "output_type": "execute_result"
    }
   ],
   "source": [
    "df['size_category'].dtypes"
   ]
  },
  {
   "cell_type": "code",
   "execution_count": 14,
   "metadata": {},
   "outputs": [
    {
     "data": {
      "text/plain": [
       "1    364\n",
       "0    137\n",
       "Name: size_category, dtype: int64"
      ]
     },
     "execution_count": 14,
     "metadata": {},
     "output_type": "execute_result"
    }
   ],
   "source": [
    "df['size_category'].value_counts()"
   ]
  },
  {
   "cell_type": "code",
   "execution_count": 15,
   "metadata": {},
   "outputs": [],
   "source": [
    "## Splitting into X and Y\n",
    "X=df.iloc[:,:-1]\n",
    "Y=df.iloc[:,-1]"
   ]
  },
  {
   "cell_type": "code",
   "execution_count": 16,
   "metadata": {},
   "outputs": [],
   "source": [
    "# Splitting into training and testing set\n",
    "\n",
    "from sklearn.model_selection import train_test_split\n",
    "X_train,X_test,Y_train,Y_test=train_test_split(X,Y,test_size=0.3,random_state=10)\n"
   ]
  },
  {
   "cell_type": "markdown",
   "metadata": {},
   "source": [
    "### Standardizing continuous columns using Column Transformer"
   ]
  },
  {
   "cell_type": "code",
   "execution_count": 17,
   "metadata": {},
   "outputs": [],
   "source": [
    "from sklearn.preprocessing import StandardScaler\n",
    "\n",
    "from sklearn.compose import ColumnTransformer\n",
    "\n",
    "t=[('num',StandardScaler(),['FFMC', 'DMC', 'DC', 'ISI', 'temp', 'RH', 'wind', 'rain', 'area'])]\n",
    "transformer=ColumnTransformer(transformers=t,remainder='passthrough')\n",
    "\n",
    "# fit training data\n",
    "transformer.fit(X_train)\n",
    "\n",
    "# transform training data\n",
    "X_train = transformer.transform(X_train)\n",
    "\n",
    "# transform the test data\n",
    "X_test = transformer.transform(X_test)\n"
   ]
  },
  {
   "cell_type": "code",
   "execution_count": 18,
   "metadata": {},
   "outputs": [
    {
     "name": "stdout",
     "output_type": "stream",
     "text": [
      "Shape of training data (350, 28)\n",
      "Shape of testing data (151, 28)\n"
     ]
    }
   ],
   "source": [
    "print(\"Shape of training data\",X_train.shape)\n",
    "print(\"Shape of testing data\",X_test.shape)"
   ]
  },
  {
   "cell_type": "markdown",
   "metadata": {},
   "source": [
    "### Building Neural Network base model"
   ]
  },
  {
   "cell_type": "code",
   "execution_count": 19,
   "metadata": {},
   "outputs": [],
   "source": [
    "model = Sequential()\n",
    "model.add(Dense(30, input_dim=28,kernel_initializer='uniform', activation='relu'))\n",
    "model.add(Dense(20, kernel_initializer='uniform', activation='relu'))\n",
    "model.add(Dense(1, kernel_initializer='uniform', activation='sigmoid'))\n",
    "\n"
   ]
  },
  {
   "cell_type": "code",
   "execution_count": 20,
   "metadata": {},
   "outputs": [],
   "source": [
    "import pydot\n",
    "import keras\n",
    "from keras.utils.vis_utils import plot_model\n",
    "keras.utils.vis_utils.pydot = pydot"
   ]
  },
  {
   "cell_type": "code",
   "execution_count": 21,
   "metadata": {},
   "outputs": [
    {
     "data": {
      "image/png": "[encoded data removed]",
      "text/plain": [
       "<IPython.core.display.Image object>"
      ]
     },
     "execution_count": 21,
     "metadata": {},
     "output_type": "execute_result"
    }
   ],
   "source": [
    "# Visualizing the neural network\n",
    "plot_model(model,to_file='model_plot.png',show_shapes=True, show_layer_names=True)"
   ]
  },
  {
   "cell_type": "code",
   "execution_count": 22,
   "metadata": {},
   "outputs": [
    {
     "name": "stdout",
     "output_type": "stream",
     "text": [
      "Model: \"sequential\"\n",
      "_________________________________________________________________\n",
      "Layer (type)                 Output Shape              Param #   \n",
      "=================================================================\n",
      "dense (Dense)                (None, 30)                870       \n",
      "_________________________________________________________________\n",
      "dense_1 (Dense)              (None, 20)                620       \n",
      "_________________________________________________________________\n",
      "dense_2 (Dense)              (None, 1)                 21        \n",
      "=================================================================\n",
      "Total params: 1,511\n",
      "Trainable params: 1,511\n",
      "Non-trainable params: 0\n",
      "_________________________________________________________________\n"
     ]
    }
   ],
   "source": [
    "# Summary of neural network\n",
    "model.summary()"
   ]
  },
  {
   "cell_type": "code",
   "execution_count": 23,
   "metadata": {},
   "outputs": [],
   "source": [
    "# Compile model\n",
    "\n",
    "model.compile(loss='binary_crossentropy', optimizer='adam', metrics=['accuracy'])"
   ]
  },
  {
   "cell_type": "code",
   "execution_count": 24,
   "metadata": {},
   "outputs": [],
   "source": [
    "# Assigning weights as it is an imbalanced dataset\n",
    "weights={0:1,1:1}"
   ]
  },
  {
   "cell_type": "code",
   "execution_count": 25,
   "metadata": {},
   "outputs": [
    {
     "name": "stdout",
     "output_type": "stream",
     "text": [
      "Epoch 1/100\n",
      "35/35 [==============================] - 2s 31ms/step - loss: 0.6907 - accuracy: 0.6743 - val_loss: 0.6784 - val_accuracy: 0.7483\n",
      "Epoch 2/100\n",
      "35/35 [==============================] - 0s 2ms/step - loss: 0.6735 - accuracy: 0.7019 - val_loss: 0.6280 - val_accuracy: 0.7483\n",
      "Epoch 3/100\n",
      "35/35 [==============================] - 0s 2ms/step - loss: 0.6030 - accuracy: 0.7571 - val_loss: 0.5511 - val_accuracy: 0.7483\n",
      "Epoch 4/100\n",
      "35/35 [==============================] - 0s 2ms/step - loss: 0.5774 - accuracy: 0.6915 - val_loss: 0.5212 - val_accuracy: 0.7483\n",
      "Epoch 5/100\n",
      "35/35 [==============================] - 0s 1ms/step - loss: 0.5344 - accuracy: 0.7444 - val_loss: 0.5014 - val_accuracy: 0.7682\n",
      "Epoch 6/100\n",
      "35/35 [==============================] - 0s 2ms/step - loss: 0.4877 - accuracy: 0.7710 - val_loss: 0.4826 - val_accuracy: 0.7947\n",
      "Epoch 7/100\n",
      "35/35 [==============================] - 0s 2ms/step - loss: 0.4936 - accuracy: 0.7577 - val_loss: 0.4555 - val_accuracy: 0.8278\n",
      "Epoch 8/100\n",
      "35/35 [==============================] - 0s 2ms/step - loss: 0.4019 - accuracy: 0.8359 - val_loss: 0.4364 - val_accuracy: 0.8477\n",
      "Epoch 9/100\n",
      "35/35 [==============================] - 0s 2ms/step - loss: 0.4113 - accuracy: 0.8562 - val_loss: 0.4014 - val_accuracy: 0.8543\n",
      "Epoch 10/100\n",
      "35/35 [==============================] - 0s 2ms/step - loss: 0.3943 - accuracy: 0.8519 - val_loss: 0.3717 - val_accuracy: 0.8609\n",
      "Epoch 11/100\n",
      "35/35 [==============================] - 0s 2ms/step - loss: 0.3319 - accuracy: 0.8779 - val_loss: 0.3450 - val_accuracy: 0.8675\n",
      "Epoch 12/100\n",
      "35/35 [==============================] - 0s 2ms/step - loss: 0.3183 - accuracy: 0.8605 - val_loss: 0.3218 - val_accuracy: 0.8742\n",
      "Epoch 13/100\n",
      "35/35 [==============================] - 0s 2ms/step - loss: 0.2682 - accuracy: 0.8899 - val_loss: 0.3023 - val_accuracy: 0.8808\n",
      "Epoch 14/100\n",
      "35/35 [==============================] - 0s 2ms/step - loss: 0.2785 - accuracy: 0.8715 - val_loss: 0.2881 - val_accuracy: 0.8808\n",
      "Epoch 15/100\n",
      "35/35 [==============================] - 0s 2ms/step - loss: 0.2367 - accuracy: 0.9052 - val_loss: 0.2643 - val_accuracy: 0.8874\n",
      "Epoch 16/100\n",
      "35/35 [==============================] - 0s 2ms/step - loss: 0.2301 - accuracy: 0.8993 - val_loss: 0.2490 - val_accuracy: 0.8940\n",
      "Epoch 17/100\n",
      "35/35 [==============================] - 0s 2ms/step - loss: 0.1936 - accuracy: 0.9226 - val_loss: 0.2330 - val_accuracy: 0.9139\n",
      "Epoch 18/100\n",
      "35/35 [==============================] - 0s 2ms/step - loss: 0.1770 - accuracy: 0.9343 - val_loss: 0.2261 - val_accuracy: 0.9007\n",
      "Epoch 19/100\n",
      "35/35 [==============================] - 0s 2ms/step - loss: 0.1627 - accuracy: 0.9321 - val_loss: 0.2139 - val_accuracy: 0.9272\n",
      "Epoch 20/100\n",
      "35/35 [==============================] - 0s 2ms/step - loss: 0.1405 - accuracy: 0.9574 - val_loss: 0.2018 - val_accuracy: 0.9338\n",
      "Epoch 21/100\n",
      "35/35 [==============================] - 0s 2ms/step - loss: 0.1281 - accuracy: 0.9569 - val_loss: 0.1965 - val_accuracy: 0.9536\n",
      "Epoch 22/100\n",
      "35/35 [==============================] - 0s 2ms/step - loss: 0.1146 - accuracy: 0.9675 - val_loss: 0.1843 - val_accuracy: 0.9669\n",
      "Epoch 23/100\n",
      "35/35 [==============================] - 0s 2ms/step - loss: 0.1216 - accuracy: 0.9767 - val_loss: 0.1813 - val_accuracy: 0.9536\n",
      "Epoch 24/100\n",
      "35/35 [==============================] - 0s 2ms/step - loss: 0.1132 - accuracy: 0.9693 - val_loss: 0.1832 - val_accuracy: 0.9470\n",
      "Epoch 25/100\n",
      "35/35 [==============================] - 0s 2ms/step - loss: 0.1119 - accuracy: 0.9913 - val_loss: 0.1792 - val_accuracy: 0.9470\n",
      "Epoch 26/100\n",
      "35/35 [==============================] - 0s 2ms/step - loss: 0.0704 - accuracy: 0.9790 - val_loss: 0.1715 - val_accuracy: 0.9669\n",
      "Epoch 27/100\n",
      "35/35 [==============================] - 0s 1ms/step - loss: 0.0771 - accuracy: 0.9842 - val_loss: 0.1710 - val_accuracy: 0.9603\n",
      "Epoch 28/100\n",
      "35/35 [==============================] - 0s 2ms/step - loss: 0.0710 - accuracy: 0.9849 - val_loss: 0.1734 - val_accuracy: 0.9603\n",
      "Epoch 29/100\n",
      "35/35 [==============================] - 0s 2ms/step - loss: 0.0605 - accuracy: 0.9973 - val_loss: 0.1703 - val_accuracy: 0.9536\n",
      "Epoch 30/100\n",
      "35/35 [==============================] - 0s 2ms/step - loss: 0.0533 - accuracy: 0.9968 - val_loss: 0.1718 - val_accuracy: 0.9603\n",
      "Epoch 31/100\n",
      "35/35 [==============================] - 0s 2ms/step - loss: 0.0522 - accuracy: 0.9942 - val_loss: 0.1668 - val_accuracy: 0.9669\n",
      "Epoch 32/100\n",
      "35/35 [==============================] - 0s 2ms/step - loss: 0.0405 - accuracy: 0.9936 - val_loss: 0.1726 - val_accuracy: 0.9669\n",
      "Epoch 33/100\n",
      "35/35 [==============================] - 0s 1ms/step - loss: 0.0570 - accuracy: 0.9923 - val_loss: 0.1709 - val_accuracy: 0.9669\n",
      "Epoch 34/100\n",
      "35/35 [==============================] - 0s 2ms/step - loss: 0.0500 - accuracy: 0.9881 - val_loss: 0.1690 - val_accuracy: 0.9669\n",
      "Epoch 35/100\n",
      "35/35 [==============================] - 0s 2ms/step - loss: 0.0365 - accuracy: 0.9949 - val_loss: 0.1672 - val_accuracy: 0.9603\n",
      "Epoch 36/100\n",
      "35/35 [==============================] - 0s 2ms/step - loss: 0.0443 - accuracy: 0.9938 - val_loss: 0.1693 - val_accuracy: 0.9669\n",
      "Epoch 37/100\n",
      "35/35 [==============================] - 0s 2ms/step - loss: 0.0306 - accuracy: 0.9976 - val_loss: 0.1677 - val_accuracy: 0.9603\n",
      "Epoch 38/100\n",
      "35/35 [==============================] - 0s 1ms/step - loss: 0.0374 - accuracy: 0.9959 - val_loss: 0.1801 - val_accuracy: 0.9669\n",
      "Epoch 39/100\n",
      "35/35 [==============================] - 0s 2ms/step - loss: 0.0398 - accuracy: 0.9938 - val_loss: 0.1820 - val_accuracy: 0.9603\n",
      "Epoch 40/100\n",
      "35/35 [==============================] - 0s 2ms/step - loss: 0.0432 - accuracy: 0.9904 - val_loss: 0.1741 - val_accuracy: 0.9669\n",
      "Epoch 41/100\n",
      "35/35 [==============================] - 0s 2ms/step - loss: 0.0358 - accuracy: 0.9948 - val_loss: 0.1774 - val_accuracy: 0.9669\n",
      "Epoch 42/100\n",
      "35/35 [==============================] - 0s 2ms/step - loss: 0.0331 - accuracy: 0.9930 - val_loss: 0.1766 - val_accuracy: 0.9669\n",
      "Epoch 43/100\n",
      "35/35 [==============================] - 0s 2ms/step - loss: 0.0331 - accuracy: 0.9914 - val_loss: 0.1790 - val_accuracy: 0.9669\n",
      "Epoch 44/100\n",
      "35/35 [==============================] - 0s 2ms/step - loss: 0.0311 - accuracy: 0.9933 - val_loss: 0.1783 - val_accuracy: 0.9603\n",
      "Epoch 45/100\n",
      "35/35 [==============================] - 0s 2ms/step - loss: 0.0259 - accuracy: 0.9991 - val_loss: 0.1840 - val_accuracy: 0.9669\n",
      "Epoch 46/100\n",
      "35/35 [==============================] - 0s 1ms/step - loss: 0.0228 - accuracy: 0.9969 - val_loss: 0.1845 - val_accuracy: 0.9603\n",
      "Epoch 47/100\n",
      "35/35 [==============================] - ETA: 0s - loss: 0.0390 - accuracy: 1.00 - 0s 2ms/step - loss: 0.0306 - accuracy: 0.9974 - val_loss: 0.1861 - val_accuracy: 0.9669\n",
      "Epoch 48/100\n",
      "35/35 [==============================] - 0s 1ms/step - loss: 0.0230 - accuracy: 0.9978 - val_loss: 0.1852 - val_accuracy: 0.9536\n",
      "Epoch 49/100\n",
      "35/35 [==============================] - 0s 2ms/step - loss: 0.0276 - accuracy: 0.9959 - val_loss: 0.1855 - val_accuracy: 0.9603\n",
      "Epoch 50/100\n",
      "35/35 [==============================] - 0s 2ms/step - loss: 0.0173 - accuracy: 0.9982 - val_loss: 0.1887 - val_accuracy: 0.9603\n",
      "Epoch 51/100\n",
      "35/35 [==============================] - 0s 2ms/step - loss: 0.0224 - accuracy: 0.9983 - val_loss: 0.1909 - val_accuracy: 0.9669\n",
      "Epoch 52/100\n",
      "35/35 [==============================] - 0s 2ms/step - loss: 0.0244 - accuracy: 0.9968 - val_loss: 0.1974 - val_accuracy: 0.9669\n",
      "Epoch 53/100\n",
      "35/35 [==============================] - 0s 2ms/step - loss: 0.0194 - accuracy: 0.9956 - val_loss: 0.1886 - val_accuracy: 0.9603\n",
      "Epoch 54/100\n",
      "35/35 [==============================] - 0s 2ms/step - loss: 0.0218 - accuracy: 0.9926 - val_loss: 0.1926 - val_accuracy: 0.9603\n",
      "Epoch 55/100\n",
      "35/35 [==============================] - 0s 2ms/step - loss: 0.0206 - accuracy: 0.9953 - val_loss: 0.1946 - val_accuracy: 0.9470\n",
      "Epoch 56/100\n",
      "35/35 [==============================] - 0s 2ms/step - loss: 0.0169 - accuracy: 0.9990 - val_loss: 0.2086 - val_accuracy: 0.9603\n",
      "Epoch 57/100\n",
      "35/35 [==============================] - 0s 2ms/step - loss: 0.0181 - accuracy: 0.9976 - val_loss: 0.1995 - val_accuracy: 0.9470\n",
      "Epoch 58/100\n",
      "35/35 [==============================] - 0s 2ms/step - loss: 0.0167 - accuracy: 0.9987 - val_loss: 0.1979 - val_accuracy: 0.9603\n",
      "Epoch 59/100\n",
      "35/35 [==============================] - 0s 2ms/step - loss: 0.0215 - accuracy: 0.9880 - val_loss: 0.2012 - val_accuracy: 0.9603\n",
      "Epoch 60/100\n",
      "35/35 [==============================] - 0s 2ms/step - loss: 0.0167 - accuracy: 1.0000 - val_loss: 0.1996 - val_accuracy: 0.9669\n",
      "Epoch 61/100\n",
      "35/35 [==============================] - 0s 2ms/step - loss: 0.0213 - accuracy: 0.9924 - val_loss: 0.2007 - val_accuracy: 0.9536\n",
      "Epoch 62/100\n",
      "35/35 [==============================] - 0s 2ms/step - loss: 0.0119 - accuracy: 0.9987 - val_loss: 0.2074 - val_accuracy: 0.9470\n",
      "Epoch 63/100\n",
      "35/35 [==============================] - 0s 2ms/step - loss: 0.0141 - accuracy: 0.9947 - val_loss: 0.2053 - val_accuracy: 0.9536\n",
      "Epoch 64/100\n",
      "35/35 [==============================] - 0s 2ms/step - loss: 0.0101 - accuracy: 0.9997 - val_loss: 0.2057 - val_accuracy: 0.9603\n",
      "Epoch 65/100\n",
      "35/35 [==============================] - 0s 2ms/step - loss: 0.0144 - accuracy: 0.9976 - val_loss: 0.2070 - val_accuracy: 0.9603\n",
      "Epoch 66/100\n",
      "35/35 [==============================] - 0s 2ms/step - loss: 0.0110 - accuracy: 0.9991 - val_loss: 0.2084 - val_accuracy: 0.9669\n",
      "Epoch 67/100\n",
      "35/35 [==============================] - 0s 2ms/step - loss: 0.0155 - accuracy: 0.9991 - val_loss: 0.2081 - val_accuracy: 0.9536\n",
      "Epoch 68/100\n",
      "35/35 [==============================] - 0s 2ms/step - loss: 0.0128 - accuracy: 0.9984 - val_loss: 0.2122 - val_accuracy: 0.9669\n",
      "Epoch 69/100\n",
      "35/35 [==============================] - 0s 2ms/step - loss: 0.0110 - accuracy: 0.9997 - val_loss: 0.2090 - val_accuracy: 0.9669\n",
      "Epoch 70/100\n",
      "35/35 [==============================] - 0s 2ms/step - loss: 0.0097 - accuracy: 0.9988 - val_loss: 0.2150 - val_accuracy: 0.9669\n",
      "Epoch 71/100\n",
      "35/35 [==============================] - 0s 2ms/step - loss: 0.0113 - accuracy: 1.0000 - val_loss: 0.2154 - val_accuracy: 0.9603\n",
      "Epoch 72/100\n",
      "35/35 [==============================] - 0s 2ms/step - loss: 0.0147 - accuracy: 1.0000 - val_loss: 0.2122 - val_accuracy: 0.9536\n",
      "Epoch 73/100\n",
      "35/35 [==============================] - 0s 2ms/step - loss: 0.0103 - accuracy: 0.9996 - val_loss: 0.2137 - val_accuracy: 0.9470\n",
      "Epoch 74/100\n",
      "35/35 [==============================] - 0s 2ms/step - loss: 0.0117 - accuracy: 0.9974 - val_loss: 0.2217 - val_accuracy: 0.9536\n",
      "Epoch 75/100\n",
      "35/35 [==============================] - 0s 2ms/step - loss: 0.0127 - accuracy: 0.9965 - val_loss: 0.2215 - val_accuracy: 0.9669\n",
      "Epoch 76/100\n",
      "35/35 [==============================] - 0s 1ms/step - loss: 0.0124 - accuracy: 1.0000 - val_loss: 0.2304 - val_accuracy: 0.9603\n",
      "Epoch 77/100\n",
      "35/35 [==============================] - 0s 2ms/step - loss: 0.0127 - accuracy: 0.9998 - val_loss: 0.2218 - val_accuracy: 0.9603\n",
      "Epoch 78/100\n",
      "35/35 [==============================] - 0s 1ms/step - loss: 0.0114 - accuracy: 0.9998 - val_loss: 0.2368 - val_accuracy: 0.9603\n",
      "Epoch 79/100\n",
      "35/35 [==============================] - 0s 2ms/step - loss: 0.0188 - accuracy: 0.9915 - val_loss: 0.2276 - val_accuracy: 0.9470\n",
      "Epoch 80/100\n",
      "35/35 [==============================] - 0s 2ms/step - loss: 0.0092 - accuracy: 0.9984 - val_loss: 0.2376 - val_accuracy: 0.9603\n",
      "Epoch 81/100\n",
      "35/35 [==============================] - 0s 2ms/step - loss: 0.0167 - accuracy: 0.9965 - val_loss: 0.2322 - val_accuracy: 0.9669\n",
      "Epoch 82/100\n",
      "35/35 [==============================] - 0s 2ms/step - loss: 0.0217 - accuracy: 0.9947 - val_loss: 0.2328 - val_accuracy: 0.9470\n",
      "Epoch 83/100\n",
      "35/35 [==============================] - 0s 2ms/step - loss: 0.0084 - accuracy: 0.9991 - val_loss: 0.2433 - val_accuracy: 0.9603\n",
      "Epoch 84/100\n",
      "35/35 [==============================] - 0s 1ms/step - loss: 0.0091 - accuracy: 1.0000 - val_loss: 0.2337 - val_accuracy: 0.9536\n",
      "Epoch 85/100\n",
      "35/35 [==============================] - 0s 2ms/step - loss: 0.0076 - accuracy: 1.0000 - val_loss: 0.2327 - val_accuracy: 0.9470\n",
      "Epoch 86/100\n",
      "35/35 [==============================] - 0s 2ms/step - loss: 0.0072 - accuracy: 1.0000 - val_loss: 0.2359 - val_accuracy: 0.9536\n",
      "Epoch 87/100\n",
      "35/35 [==============================] - 0s 2ms/step - loss: 0.0068 - accuracy: 1.0000 - val_loss: 0.2357 - val_accuracy: 0.9470\n",
      "Epoch 88/100\n",
      "35/35 [==============================] - 0s 2ms/step - loss: 0.0061 - accuracy: 0.9990 - val_loss: 0.2413 - val_accuracy: 0.9603\n",
      "Epoch 89/100\n",
      "35/35 [==============================] - 0s 2ms/step - loss: 0.0100 - accuracy: 1.0000 - val_loss: 0.2389 - val_accuracy: 0.9603\n",
      "Epoch 90/100\n",
      "35/35 [==============================] - 0s 2ms/step - loss: 0.0057 - accuracy: 1.0000 - val_loss: 0.2357 - val_accuracy: 0.9470\n",
      "Epoch 91/100\n",
      "35/35 [==============================] - 0s 2ms/step - loss: 0.0063 - accuracy: 1.0000 - val_loss: 0.2361 - val_accuracy: 0.9470\n",
      "Epoch 92/100\n",
      "35/35 [==============================] - 0s 2ms/step - loss: 0.0063 - accuracy: 1.0000 - val_loss: 0.2427 - val_accuracy: 0.9603\n",
      "Epoch 93/100\n",
      "35/35 [==============================] - 0s 2ms/step - loss: 0.0053 - accuracy: 0.9990 - val_loss: 0.2372 - val_accuracy: 0.9536\n",
      "Epoch 94/100\n",
      "35/35 [==============================] - 0s 1ms/step - loss: 0.0066 - accuracy: 1.0000 - val_loss: 0.2501 - val_accuracy: 0.9603\n",
      "Epoch 95/100\n",
      "35/35 [==============================] - 0s 2ms/step - loss: 0.0061 - accuracy: 1.0000 - val_loss: 0.2413 - val_accuracy: 0.9536\n",
      "Epoch 96/100\n",
      "35/35 [==============================] - 0s 2ms/step - loss: 0.0037 - accuracy: 1.0000 - val_loss: 0.2529 - val_accuracy: 0.9470\n",
      "Epoch 97/100\n",
      "35/35 [==============================] - 0s 2ms/step - loss: 0.0042 - accuracy: 1.0000 - val_loss: 0.2494 - val_accuracy: 0.9470\n",
      "Epoch 98/100\n",
      "35/35 [==============================] - 0s 2ms/step - loss: 0.0040 - accuracy: 0.9998 - val_loss: 0.2435 - val_accuracy: 0.9603\n",
      "Epoch 99/100\n",
      "35/35 [==============================] - 0s 2ms/step - loss: 0.0072 - accuracy: 0.9985 - val_loss: 0.2782 - val_accuracy: 0.9536\n",
      "Epoch 100/100\n",
      "35/35 [==============================] - 0s 2ms/step - loss: 0.0064 - accuracy: 0.9990 - val_loss: 0.2496 - val_accuracy: 0.9536\n"
     ]
    }
   ],
   "source": [
    "# Training and evaluating the model\n",
    "history=model.fit(X_train, Y_train, validation_data=(X_test,Y_test),class_weight=weights, epochs =100, batch_size=10)"
   ]
  },
  {
   "cell_type": "code",
   "execution_count": 26,
   "metadata": {},
   "outputs": [
    {
     "name": "stdout",
     "output_type": "stream",
     "text": [
      "Training set accuracy: 1.000, Testing set accuracy: 0.954\n"
     ]
    }
   ],
   "source": [
    "# evaluate the model\n",
    "_,train_accuracy = model.evaluate(X_train,Y_train, verbose=0)\n",
    "_,test_accuracy = model.evaluate(X_test, Y_test, verbose=0)\n",
    "\n",
    "print('Training set accuracy: %.3f, Testing set accuracy: %.3f' % (train_accuracy, test_accuracy))"
   ]
  },
  {
   "cell_type": "code",
   "execution_count": 27,
   "metadata": {},
   "outputs": [
    {
     "data": {
      "image/png": "[encoded data removed]",
      "text/plain": [
       "<Figure size 432x288 with 1 Axes>"
      ]
     },
     "metadata": {
      "needs_background": "light"
     },
     "output_type": "display_data"
    }
   ],
   "source": [
    "# plot loss during training\n",
    "plt.title('Model Loss')\n",
    "plt.plot(history.history['loss'], label='train')\n",
    "plt.plot(history.history['val_loss'], label='test')\n",
    "plt.ylabel('loss')\n",
    "plt.xlabel('epoch')\n",
    "\n",
    "plt.legend()\n",
    "plt.show()"
   ]
  },
  {
   "cell_type": "code",
   "execution_count": 28,
   "metadata": {},
   "outputs": [
    {
     "data": {
      "image/png": "[encoded data removed]",
      "text/plain": [
       "<Figure size 576x360 with 1 Axes>"
      ]
     },
     "metadata": {
      "needs_background": "light"
     },
     "output_type": "display_data"
    }
   ],
   "source": [
    "## Plotting the learning curves\n",
    "\n",
    "pd.DataFrame(history.history).plot(figsize=(8,5))\n",
    "plt.grid(True)\n",
    "plt.gca().set_ylim(0,1)\n",
    "plt.title('model loss')\n",
    "plt.ylabel('loss')\n",
    "plt.xlabel('epoch')\n",
    "\n",
    "plt.show()"
   ]
  },
  {
   "cell_type": "code",
   "execution_count": 29,
   "metadata": {},
   "outputs": [
    {
     "name": "stderr",
     "output_type": "stream",
     "text": [
      "H:\\anaconda\\lib\\site-packages\\tensorflow\\python\\keras\\engine\\sequential.py:450: UserWarning: `model.predict_classes()` is deprecated and will be removed after 2021-01-01. Please use instead:* `np.argmax(model.predict(x), axis=-1)`,   if your model does multi-class classification   (e.g. if it uses a `softmax` last-layer activation).* `(model.predict(x) > 0.5).astype(\"int32\")`,   if your model does binary classification   (e.g. if it uses a `sigmoid` last-layer activation).\n",
      "  warnings.warn('`model.predict_classes()` is deprecated and '\n"
     ]
    }
   ],
   "source": [
    "# Making predictions\n",
    "\n",
    "y_pred=model.predict_classes(X_test);"
   ]
  },
  {
   "cell_type": "code",
   "execution_count": 30,
   "metadata": {},
   "outputs": [
    {
     "name": "stdout",
     "output_type": "stream",
     "text": [
      "              precision    recall  f1-score   support\n",
      "\n",
      "0-large fire       0.92      0.87      0.89        38\n",
      "1-small fire       0.96      0.97      0.96       113\n",
      "\n",
      "    accuracy                           0.95       151\n",
      "   macro avg       0.94      0.92      0.93       151\n",
      "weighted avg       0.95      0.95      0.95       151\n",
      "\n"
     ]
    }
   ],
   "source": [
    "# Classification report\n",
    "\n",
    "from sklearn.metrics import classification_report\n",
    "\n",
    "names=['0-large fire','1-small fire']\n",
    "print(classification_report(Y_test, y_pred,target_names=names))"
   ]
  },
  {
   "cell_type": "markdown",
   "metadata": {},
   "source": [
    "## Hyperparameter Tuning using RandomizedSearchCV"
   ]
  },
  {
   "cell_type": "code",
   "execution_count": 31,
   "metadata": {},
   "outputs": [],
   "source": [
    "from sklearn.model_selection import RandomizedSearchCV, KFold"
   ]
  },
  {
   "cell_type": "code",
   "execution_count": 32,
   "metadata": {},
   "outputs": [],
   "source": [
    "from keras.optimizers import Adam"
   ]
  },
  {
   "cell_type": "code",
   "execution_count": 33,
   "metadata": {},
   "outputs": [],
   "source": [
    "from keras.wrappers.scikit_learn import KerasClassifier\n"
   ]
  },
  {
   "cell_type": "code",
   "execution_count": 34,
   "metadata": {},
   "outputs": [],
   "source": [
    "# Building a keras classification model\n",
    "\n",
    "def create_keras_model(learning_rate,activation_function,init,neuron1,neuron2):\n",
    "    \n",
    "    model = Sequential()\n",
    "    \n",
    "    model.add(Dense(neuron1,input_dim = 28,kernel_initializer = init,activation = activation_function))\n",
    " \n",
    "    model.add(Dense(neuron2,input_dim = neuron1,kernel_initializer = init,activation = activation_function))\n",
    "\n",
    "    model.add(Dense(1,activation = 'sigmoid'))\n",
    "    \n",
    "    adam = Adam(lr = learning_rate)\n",
    "    \n",
    "    model.compile(loss = 'binary_crossentropy',optimizer = adam,metrics = ['accuracy'])\n",
    "    return model\n",
    "\n"
   ]
  },
  {
   "cell_type": "code",
   "execution_count": 35,
   "metadata": {},
   "outputs": [],
   "source": [
    "# Wrapping the keras model in a object\n",
    "\n",
    "keras_clf = KerasClassifier(build_fn = create_keras_model,verbose = 0)"
   ]
  },
  {
   "cell_type": "code",
   "execution_count": 43,
   "metadata": {},
   "outputs": [
    {
     "name": "stdout",
     "output_type": "stream",
     "text": [
      "Fitting 5 folds for each of 10 candidates, totalling 50 fits\n"
     ]
    },
    {
     "name": "stderr",
     "output_type": "stream",
     "text": [
      "[Parallel(n_jobs=-1)]: Using backend LokyBackend with 4 concurrent workers.\n",
      "[Parallel(n_jobs=-1)]: Done   5 tasks      | elapsed:    3.9s\n",
      "[Parallel(n_jobs=-1)]: Done  10 tasks      | elapsed:    5.8s\n",
      "[Parallel(n_jobs=-1)]: Done  17 tasks      | elapsed:   10.0s\n",
      "[Parallel(n_jobs=-1)]: Done  24 tasks      | elapsed:   12.8s\n",
      "[Parallel(n_jobs=-1)]: Done  33 tasks      | elapsed:   20.0s\n",
      "[Parallel(n_jobs=-1)]: Done  42 tasks      | elapsed:   24.2s\n",
      "[Parallel(n_jobs=-1)]: Done  50 out of  50 | elapsed:   27.7s finished\n"
     ]
    }
   ],
   "source": [
    "# Define the search parameters\n",
    "\n",
    "batch_size = [10,20,30,40,50]\n",
    "epochs = [25,50,100]\n",
    "learning_rate = [0.001,0.01,0.1]\n",
    "\n",
    "activation_function = ['softmax','relu','tanh','linear']\n",
    "init = ['uniform','normal','zero']\n",
    "neuron1 = [10,20,30]\n",
    "neuron2 = [2,4,6,8]\n",
    "\n",
    "\n",
    "# Create a dictionary of the parameters\n",
    "\n",
    "param_grids = dict(batch_size = batch_size,epochs = epochs,learning_rate = learning_rate,\n",
    "                   activation_function = activation_function,init = init,neuron1 = neuron1,neuron2 = neuron2)\n",
    "\n",
    "\n",
    "# Build and fit the RandomizedSearchCV\n",
    "\n",
    "random_search = RandomizedSearchCV(estimator = keras_clf,param_distributions = param_grids,cv = 5,n_jobs=-1,verbose = 10,\n",
    "                                   random_state=40)\n",
    "random_result = random_search.fit(X_train,Y_train)\n",
    "\n",
    "\n"
   ]
  },
  {
   "cell_type": "code",
   "execution_count": 44,
   "metadata": {},
   "outputs": [
    {
     "name": "stdout",
     "output_type": "stream",
     "text": [
      "Best score: 0.9599999904632568\n",
      "Best parameters: {'neuron2': 8, 'neuron1': 20, 'learning_rate': 0.01, 'init': 'uniform', 'epochs': 50, 'batch_size': 40, 'activation_function': 'linear'}\n"
     ]
    }
   ],
   "source": [
    "# Summarize the results\n",
    "print('Best score:',random_result.best_score_)\n",
    "print('Best parameters:',random_result.best_params_)\n"
   ]
  },
  {
   "cell_type": "code",
   "execution_count": 45,
   "metadata": {},
   "outputs": [
    {
     "name": "stdout",
     "output_type": "stream",
     "text": [
      "Epoch 1/50\n",
      "9/9 [==============================] - 1s 23ms/step - loss: 0.6610 - accuracy: 0.6821 - val_loss: 0.5258 - val_accuracy: 0.7483\n",
      "Epoch 2/50\n",
      "9/9 [==============================] - 0s 5ms/step - loss: 0.5567 - accuracy: 0.7310 - val_loss: 0.5047 - val_accuracy: 0.7550\n",
      "Epoch 3/50\n",
      "9/9 [==============================] - 0s 5ms/step - loss: 0.5184 - accuracy: 0.7519 - val_loss: 0.4828 - val_accuracy: 0.8212\n",
      "Epoch 4/50\n",
      "9/9 [==============================] - 0s 6ms/step - loss: 0.4621 - accuracy: 0.7966 - val_loss: 0.4076 - val_accuracy: 0.8411\n",
      "Epoch 5/50\n",
      "9/9 [==============================] - 0s 6ms/step - loss: 0.3919 - accuracy: 0.8411 - val_loss: 0.3631 - val_accuracy: 0.8742\n",
      "Epoch 6/50\n",
      "9/9 [==============================] - 0s 6ms/step - loss: 0.3316 - accuracy: 0.8713 - val_loss: 0.3006 - val_accuracy: 0.8742\n",
      "Epoch 7/50\n",
      "9/9 [==============================] - 0s 6ms/step - loss: 0.2934 - accuracy: 0.8740 - val_loss: 0.2877 - val_accuracy: 0.9007\n",
      "Epoch 8/50\n",
      "9/9 [==============================] - 0s 11ms/step - loss: 0.2543 - accuracy: 0.9022 - val_loss: 0.3353 - val_accuracy: 0.8543\n",
      "Epoch 9/50\n",
      "9/9 [==============================] - 0s 11ms/step - loss: 0.2546 - accuracy: 0.8945 - val_loss: 0.2660 - val_accuracy: 0.9139\n",
      "Epoch 10/50\n",
      "9/9 [==============================] - 0s 7ms/step - loss: 0.1934 - accuracy: 0.9221 - val_loss: 0.2314 - val_accuracy: 0.9470\n",
      "Epoch 11/50\n",
      "9/9 [==============================] - 0s 7ms/step - loss: 0.1522 - accuracy: 0.9388 - val_loss: 0.2582 - val_accuracy: 0.9404\n",
      "Epoch 12/50\n",
      "9/9 [==============================] - 0s 7ms/step - loss: 0.1238 - accuracy: 0.9615 - val_loss: 0.2391 - val_accuracy: 0.9338\n",
      "Epoch 13/50\n",
      "9/9 [==============================] - 0s 7ms/step - loss: 0.0910 - accuracy: 0.9708 - val_loss: 0.2271 - val_accuracy: 0.9536\n",
      "Epoch 14/50\n",
      "9/9 [==============================] - 0s 6ms/step - loss: 0.0826 - accuracy: 0.9674 - val_loss: 0.2211 - val_accuracy: 0.9735\n",
      "Epoch 15/50\n",
      "9/9 [==============================] - 0s 7ms/step - loss: 0.0753 - accuracy: 0.9732 - val_loss: 0.2379 - val_accuracy: 0.9735\n",
      "Epoch 16/50\n",
      "9/9 [==============================] - 0s 6ms/step - loss: 0.0832 - accuracy: 0.9703 - val_loss: 0.2764 - val_accuracy: 0.9470\n",
      "Epoch 17/50\n",
      "9/9 [==============================] - 0s 6ms/step - loss: 0.0769 - accuracy: 0.9540 - val_loss: 0.2483 - val_accuracy: 0.9801\n",
      "Epoch 18/50\n",
      "9/9 [==============================] - 0s 7ms/step - loss: 0.0564 - accuracy: 0.9758 - val_loss: 0.2601 - val_accuracy: 0.9536\n",
      "Epoch 19/50\n",
      "9/9 [==============================] - 0s 6ms/step - loss: 0.0549 - accuracy: 0.9752 - val_loss: 0.2607 - val_accuracy: 0.9801\n",
      "Epoch 20/50\n",
      "9/9 [==============================] - 0s 6ms/step - loss: 0.0803 - accuracy: 0.9593 - val_loss: 0.2814 - val_accuracy: 0.9536\n",
      "Epoch 21/50\n",
      "9/9 [==============================] - 0s 7ms/step - loss: 0.1053 - accuracy: 0.9598 - val_loss: 0.2948 - val_accuracy: 0.9536\n",
      "Epoch 22/50\n",
      "9/9 [==============================] - 0s 7ms/step - loss: 0.1108 - accuracy: 0.9599 - val_loss: 0.3269 - val_accuracy: 0.9470\n",
      "Epoch 23/50\n",
      "9/9 [==============================] - 0s 7ms/step - loss: 0.1184 - accuracy: 0.9531 - val_loss: 0.2932 - val_accuracy: 0.9404\n",
      "Epoch 24/50\n",
      "9/9 [==============================] - 0s 6ms/step - loss: 0.1241 - accuracy: 0.9471 - val_loss: 0.2555 - val_accuracy: 0.9536\n",
      "Epoch 25/50\n",
      "9/9 [==============================] - 0s 6ms/step - loss: 0.0745 - accuracy: 0.9720 - val_loss: 0.2284 - val_accuracy: 0.9735\n",
      "Epoch 26/50\n",
      "9/9 [==============================] - 0s 6ms/step - loss: 0.0798 - accuracy: 0.9729 - val_loss: 0.2300 - val_accuracy: 0.9735\n",
      "Epoch 27/50\n",
      "9/9 [==============================] - 0s 6ms/step - loss: 0.0869 - accuracy: 0.9697 - val_loss: 0.2335 - val_accuracy: 0.9603\n",
      "Epoch 28/50\n",
      "9/9 [==============================] - 0s 6ms/step - loss: 0.0836 - accuracy: 0.9764 - val_loss: 0.2196 - val_accuracy: 0.9669\n",
      "Epoch 29/50\n",
      "9/9 [==============================] - 0s 7ms/step - loss: 0.0434 - accuracy: 0.9891 - val_loss: 0.2046 - val_accuracy: 0.9735\n",
      "Epoch 30/50\n",
      "9/9 [==============================] - 0s 6ms/step - loss: 0.0566 - accuracy: 0.9734 - val_loss: 0.2262 - val_accuracy: 0.9735\n",
      "Epoch 31/50\n",
      "9/9 [==============================] - 0s 6ms/step - loss: 0.0415 - accuracy: 0.9823 - val_loss: 0.2267 - val_accuracy: 0.9603\n",
      "Epoch 32/50\n",
      "9/9 [==============================] - 0s 7ms/step - loss: 0.0429 - accuracy: 0.9844 - val_loss: 0.2279 - val_accuracy: 0.9536\n",
      "Epoch 33/50\n",
      "9/9 [==============================] - 0s 7ms/step - loss: 0.0435 - accuracy: 0.9820 - val_loss: 0.2548 - val_accuracy: 0.9470\n",
      "Epoch 34/50\n",
      "9/9 [==============================] - 0s 7ms/step - loss: 0.0483 - accuracy: 0.9764 - val_loss: 0.2501 - val_accuracy: 0.9603\n",
      "Epoch 35/50\n",
      "9/9 [==============================] - 0s 7ms/step - loss: 0.0507 - accuracy: 0.9790 - val_loss: 0.2543 - val_accuracy: 0.9603\n",
      "Epoch 36/50\n",
      "9/9 [==============================] - 0s 7ms/step - loss: 0.0890 - accuracy: 0.9582 - val_loss: 0.2441 - val_accuracy: 0.9603\n",
      "Epoch 37/50\n",
      "9/9 [==============================] - 0s 7ms/step - loss: 0.1077 - accuracy: 0.9567 - val_loss: 0.2217 - val_accuracy: 0.9669\n",
      "Epoch 38/50\n",
      "9/9 [==============================] - 0s 7ms/step - loss: 0.0788 - accuracy: 0.9624 - val_loss: 0.2395 - val_accuracy: 0.9603\n",
      "Epoch 39/50\n",
      "9/9 [==============================] - 0s 8ms/step - loss: 0.0919 - accuracy: 0.9660 - val_loss: 0.2571 - val_accuracy: 0.9470\n",
      "Epoch 40/50\n",
      "9/9 [==============================] - 0s 7ms/step - loss: 0.1220 - accuracy: 0.9517 - val_loss: 0.2758 - val_accuracy: 0.9404\n",
      "Epoch 41/50\n",
      "9/9 [==============================] - 0s 7ms/step - loss: 0.0687 - accuracy: 0.9719 - val_loss: 0.2093 - val_accuracy: 0.9669\n",
      "Epoch 42/50\n",
      "9/9 [==============================] - 0s 7ms/step - loss: 0.0379 - accuracy: 0.9890 - val_loss: 0.2034 - val_accuracy: 0.9603\n",
      "Epoch 43/50\n",
      "9/9 [==============================] - 0s 7ms/step - loss: 0.0519 - accuracy: 0.9696 - val_loss: 0.2281 - val_accuracy: 0.9536\n",
      "Epoch 44/50\n",
      "9/9 [==============================] - 0s 6ms/step - loss: 0.0380 - accuracy: 0.9882 - val_loss: 0.2150 - val_accuracy: 0.9669\n",
      "Epoch 45/50\n",
      "9/9 [==============================] - 0s 7ms/step - loss: 0.0447 - accuracy: 0.9828 - val_loss: 0.2342 - val_accuracy: 0.9603\n",
      "Epoch 46/50\n",
      "9/9 [==============================] - 0s 7ms/step - loss: 0.0308 - accuracy: 0.9953 - val_loss: 0.2151 - val_accuracy: 0.9669\n",
      "Epoch 47/50\n",
      "9/9 [==============================] - 0s 6ms/step - loss: 0.0496 - accuracy: 0.9754 - val_loss: 0.2194 - val_accuracy: 0.9669\n",
      "Epoch 48/50\n",
      "9/9 [==============================] - 0s 7ms/step - loss: 0.0318 - accuracy: 0.9853 - val_loss: 0.2289 - val_accuracy: 0.9669\n",
      "Epoch 49/50\n",
      "9/9 [==============================] - 0s 6ms/step - loss: 0.0228 - accuracy: 0.9952 - val_loss: 0.2397 - val_accuracy: 0.9669\n",
      "Epoch 50/50\n",
      "9/9 [==============================] - 0s 7ms/step - loss: 0.0273 - accuracy: 0.9923 - val_loss: 0.2575 - val_accuracy: 0.9536\n"
     ]
    }
   ],
   "source": [
    "## storing the best parameters in a variable\n",
    "## fitting the model with best parameters\n",
    "\n",
    "d1= random_result.best_params_\n",
    "\n",
    "keras_tuned=create_keras_model(learning_rate=d1['learning_rate'],activation_function=d1['activation_function'],init=d1['init'],\n",
    "                                                                                       neuron1=d1['neuron1'],neuron2=d1['neuron2'])\n",
    "\n",
    "# Training and evaluating the model\n",
    "history2=keras_tuned.fit(X_train, Y_train, validation_data=(X_test,Y_test),class_weight=weights,\n",
    "                         epochs =d1['epochs'], batch_size=d1['batch_size'])"
   ]
  },
  {
   "cell_type": "code",
   "execution_count": 46,
   "metadata": {},
   "outputs": [
    {
     "name": "stdout",
     "output_type": "stream",
     "text": [
      "Training set accuracy: 0.994, Testing set accuracy: 0.954\n"
     ]
    }
   ],
   "source": [
    "# evaluate the model\n",
    "_,train_accuracy_tuned = keras_tuned.evaluate(X_train,Y_train, verbose=0)\n",
    "_,test_accuracy_tuned = keras_tuned.evaluate(X_test, Y_test, verbose=0)\n",
    "\n",
    "print('Training set accuracy: %.3f, Testing set accuracy: %.3f' % (train_accuracy_tuned, test_accuracy_tuned))"
   ]
  },
  {
   "cell_type": "code",
   "execution_count": 47,
   "metadata": {},
   "outputs": [
    {
     "name": "stderr",
     "output_type": "stream",
     "text": [
      "H:\\anaconda\\lib\\site-packages\\tensorflow\\python\\keras\\engine\\sequential.py:450: UserWarning: `model.predict_classes()` is deprecated and will be removed after 2021-01-01. Please use instead:* `np.argmax(model.predict(x), axis=-1)`,   if your model does multi-class classification   (e.g. if it uses a `softmax` last-layer activation).* `(model.predict(x) > 0.5).astype(\"int32\")`,   if your model does binary classification   (e.g. if it uses a `sigmoid` last-layer activation).\n",
      "  warnings.warn('`model.predict_classes()` is deprecated and '\n"
     ]
    }
   ],
   "source": [
    "# Making predictions\n",
    "\n",
    "y_pred_tuned=keras_tuned.predict_classes(X_test);"
   ]
  },
  {
   "cell_type": "markdown",
   "metadata": {},
   "source": [
    "### Classification report of tuned model"
   ]
  },
  {
   "cell_type": "code",
   "execution_count": 48,
   "metadata": {},
   "outputs": [
    {
     "name": "stdout",
     "output_type": "stream",
     "text": [
      "              precision    recall  f1-score   support\n",
      "\n",
      "0-large fire       0.88      0.95      0.91        38\n",
      "1-small fire       0.98      0.96      0.97       113\n",
      "\n",
      "    accuracy                           0.95       151\n",
      "   macro avg       0.93      0.95      0.94       151\n",
      "weighted avg       0.96      0.95      0.95       151\n",
      "\n"
     ]
    }
   ],
   "source": [
    "from sklearn.metrics import classification_report\n",
    "\n",
    "names=['0-large fire','1-small fire']\n",
    "print(classification_report(Y_test, y_pred_tuned,target_names=names))"
   ]
  },
  {
   "cell_type": "markdown",
   "metadata": {},
   "source": [
    "### Comparing base model and tuned model"
   ]
  },
  {
   "cell_type": "code",
   "execution_count": 49,
   "metadata": {},
   "outputs": [
    {
     "data": {
      "text/html": [
       "<div>\n",
       "<style scoped>\n",
       "    .dataframe tbody tr th:only-of-type {\n",
       "        vertical-align: middle;\n",
       "    }\n",
       "\n",
       "    .dataframe tbody tr th {\n",
       "        vertical-align: top;\n",
       "    }\n",
       "\n",
       "    .dataframe thead th {\n",
       "        text-align: right;\n",
       "    }\n",
       "</style>\n",
       "<table border=\"1\" class=\"dataframe\">\n",
       "  <thead>\n",
       "    <tr style=\"text-align: right;\">\n",
       "      <th></th>\n",
       "      <th>models</th>\n",
       "      <th>train accuracy</th>\n",
       "      <th>test accuracy</th>\n",
       "    </tr>\n",
       "  </thead>\n",
       "  <tbody>\n",
       "    <tr>\n",
       "      <th>0</th>\n",
       "      <td>base model</td>\n",
       "      <td>1.000000</td>\n",
       "      <td>0.947020</td>\n",
       "    </tr>\n",
       "    <tr>\n",
       "      <th>1</th>\n",
       "      <td>tuned model</td>\n",
       "      <td>0.994286</td>\n",
       "      <td>0.953642</td>\n",
       "    </tr>\n",
       "  </tbody>\n",
       "</table>\n",
       "</div>"
      ],
      "text/plain": [
       "        models  train accuracy  test accuracy\n",
       "0   base model        1.000000       0.947020\n",
       "1  tuned model        0.994286       0.953642"
      ]
     },
     "execution_count": 49,
     "metadata": {},
     "output_type": "execute_result"
    }
   ],
   "source": [
    "result=pd.DataFrame({'models':['base model','tuned model'],'train accuracy':[train_accuracy,train_accuracy_tuned],\n",
    "                     'test accuracy':[test_accuracy,test_accuracy_tuned]})\n",
    "result"
   ]
  },
  {
   "cell_type": "markdown",
   "metadata": {},
   "source": [
    "We can see that hypertuning parameters using RandomizedSearchCV has improved the test set accuracy and also minimized the difference between accuracy of train and test set thus reducing overfitting."
   ]
  },
  {
   "cell_type": "code",
   "execution_count": null,
   "metadata": {},
   "outputs": [],
   "source": []
  }
 ],
 "metadata": {
  "kernelspec": {
   "display_name": "Python 3 (ipykernel)",
   "language": "python",
   "name": "python3"
  },
  "language_info": {
   "codemirror_mode": {
    "name": "ipython",
    "version": 3
   },
   "file_extension": ".py",
   "mimetype": "text/x-python",
   "name": "python",
   "nbconvert_exporter": "python",
   "pygments_lexer": "ipython3",
   "version": "3.9.12"
  }
 },
 "nbformat": 4,
 "nbformat_minor": 4
}
