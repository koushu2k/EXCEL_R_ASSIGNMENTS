{
 "cells": [
  {
   "cell_type": "markdown",
   "metadata": {},
   "source": [
    "## Prepare a prediction model for profit of 50_startups data.\n",
    "Do transformations for getting better predictions of profit and\n",
    "make a table containing R^2 value for each prepared model.\n"
   ]
  },
  {
   "cell_type": "code",
   "execution_count": 1,
   "metadata": {},
   "outputs": [
    {
     "name": "stdout",
     "output_type": "stream",
     "text": [
      "Libraries Imported!\n"
     ]
    }
   ],
   "source": [
    "# lOADING THE LIBRARIES\n",
    "import numpy as np\n",
    "import pandas as pd\n",
    "import seaborn as sns\n",
    "import matplotlib.pyplot as plt\n",
    "import statsmodels.formula.api as smf\n",
    "import statsmodels.api as sm\n",
    "from sklearn.preprocessing import StandardScaler\n",
    "from ml_metrics import mse\n",
    "print(\"Libraries Imported!\")"
   ]
  },
  {
   "cell_type": "code",
   "execution_count": 2,
   "metadata": {},
   "outputs": [
    {
     "data": {
      "text/html": [
       "<div>\n",
       "<style scoped>\n",
       "    .dataframe tbody tr th:only-of-type {\n",
       "        vertical-align: middle;\n",
       "    }\n",
       "\n",
       "    .dataframe tbody tr th {\n",
       "        vertical-align: top;\n",
       "    }\n",
       "\n",
       "    .dataframe thead th {\n",
       "        text-align: right;\n",
       "    }\n",
       "</style>\n",
       "<table border=\"1\" class=\"dataframe\">\n",
       "  <thead>\n",
       "    <tr style=\"text-align: right;\">\n",
       "      <th></th>\n",
       "      <th>R&amp;D Spend</th>\n",
       "      <th>Administration</th>\n",
       "      <th>Marketing Spend</th>\n",
       "      <th>State</th>\n",
       "      <th>Profit</th>\n",
       "    </tr>\n",
       "  </thead>\n",
       "  <tbody>\n",
       "    <tr>\n",
       "      <th>0</th>\n",
       "      <td>165349.20</td>\n",
       "      <td>136897.80</td>\n",
       "      <td>471784.10</td>\n",
       "      <td>New York</td>\n",
       "      <td>192261.83</td>\n",
       "    </tr>\n",
       "    <tr>\n",
       "      <th>1</th>\n",
       "      <td>162597.70</td>\n",
       "      <td>151377.59</td>\n",
       "      <td>443898.53</td>\n",
       "      <td>California</td>\n",
       "      <td>191792.06</td>\n",
       "    </tr>\n",
       "    <tr>\n",
       "      <th>2</th>\n",
       "      <td>153441.51</td>\n",
       "      <td>101145.55</td>\n",
       "      <td>407934.54</td>\n",
       "      <td>Florida</td>\n",
       "      <td>191050.39</td>\n",
       "    </tr>\n",
       "    <tr>\n",
       "      <th>3</th>\n",
       "      <td>144372.41</td>\n",
       "      <td>118671.85</td>\n",
       "      <td>383199.62</td>\n",
       "      <td>New York</td>\n",
       "      <td>182901.99</td>\n",
       "    </tr>\n",
       "    <tr>\n",
       "      <th>4</th>\n",
       "      <td>142107.34</td>\n",
       "      <td>91391.77</td>\n",
       "      <td>366168.42</td>\n",
       "      <td>Florida</td>\n",
       "      <td>166187.94</td>\n",
       "    </tr>\n",
       "  </tbody>\n",
       "</table>\n",
       "</div>"
      ],
      "text/plain": [
       "   R&D Spend  Administration  Marketing Spend       State     Profit\n",
       "0  165349.20       136897.80        471784.10    New York  192261.83\n",
       "1  162597.70       151377.59        443898.53  California  191792.06\n",
       "2  153441.51       101145.55        407934.54     Florida  191050.39\n",
       "3  144372.41       118671.85        383199.62    New York  182901.99\n",
       "4  142107.34        91391.77        366168.42     Florida  166187.94"
      ]
     },
     "execution_count": 2,
     "metadata": {},
     "output_type": "execute_result"
    }
   ],
   "source": [
    "# loading csv data into dataframe and viewing\n",
    "df=pd.read_csv(\"H:/ExcelR Data Science/datasets_BA/50_Startups.csv\")\n",
    "df.head()"
   ]
  },
  {
   "cell_type": "code",
   "execution_count": 3,
   "metadata": {},
   "outputs": [
    {
     "name": "stdout",
     "output_type": "stream",
     "text": [
      "<class 'pandas.core.frame.DataFrame'>\n",
      "RangeIndex: 50 entries, 0 to 49\n",
      "Data columns (total 5 columns):\n",
      " #   Column           Non-Null Count  Dtype  \n",
      "---  ------           --------------  -----  \n",
      " 0   R&D Spend        50 non-null     float64\n",
      " 1   Administration   50 non-null     float64\n",
      " 2   Marketing Spend  50 non-null     float64\n",
      " 3   State            50 non-null     object \n",
      " 4   Profit           50 non-null     float64\n",
      "dtypes: float64(4), object(1)\n",
      "memory usage: 2.1+ KB\n"
     ]
    }
   ],
   "source": [
    "# Checking for null data and data types\n",
    "df.info()"
   ]
  },
  {
   "cell_type": "code",
   "execution_count": 4,
   "metadata": {},
   "outputs": [
    {
     "data": {
      "text/html": [
       "<div>\n",
       "<style scoped>\n",
       "    .dataframe tbody tr th:only-of-type {\n",
       "        vertical-align: middle;\n",
       "    }\n",
       "\n",
       "    .dataframe tbody tr th {\n",
       "        vertical-align: top;\n",
       "    }\n",
       "\n",
       "    .dataframe thead th {\n",
       "        text-align: right;\n",
       "    }\n",
       "</style>\n",
       "<table border=\"1\" class=\"dataframe\">\n",
       "  <thead>\n",
       "    <tr style=\"text-align: right;\">\n",
       "      <th></th>\n",
       "      <th>RD_Spend</th>\n",
       "      <th>Administration</th>\n",
       "      <th>Marketing_Spend</th>\n",
       "      <th>State</th>\n",
       "      <th>Profit</th>\n",
       "    </tr>\n",
       "  </thead>\n",
       "  <tbody>\n",
       "    <tr>\n",
       "      <th>0</th>\n",
       "      <td>165349.20</td>\n",
       "      <td>136897.80</td>\n",
       "      <td>471784.10</td>\n",
       "      <td>New York</td>\n",
       "      <td>192261.83</td>\n",
       "    </tr>\n",
       "    <tr>\n",
       "      <th>1</th>\n",
       "      <td>162597.70</td>\n",
       "      <td>151377.59</td>\n",
       "      <td>443898.53</td>\n",
       "      <td>California</td>\n",
       "      <td>191792.06</td>\n",
       "    </tr>\n",
       "    <tr>\n",
       "      <th>2</th>\n",
       "      <td>153441.51</td>\n",
       "      <td>101145.55</td>\n",
       "      <td>407934.54</td>\n",
       "      <td>Florida</td>\n",
       "      <td>191050.39</td>\n",
       "    </tr>\n",
       "    <tr>\n",
       "      <th>3</th>\n",
       "      <td>144372.41</td>\n",
       "      <td>118671.85</td>\n",
       "      <td>383199.62</td>\n",
       "      <td>New York</td>\n",
       "      <td>182901.99</td>\n",
       "    </tr>\n",
       "    <tr>\n",
       "      <th>4</th>\n",
       "      <td>142107.34</td>\n",
       "      <td>91391.77</td>\n",
       "      <td>366168.42</td>\n",
       "      <td>Florida</td>\n",
       "      <td>166187.94</td>\n",
       "    </tr>\n",
       "  </tbody>\n",
       "</table>\n",
       "</div>"
      ],
      "text/plain": [
       "    RD_Spend  Administration  Marketing_Spend       State     Profit\n",
       "0  165349.20       136897.80        471784.10    New York  192261.83\n",
       "1  162597.70       151377.59        443898.53  California  191792.06\n",
       "2  153441.51       101145.55        407934.54     Florida  191050.39\n",
       "3  144372.41       118671.85        383199.62    New York  182901.99\n",
       "4  142107.34        91391.77        366168.42     Florida  166187.94"
      ]
     },
     "execution_count": 4,
     "metadata": {},
     "output_type": "execute_result"
    }
   ],
   "source": [
    "# Renaming columns\n",
    "df.rename(columns={'R&D Spend':'RD_Spend','Marketing Spend':'Marketing_Spend'},inplace=True)\n",
    "df.head()"
   ]
  },
  {
   "cell_type": "markdown",
   "metadata": {},
   "source": [
    "## Checking the distribution and presence of outliers using histogram and boxplot\n"
   ]
  },
  {
   "cell_type": "markdown",
   "metadata": {},
   "source": [
    "## 1. Histograms"
   ]
  },
  {
   "cell_type": "code",
   "execution_count": 5,
   "metadata": {},
   "outputs": [
    {
     "name": "stderr",
     "output_type": "stream",
     "text": [
      "H:\\anaconda\\lib\\site-packages\\seaborn\\distributions.py:2557: FutureWarning: `distplot` is a deprecated function and will be removed in a future version. Please adapt your code to use either `displot` (a figure-level function with similar flexibility) or `histplot` (an axes-level function for histograms).\n",
      "  warnings.warn(msg, FutureWarning)\n",
      "H:\\anaconda\\lib\\site-packages\\seaborn\\distributions.py:2557: FutureWarning: `distplot` is a deprecated function and will be removed in a future version. Please adapt your code to use either `displot` (a figure-level function with similar flexibility) or `histplot` (an axes-level function for histograms).\n",
      "  warnings.warn(msg, FutureWarning)\n",
      "H:\\anaconda\\lib\\site-packages\\seaborn\\distributions.py:2557: FutureWarning: `distplot` is a deprecated function and will be removed in a future version. Please adapt your code to use either `displot` (a figure-level function with similar flexibility) or `histplot` (an axes-level function for histograms).\n",
      "  warnings.warn(msg, FutureWarning)\n",
      "H:\\anaconda\\lib\\site-packages\\seaborn\\distributions.py:2557: FutureWarning: `distplot` is a deprecated function and will be removed in a future version. Please adapt your code to use either `displot` (a figure-level function with similar flexibility) or `histplot` (an axes-level function for histograms).\n",
      "  warnings.warn(msg, FutureWarning)\n"
     ]
    },
    {
     "data": {
      "image/png": "[encoded data removed]",
      "text/plain": [
       "<Figure size 1080x720 with 4 Axes>"
      ]
     },
     "metadata": {},
     "output_type": "display_data"
    }
   ],
   "source": [
    "# Visualizing the distribution using histogram\n",
    "sns.set(rc={\"figure.figsize\": (15,10)})\n",
    "#creating first plot \n",
    "plt.subplot(2,2,1)\n",
    "ax = sns.distplot(df['RD_Spend'])\n",
    "plt.legend([\"Distribution graph of RD_Spend\"],loc='upper left',facecolor='yellow',edgecolor='blue')\n",
    "\n",
    "# Creating the second plot\n",
    "plt.subplot(2,2,2)\n",
    "ax = sns.distplot(df['Administration'])\n",
    "plt.legend([\"Distribution graph of Administration\"],loc='upper left',facecolor='yellow',edgecolor='blue')\n",
    "\n",
    "#Creating third plot\n",
    "plt.subplot(2,2,3)\n",
    "ax = sns.distplot(df['Marketing_Spend'])\n",
    "plt.legend([\"Distribution graph of Marketing_Spend\"],loc='upper left',facecolor='yellow',edgecolor='blue')\n",
    "\n",
    "#Creating fourth plot\n",
    "plt.subplot(2,2,4)\n",
    "ax = sns.distplot(df['Profit'])\n",
    "plt.legend([\"Distribution graph of Profit\"],loc='upper left',facecolor='yellow',edgecolor='blue')\n",
    "\n",
    "\n",
    "plt.tight_layout(5) \n",
    "plt.show()"
   ]
  },
  {
   "cell_type": "markdown",
   "metadata": {},
   "source": [
    "## 2. Boxplots"
   ]
  },
  {
   "cell_type": "code",
   "execution_count": 6,
   "metadata": {},
   "outputs": [
    {
     "data": {
      "image/png": "[encoded data removed]",
      "text/plain": [
       "<Figure size 1080x720 with 4 Axes>"
      ]
     },
     "metadata": {},
     "output_type": "display_data"
    }
   ],
   "source": [
    "# Using boxplots to detect outliers\n",
    "sns.set(rc={\"figure.figsize\": (15,10)})\n",
    "#creating first plot \n",
    "plt.subplot(2,2,1)\n",
    "ax = sns.boxplot(x=df['RD_Spend'])\n",
    "plt.legend(['Boxplot of R&D_Spend'],loc='upper left',facecolor='yellow',edgecolor='blue')\n",
    "\n",
    "# Creating second plot\n",
    "plt.subplot(2,2,2)\n",
    "ax = sns.boxplot(x=df['Administration'])\n",
    "plt.legend([\"Boxplot of Administration\"],loc='upper left',facecolor='yellow',edgecolor='blue')\n",
    "\n",
    "# Creating third plot\n",
    "plt.subplot(2,2,3)\n",
    "ax = sns.boxplot(x=df['Marketing_Spend'])\n",
    "plt.legend([\"Boxplot of Marketing_Spend\"],loc='upper left',facecolor='yellow',edgecolor='blue')\n",
    "\n",
    "# Creating fourth plot\n",
    "plt.subplot(2,2,4)\n",
    "ax = sns.boxplot(x=df['Profit'])\n",
    "plt.legend([\"Boxplot of Profit\"],loc='upper left',facecolor='yellow',edgecolor='blue')\n",
    "\n",
    "plt.tight_layout(5) \n",
    "plt.show()"
   ]
  },
  {
   "cell_type": "markdown",
   "metadata": {},
   "source": [
    " ###  Profit column has an outlier"
   ]
  },
  {
   "cell_type": "code",
   "execution_count": 7,
   "metadata": {},
   "outputs": [
    {
     "data": {
      "image/png": "[encoded data removed]",
      "text/plain": [
       "<Figure size 1080x720 with 1 Axes>"
      ]
     },
     "metadata": {},
     "output_type": "display_data"
    }
   ],
   "source": [
    "# Checking relationship of State variable with Y\n",
    "sns.barplot(x='State',y='Profit',data=df)\n",
    "plt.show()"
   ]
  },
  {
   "cell_type": "markdown",
   "metadata": {},
   "source": [
    "All three states category seems to have more or less same profit levels so state variable cannot be a good predictor for profit.So we will drop it."
   ]
  },
  {
   "cell_type": "code",
   "execution_count": 8,
   "metadata": {},
   "outputs": [
    {
     "data": {
      "text/html": [
       "<div>\n",
       "<style scoped>\n",
       "    .dataframe tbody tr th:only-of-type {\n",
       "        vertical-align: middle;\n",
       "    }\n",
       "\n",
       "    .dataframe tbody tr th {\n",
       "        vertical-align: top;\n",
       "    }\n",
       "\n",
       "    .dataframe thead th {\n",
       "        text-align: right;\n",
       "    }\n",
       "</style>\n",
       "<table border=\"1\" class=\"dataframe\">\n",
       "  <thead>\n",
       "    <tr style=\"text-align: right;\">\n",
       "      <th></th>\n",
       "      <th>RD_Spend</th>\n",
       "      <th>Administration</th>\n",
       "      <th>Marketing_Spend</th>\n",
       "      <th>Profit</th>\n",
       "    </tr>\n",
       "  </thead>\n",
       "  <tbody>\n",
       "    <tr>\n",
       "      <th>0</th>\n",
       "      <td>165349.20</td>\n",
       "      <td>136897.80</td>\n",
       "      <td>471784.10</td>\n",
       "      <td>192261.83</td>\n",
       "    </tr>\n",
       "    <tr>\n",
       "      <th>1</th>\n",
       "      <td>162597.70</td>\n",
       "      <td>151377.59</td>\n",
       "      <td>443898.53</td>\n",
       "      <td>191792.06</td>\n",
       "    </tr>\n",
       "    <tr>\n",
       "      <th>2</th>\n",
       "      <td>153441.51</td>\n",
       "      <td>101145.55</td>\n",
       "      <td>407934.54</td>\n",
       "      <td>191050.39</td>\n",
       "    </tr>\n",
       "    <tr>\n",
       "      <th>3</th>\n",
       "      <td>144372.41</td>\n",
       "      <td>118671.85</td>\n",
       "      <td>383199.62</td>\n",
       "      <td>182901.99</td>\n",
       "    </tr>\n",
       "    <tr>\n",
       "      <th>4</th>\n",
       "      <td>142107.34</td>\n",
       "      <td>91391.77</td>\n",
       "      <td>366168.42</td>\n",
       "      <td>166187.94</td>\n",
       "    </tr>\n",
       "  </tbody>\n",
       "</table>\n",
       "</div>"
      ],
      "text/plain": [
       "    RD_Spend  Administration  Marketing_Spend     Profit\n",
       "0  165349.20       136897.80        471784.10  192261.83\n",
       "1  162597.70       151377.59        443898.53  191792.06\n",
       "2  153441.51       101145.55        407934.54  191050.39\n",
       "3  144372.41       118671.85        383199.62  182901.99\n",
       "4  142107.34        91391.77        366168.42  166187.94"
      ]
     },
     "execution_count": 8,
     "metadata": {},
     "output_type": "execute_result"
    }
   ],
   "source": [
    "#Creating new dataframe by dropping State variable\n",
    "df1=df[['RD_Spend','Administration','Marketing_Spend','Profit']]\n",
    "df1.head()"
   ]
  },
  {
   "cell_type": "code",
   "execution_count": 9,
   "metadata": {},
   "outputs": [
    {
     "data": {
      "text/html": [
       "<div>\n",
       "<style scoped>\n",
       "    .dataframe tbody tr th:only-of-type {\n",
       "        vertical-align: middle;\n",
       "    }\n",
       "\n",
       "    .dataframe tbody tr th {\n",
       "        vertical-align: top;\n",
       "    }\n",
       "\n",
       "    .dataframe thead th {\n",
       "        text-align: right;\n",
       "    }\n",
       "</style>\n",
       "<table border=\"1\" class=\"dataframe\">\n",
       "  <thead>\n",
       "    <tr style=\"text-align: right;\">\n",
       "      <th></th>\n",
       "      <th>RD_Spend</th>\n",
       "      <th>Administration</th>\n",
       "      <th>Marketing_Spend</th>\n",
       "      <th>Profit</th>\n",
       "    </tr>\n",
       "  </thead>\n",
       "  <tbody>\n",
       "    <tr>\n",
       "      <th>count</th>\n",
       "      <td>50.000000</td>\n",
       "      <td>50.000000</td>\n",
       "      <td>50.000000</td>\n",
       "      <td>50.000000</td>\n",
       "    </tr>\n",
       "    <tr>\n",
       "      <th>mean</th>\n",
       "      <td>73721.615600</td>\n",
       "      <td>121344.639600</td>\n",
       "      <td>211025.097800</td>\n",
       "      <td>112012.639200</td>\n",
       "    </tr>\n",
       "    <tr>\n",
       "      <th>std</th>\n",
       "      <td>45902.256482</td>\n",
       "      <td>28017.802755</td>\n",
       "      <td>122290.310726</td>\n",
       "      <td>40306.180338</td>\n",
       "    </tr>\n",
       "    <tr>\n",
       "      <th>min</th>\n",
       "      <td>0.000000</td>\n",
       "      <td>51283.140000</td>\n",
       "      <td>0.000000</td>\n",
       "      <td>14681.400000</td>\n",
       "    </tr>\n",
       "    <tr>\n",
       "      <th>25%</th>\n",
       "      <td>39936.370000</td>\n",
       "      <td>103730.875000</td>\n",
       "      <td>129300.132500</td>\n",
       "      <td>90138.902500</td>\n",
       "    </tr>\n",
       "    <tr>\n",
       "      <th>50%</th>\n",
       "      <td>73051.080000</td>\n",
       "      <td>122699.795000</td>\n",
       "      <td>212716.240000</td>\n",
       "      <td>107978.190000</td>\n",
       "    </tr>\n",
       "    <tr>\n",
       "      <th>75%</th>\n",
       "      <td>101602.800000</td>\n",
       "      <td>144842.180000</td>\n",
       "      <td>299469.085000</td>\n",
       "      <td>139765.977500</td>\n",
       "    </tr>\n",
       "    <tr>\n",
       "      <th>max</th>\n",
       "      <td>165349.200000</td>\n",
       "      <td>182645.560000</td>\n",
       "      <td>471784.100000</td>\n",
       "      <td>192261.830000</td>\n",
       "    </tr>\n",
       "  </tbody>\n",
       "</table>\n",
       "</div>"
      ],
      "text/plain": [
       "            RD_Spend  Administration  Marketing_Spend         Profit\n",
       "count      50.000000       50.000000        50.000000      50.000000\n",
       "mean    73721.615600   121344.639600    211025.097800  112012.639200\n",
       "std     45902.256482    28017.802755    122290.310726   40306.180338\n",
       "min         0.000000    51283.140000         0.000000   14681.400000\n",
       "25%     39936.370000   103730.875000    129300.132500   90138.902500\n",
       "50%     73051.080000   122699.795000    212716.240000  107978.190000\n",
       "75%    101602.800000   144842.180000    299469.085000  139765.977500\n",
       "max    165349.200000   182645.560000    471784.100000  192261.830000"
      ]
     },
     "execution_count": 9,
     "metadata": {},
     "output_type": "execute_result"
    }
   ],
   "source": [
    "# Checking the basic statistics of dataset\n",
    "df1.describe()"
   ]
  },
  {
   "cell_type": "markdown",
   "metadata": {},
   "source": [
    "# Checking correlation using correlation matrix and pairplot"
   ]
  },
  {
   "cell_type": "code",
   "execution_count": 10,
   "metadata": {},
   "outputs": [
    {
     "data": {
      "image/png": "[encoded data removed]",
      "text/plain": [
       "<Figure size 1080x720 with 2 Axes>"
      ]
     },
     "metadata": {},
     "output_type": "display_data"
    }
   ],
   "source": [
    "ax = sns.heatmap(df1.corr(),annot=True,cmap='Blues') "
   ]
  },
  {
   "cell_type": "markdown",
   "metadata": {},
   "source": [
    "    Output variable(Profit) has a high correlation(0.97) with R&D and medium correlation(0.75) with Marketing_Spend and very low correlation(0.2) with Administration."
   ]
  },
  {
   "cell_type": "code",
   "execution_count": 11,
   "metadata": {},
   "outputs": [
    {
     "data": {
      "text/plain": [
       "<seaborn.axisgrid.PairGrid at 0x2877c9f2c10>"
      ]
     },
     "execution_count": 11,
     "metadata": {},
     "output_type": "execute_result"
    },
    {
     "data": {
      "image/png": "[encoded data removed]",
      "text/plain": [
       "<Figure size 720x720 with 20 Axes>"
      ]
     },
     "metadata": {},
     "output_type": "display_data"
    }
   ],
   "source": [
    "# Creating pairplot\n",
    "sns.pairplot(df[['RD_Spend','Administration','Marketing_Spend','Profit']])"
   ]
  },
  {
   "cell_type": "markdown",
   "metadata": {},
   "source": [
    "# Standardization "
   ]
  },
  {
   "cell_type": "code",
   "execution_count": 12,
   "metadata": {},
   "outputs": [
    {
     "data": {
      "text/plain": [
       "array([[ 2.01641149,  0.56075291,  2.15394309,  2.01120333],\n",
       "       [ 1.95586034,  1.08280658,  1.9236004 ,  1.99942997],\n",
       "       [ 1.75436374, -0.72825703,  1.62652767,  1.98084225],\n",
       "       [ 1.55478369, -0.09636463,  1.42221024,  1.77662724],\n",
       "       [ 1.5049372 , -1.07991935,  1.28152771,  1.35774012]])"
      ]
     },
     "execution_count": 12,
     "metadata": {},
     "output_type": "execute_result"
    }
   ],
   "source": [
    "array_df1=df1.values\n",
    "standard_df1=StandardScaler().fit(array_df1).transform(array_df1)\n",
    "standard_df1[0:5]"
   ]
  },
  {
   "cell_type": "code",
   "execution_count": 13,
   "metadata": {},
   "outputs": [
    {
     "data": {
      "text/html": [
       "<div>\n",
       "<style scoped>\n",
       "    .dataframe tbody tr th:only-of-type {\n",
       "        vertical-align: middle;\n",
       "    }\n",
       "\n",
       "    .dataframe tbody tr th {\n",
       "        vertical-align: top;\n",
       "    }\n",
       "\n",
       "    .dataframe thead th {\n",
       "        text-align: right;\n",
       "    }\n",
       "</style>\n",
       "<table border=\"1\" class=\"dataframe\">\n",
       "  <thead>\n",
       "    <tr style=\"text-align: right;\">\n",
       "      <th></th>\n",
       "      <th>rd_spend</th>\n",
       "      <th>administration</th>\n",
       "      <th>marketing_spend</th>\n",
       "      <th>profit</th>\n",
       "    </tr>\n",
       "  </thead>\n",
       "  <tbody>\n",
       "    <tr>\n",
       "      <th>0</th>\n",
       "      <td>2.016411</td>\n",
       "      <td>0.560753</td>\n",
       "      <td>2.153943</td>\n",
       "      <td>2.011203</td>\n",
       "    </tr>\n",
       "    <tr>\n",
       "      <th>1</th>\n",
       "      <td>1.955860</td>\n",
       "      <td>1.082807</td>\n",
       "      <td>1.923600</td>\n",
       "      <td>1.999430</td>\n",
       "    </tr>\n",
       "    <tr>\n",
       "      <th>2</th>\n",
       "      <td>1.754364</td>\n",
       "      <td>-0.728257</td>\n",
       "      <td>1.626528</td>\n",
       "      <td>1.980842</td>\n",
       "    </tr>\n",
       "    <tr>\n",
       "      <th>3</th>\n",
       "      <td>1.554784</td>\n",
       "      <td>-0.096365</td>\n",
       "      <td>1.422210</td>\n",
       "      <td>1.776627</td>\n",
       "    </tr>\n",
       "    <tr>\n",
       "      <th>4</th>\n",
       "      <td>1.504937</td>\n",
       "      <td>-1.079919</td>\n",
       "      <td>1.281528</td>\n",
       "      <td>1.357740</td>\n",
       "    </tr>\n",
       "  </tbody>\n",
       "</table>\n",
       "</div>"
      ],
      "text/plain": [
       "   rd_spend  administration  marketing_spend    profit\n",
       "0  2.016411        0.560753         2.153943  2.011203\n",
       "1  1.955860        1.082807         1.923600  1.999430\n",
       "2  1.754364       -0.728257         1.626528  1.980842\n",
       "3  1.554784       -0.096365         1.422210  1.776627\n",
       "4  1.504937       -1.079919         1.281528  1.357740"
      ]
     },
     "execution_count": 13,
     "metadata": {},
     "output_type": "execute_result"
    }
   ],
   "source": [
    "# creating dataframe of standardized values\n",
    "df2=pd.DataFrame({'rd_spend':standard_df1[:,0],'administration':standard_df1[:,1],'marketing_spend':standard_df1[:,2],'profit':standard_df1[:,3]})\n",
    "df2.head()"
   ]
  },
  {
   "cell_type": "markdown",
   "metadata": {},
   "source": [
    "# Variable/feature selection\n"
   ]
  },
  {
   "cell_type": "markdown",
   "metadata": {},
   "source": [
    "We will first create one model for each predictor variable and then go on adding variables."
   ]
  },
  {
   "cell_type": "code",
   "execution_count": 14,
   "metadata": {},
   "outputs": [
    {
     "name": "stdout",
     "output_type": "stream",
     "text": [
      "p-value: Intercept    1.000000e+00\n",
      "rd_spend     3.500322e-32\n",
      "dtype: float64\n",
      "R-squared value 0.9465353160804392\n",
      "Adjusted R-squared value: 0.9454214684987816\n"
     ]
    }
   ],
   "source": [
    "model1 = smf.ols('profit~rd_spend',data=df2).fit()\n",
    "print('p-value:',model1.pvalues)\n",
    "print(\"R-squared value\",model1.rsquared)\n",
    "print(\"Adjusted R-squared value:\",model1.rsquared_adj)"
   ]
  },
  {
   "cell_type": "markdown",
   "metadata": {},
   "source": [
    "Here p-value of rd_spend is less than 0.05 so it is significant"
   ]
  },
  {
   "cell_type": "code",
   "execution_count": 15,
   "metadata": {},
   "outputs": [
    {
     "name": "stdout",
     "output_type": "stream",
     "text": [
      "p-value: Intercept         1.000000\n",
      "administration    0.162217\n",
      "dtype: float64\n",
      "R-squared value 0.04028714077757234\n",
      "Adjusted R-squared value: 0.020293122877105163\n"
     ]
    }
   ],
   "source": [
    "model2 = smf.ols('profit~administration',data=df2).fit()\n",
    "print('p-value:',model2.pvalues)\n",
    "print(\"R-squared value\",model2.rsquared)\n",
    "print(\"Adjusted R-squared value:\",model2.rsquared_adj)"
   ]
  },
  {
   "cell_type": "markdown",
   "metadata": {},
   "source": [
    "Here p-value of administration is more than 0.05 so it is insignificant"
   ]
  },
  {
   "cell_type": "code",
   "execution_count": 16,
   "metadata": {},
   "outputs": [
    {
     "name": "stdout",
     "output_type": "stream",
     "text": [
      "p-value: Intercept          1.000000e+00\n",
      "marketing_spend    4.381073e-10\n",
      "dtype: float64\n",
      "R-squared value 0.5591535746115515\n",
      "Adjusted R-squared value: 0.5499692740826254\n"
     ]
    }
   ],
   "source": [
    "model3 = smf.ols('profit~marketing_spend',data=df2).fit()\n",
    "print('p-value:',model3.pvalues)\n",
    "print(\"R-squared value\",model3.rsquared)\n",
    "print(\"Adjusted R-squared value:\",model3.rsquared_adj)"
   ]
  },
  {
   "cell_type": "markdown",
   "metadata": {},
   "source": [
    "Here p-value of marketing spend is less than 0.05 so it is significant"
   ]
  },
  {
   "cell_type": "markdown",
   "metadata": {},
   "source": [
    "The model with highest R2 is with rd_spend variable.Now we will add other variables to it one by one and see the change in R2."
   ]
  },
  {
   "cell_type": "code",
   "execution_count": 17,
   "metadata": {},
   "outputs": [
    {
     "name": "stdout",
     "output_type": "stream",
     "text": [
      "p-value: Intercept         1.000000e+00\n",
      "rd_spend          2.278348e-31\n",
      "administration    2.888932e-01\n",
      "dtype: float64\n",
      "R-squared value 0.9478129385009173\n",
      "Adjusted R-squared value: 0.9455922124796797\n"
     ]
    }
   ],
   "source": [
    "model4 = smf.ols('profit~rd_spend+administration',data=df2).fit()\n",
    "print('p-value:',model4.pvalues)\n",
    "print(\"R-squared value\",model4.rsquared)\n",
    "print(\"Adjusted R-squared value:\",model4.rsquared_adj)"
   ]
  },
  {
   "cell_type": "code",
   "execution_count": 18,
   "metadata": {},
   "outputs": [
    {
     "name": "stdout",
     "output_type": "stream",
     "text": [
      "p-value: Intercept          1.000000e+00\n",
      "rd_spend           6.040433e-24\n",
      "marketing_spend    6.003040e-02\n",
      "dtype: float64\n",
      "R-squared value 0.9504503015559763\n",
      "Adjusted R-squared value: 0.9483418037498477\n"
     ]
    }
   ],
   "source": [
    "model5 = smf.ols('profit~rd_spend+marketing_spend',data=df2).fit()\n",
    "print('p-value:',model5.pvalues)\n",
    "print(\"R-squared value\",model5.rsquared)\n",
    "print(\"Adjusted R-squared value:\",model5.rsquared_adj)"
   ]
  },
  {
   "cell_type": "code",
   "execution_count": 19,
   "metadata": {},
   "outputs": [
    {
     "name": "stdout",
     "output_type": "stream",
     "text": [
      "p-value: Intercept          1.000000e+00\n",
      "marketing_spend    9.727245e-11\n",
      "administration     1.729198e-02\n",
      "dtype: float64\n",
      "R-squared value 0.6097229746770663\n",
      "Adjusted R-squared value: 0.593115441684601\n"
     ]
    }
   ],
   "source": [
    "model6= smf.ols('profit~marketing_spend+administration',data=df2).fit()\n",
    "print('p-value:',model6.pvalues)\n",
    "print(\"R-squared value\",model6.rsquared)\n",
    "print(\"Adjusted R-squared value:\",model6.rsquared_adj)"
   ]
  },
  {
   "cell_type": "code",
   "execution_count": 20,
   "metadata": {},
   "outputs": [
    {
     "name": "stdout",
     "output_type": "stream",
     "text": [
      "p-value: Intercept          1.000000e+00\n",
      "rd_spend           2.634968e-22\n",
      "marketing_spend    1.047168e-01\n",
      "administration     6.017551e-01\n",
      "dtype: float64\n",
      "R-squared value 0.9507459940683246\n",
      "Adjusted R-squared value: 0.9475337762901719\n"
     ]
    }
   ],
   "source": [
    "model7= smf.ols('profit~rd_spend+marketing_spend+administration',data=df2).fit()\n",
    "print('p-value:',model7.pvalues)\n",
    "print(\"R-squared value\",model7.rsquared)\n",
    "print(\"Adjusted R-squared value:\",model7.rsquared_adj)"
   ]
  },
  {
   "cell_type": "markdown",
   "metadata": {},
   "source": [
    "# Checking collinearity by calculating VIF scores "
   ]
  },
  {
   "cell_type": "code",
   "execution_count": 21,
   "metadata": {},
   "outputs": [
    {
     "data": {
      "text/html": [
       "<div>\n",
       "<style scoped>\n",
       "    .dataframe tbody tr th:only-of-type {\n",
       "        vertical-align: middle;\n",
       "    }\n",
       "\n",
       "    .dataframe tbody tr th {\n",
       "        vertical-align: top;\n",
       "    }\n",
       "\n",
       "    .dataframe thead th {\n",
       "        text-align: right;\n",
       "    }\n",
       "</style>\n",
       "<table border=\"1\" class=\"dataframe\">\n",
       "  <thead>\n",
       "    <tr style=\"text-align: right;\">\n",
       "      <th></th>\n",
       "      <th>Variables</th>\n",
       "      <th>VIF</th>\n",
       "    </tr>\n",
       "  </thead>\n",
       "  <tbody>\n",
       "    <tr>\n",
       "      <th>0</th>\n",
       "      <td>rd_spend</td>\n",
       "      <td>2.468903</td>\n",
       "    </tr>\n",
       "    <tr>\n",
       "      <th>1</th>\n",
       "      <td>administration</td>\n",
       "      <td>1.175091</td>\n",
       "    </tr>\n",
       "    <tr>\n",
       "      <th>2</th>\n",
       "      <td>marketing_spend</td>\n",
       "      <td>2.326773</td>\n",
       "    </tr>\n",
       "  </tbody>\n",
       "</table>\n",
       "</div>"
      ],
      "text/plain": [
       "         Variables       VIF\n",
       "0         rd_spend  2.468903\n",
       "1   administration  1.175091\n",
       "2  marketing_spend  2.326773"
      ]
     },
     "execution_count": 21,
     "metadata": {},
     "output_type": "execute_result"
    }
   ],
   "source": [
    "rsq_rd = smf.ols('rd_spend~marketing_spend+administration',data=df2).fit().rsquared  \n",
    "vif_rd = 1/(1-rsq_rd) \n",
    "\n",
    "rsq_mkt = smf.ols('marketing_spend~rd_spend+administration',data=df2).fit().rsquared  \n",
    "vif_mkt = 1/(1-rsq_mkt) \n",
    "\n",
    "rsq_adm = smf.ols('administration~marketing_spend+rd_spend',data=df2).fit().rsquared  \n",
    "vif_adm = 1/(1-rsq_adm) \n",
    "\n",
    "d1 = {'Variables':['rd_spend','administration','marketing_spend'],'VIF':[vif_rd,vif_adm,vif_mkt]}\n",
    "Vif_frame = pd.DataFrame(d1)  \n",
    "Vif_frame"
   ]
  },
  {
   "cell_type": "markdown",
   "metadata": {},
   "source": [
    "The VIF scores are less than 10 so no collinearity present amongst the input variables "
   ]
  },
  {
   "cell_type": "markdown",
   "metadata": {},
   "source": [
    "# Calculating RMSE for all models"
   ]
  },
  {
   "cell_type": "code",
   "execution_count": 22,
   "metadata": {},
   "outputs": [
    {
     "name": "stdout",
     "output_type": "stream",
     "text": [
      "RMSE for model 1 is: 0.2312243151564316\n"
     ]
    }
   ],
   "source": [
    "pred1=model1.predict()\n",
    "rmse1=np.sqrt(mse(df2.profit,pred1))\n",
    "print(\"RMSE for model 1 is:\",rmse1)"
   ]
  },
  {
   "cell_type": "code",
   "execution_count": 23,
   "metadata": {},
   "outputs": [
    {
     "name": "stdout",
     "output_type": "stream",
     "text": [
      "RMSE for model 2 is: 0.9796493552401428\n"
     ]
    }
   ],
   "source": [
    "pred2=model2.predict()\n",
    "rmse2=np.sqrt(mse(df2.profit,pred2))\n",
    "print(\"RMSE for model 2 is:\",rmse2)"
   ]
  },
  {
   "cell_type": "code",
   "execution_count": 24,
   "metadata": {},
   "outputs": [
    {
     "name": "stdout",
     "output_type": "stream",
     "text": [
      "RMSE for model 3 is: 0.6639626686707985\n"
     ]
    }
   ],
   "source": [
    "pred3=model3.predict()\n",
    "rmse3=np.sqrt(mse(df2.profit,pred3))\n",
    "print(\"RMSE for model 3 is:\",rmse3)"
   ]
  },
  {
   "cell_type": "code",
   "execution_count": 25,
   "metadata": {},
   "outputs": [
    {
     "name": "stdout",
     "output_type": "stream",
     "text": [
      "RMSE for model 4 is: 0.22844487628109053\n"
     ]
    }
   ],
   "source": [
    "pred4=model4.predict()\n",
    "rmse4=np.sqrt(mse(df2.profit,pred4))\n",
    "print(\"RMSE for model 4 is:\",rmse4)"
   ]
  },
  {
   "cell_type": "code",
   "execution_count": 26,
   "metadata": {},
   "outputs": [
    {
     "name": "stdout",
     "output_type": "stream",
     "text": [
      "RMSE for model 5 is: 0.22259761553984297\n"
     ]
    }
   ],
   "source": [
    "pred5=model5.predict()\n",
    "rmse5=np.sqrt(mse(df2.profit,pred5))\n",
    "print(\"RMSE for model 5 is:\",rmse5)"
   ]
  },
  {
   "cell_type": "code",
   "execution_count": 27,
   "metadata": {},
   "outputs": [
    {
     "name": "stdout",
     "output_type": "stream",
     "text": [
      "RMSE for model 6 is: 0.6247215582344935\n"
     ]
    }
   ],
   "source": [
    "pred6=model6.predict()\n",
    "rmse6=np.sqrt(mse(df2.profit,pred6))\n",
    "print(\"RMSE for model 6 is:\",rmse6)"
   ]
  },
  {
   "cell_type": "code",
   "execution_count": 28,
   "metadata": {},
   "outputs": [
    {
     "name": "stdout",
     "output_type": "stream",
     "text": [
      "RMSE for model 7 is: 0.2219324355106198\n"
     ]
    }
   ],
   "source": [
    "pred7=model7.predict()\n",
    "rmse7=np.sqrt(mse(df2.profit,pred7))\n",
    "print(\"RMSE for model 7 is:\",rmse7)"
   ]
  },
  {
   "cell_type": "markdown",
   "metadata": {},
   "source": [
    "RMSE values for model 6 and 8 are almost similar"
   ]
  },
  {
   "cell_type": "code",
   "execution_count": 29,
   "metadata": {},
   "outputs": [
    {
     "data": {
      "text/html": [
       "<div>\n",
       "<style scoped>\n",
       "    .dataframe tbody tr th:only-of-type {\n",
       "        vertical-align: middle;\n",
       "    }\n",
       "\n",
       "    .dataframe tbody tr th {\n",
       "        vertical-align: top;\n",
       "    }\n",
       "\n",
       "    .dataframe thead th {\n",
       "        text-align: right;\n",
       "    }\n",
       "</style>\n",
       "<table border=\"1\" class=\"dataframe\">\n",
       "  <thead>\n",
       "    <tr style=\"text-align: right;\">\n",
       "      <th></th>\n",
       "      <th>Models</th>\n",
       "      <th>R-squared values</th>\n",
       "      <th>RMSE</th>\n",
       "    </tr>\n",
       "  </thead>\n",
       "  <tbody>\n",
       "    <tr>\n",
       "      <th>0</th>\n",
       "      <td>rd spend</td>\n",
       "      <td>0.946535</td>\n",
       "      <td>0.231224</td>\n",
       "    </tr>\n",
       "    <tr>\n",
       "      <th>1</th>\n",
       "      <td>Administration</td>\n",
       "      <td>0.040287</td>\n",
       "      <td>0.979649</td>\n",
       "    </tr>\n",
       "    <tr>\n",
       "      <th>2</th>\n",
       "      <td>marketing spend</td>\n",
       "      <td>0.559154</td>\n",
       "      <td>0.663963</td>\n",
       "    </tr>\n",
       "    <tr>\n",
       "      <th>3</th>\n",
       "      <td>rd spend+ administration</td>\n",
       "      <td>0.947813</td>\n",
       "      <td>0.228445</td>\n",
       "    </tr>\n",
       "    <tr>\n",
       "      <th>4</th>\n",
       "      <td>rd_spend+marketing_spend</td>\n",
       "      <td>0.950450</td>\n",
       "      <td>0.222598</td>\n",
       "    </tr>\n",
       "    <tr>\n",
       "      <th>5</th>\n",
       "      <td>administration+marketing spend</td>\n",
       "      <td>0.609723</td>\n",
       "      <td>0.624722</td>\n",
       "    </tr>\n",
       "    <tr>\n",
       "      <th>6</th>\n",
       "      <td>rd_spend+marketing_spend+administration</td>\n",
       "      <td>0.950746</td>\n",
       "      <td>0.221932</td>\n",
       "    </tr>\n",
       "  </tbody>\n",
       "</table>\n",
       "</div>"
      ],
      "text/plain": [
       "                                    Models  R-squared values      RMSE\n",
       "0                                 rd spend          0.946535  0.231224\n",
       "1                           Administration          0.040287  0.979649\n",
       "2                          marketing spend          0.559154  0.663963\n",
       "3                 rd spend+ administration          0.947813  0.228445\n",
       "4                 rd_spend+marketing_spend          0.950450  0.222598\n",
       "5           administration+marketing spend          0.609723  0.624722\n",
       "6  rd_spend+marketing_spend+administration          0.950746  0.221932"
      ]
     },
     "execution_count": 29,
     "metadata": {},
     "output_type": "execute_result"
    }
   ],
   "source": [
    "d={'Models':['rd spend','Administration','marketing spend','rd spend+ administration','rd_spend+marketing_spend','administration+marketing spend','rd_spend+marketing_spend+administration'],\n",
    "   'R-squared values':[model1.rsquared,model2.rsquared,model3.rsquared,model4.rsquared,model5.rsquared,model6.rsquared,model7.rsquared],\n",
    "   'RMSE':[rmse1,rmse2,rmse3,rmse4,rmse5,rmse6,rmse7]}\n",
    "df_result=pd.DataFrame(d)\n",
    "df_result"
   ]
  },
  {
   "cell_type": "markdown",
   "metadata": {},
   "source": [
    "Constructing a separate dataframe for P-values of each model"
   ]
  },
  {
   "cell_type": "code",
   "execution_count": 39,
   "metadata": {},
   "outputs": [
    {
     "data": {
      "text/html": [
       "<div>\n",
       "<style scoped>\n",
       "    .dataframe tbody tr th:only-of-type {\n",
       "        vertical-align: middle;\n",
       "    }\n",
       "\n",
       "    .dataframe tbody tr th {\n",
       "        vertical-align: top;\n",
       "    }\n",
       "\n",
       "    .dataframe thead th {\n",
       "        text-align: right;\n",
       "    }\n",
       "</style>\n",
       "<table border=\"1\" class=\"dataframe\">\n",
       "  <thead>\n",
       "    <tr style=\"text-align: right;\">\n",
       "      <th></th>\n",
       "      <th>Models</th>\n",
       "      <th>P values</th>\n",
       "    </tr>\n",
       "  </thead>\n",
       "  <tbody>\n",
       "    <tr>\n",
       "      <th>0</th>\n",
       "      <td>rd spend</td>\n",
       "      <td>0</td>\n",
       "    </tr>\n",
       "    <tr>\n",
       "      <th>1</th>\n",
       "      <td>Administration</td>\n",
       "      <td>0.16</td>\n",
       "    </tr>\n",
       "    <tr>\n",
       "      <th>2</th>\n",
       "      <td>marketing spend</td>\n",
       "      <td>0</td>\n",
       "    </tr>\n",
       "    <tr>\n",
       "      <th>3</th>\n",
       "      <td>rd spend+ administration</td>\n",
       "      <td>[0.0, 0.29]</td>\n",
       "    </tr>\n",
       "    <tr>\n",
       "      <th>4</th>\n",
       "      <td>rd_spend+marketing_spend</td>\n",
       "      <td>[0.0, 0.06]</td>\n",
       "    </tr>\n",
       "    <tr>\n",
       "      <th>5</th>\n",
       "      <td>administration+marketing spend</td>\n",
       "      <td>[0.0, 0.02]</td>\n",
       "    </tr>\n",
       "    <tr>\n",
       "      <th>6</th>\n",
       "      <td>rd_spend+marketing_spend+administration</td>\n",
       "      <td>[0.0, 0.1, 0.6]</td>\n",
       "    </tr>\n",
       "  </tbody>\n",
       "</table>\n",
       "</div>"
      ],
      "text/plain": [
       "                                    Models         P values\n",
       "0                                 rd spend                0\n",
       "1                           Administration             0.16\n",
       "2                          marketing spend                0\n",
       "3                 rd spend+ administration      [0.0, 0.29]\n",
       "4                 rd_spend+marketing_spend      [0.0, 0.06]\n",
       "5           administration+marketing spend      [0.0, 0.02]\n",
       "6  rd_spend+marketing_spend+administration  [0.0, 0.1, 0.6]"
      ]
     },
     "execution_count": 39,
     "metadata": {},
     "output_type": "execute_result"
    }
   ],
   "source": [
    "p={'Models':['rd spend','Administration','marketing spend','rd spend+ administration','rd_spend+marketing_spend','administration+marketing spend','rd_spend+marketing_spend+administration'],\n",
    "   'P values':[model1.pvalues[1].round(2),model2.pvalues[1].round(2),model3.pvalues[1].round(2),[model4.pvalues[1].round(2),model4.pvalues[2].round(2)],[model5.pvalues[1].round(2),model5.pvalues[2].round(2)],[model6.pvalues[1].round(2),model6.pvalues[2].round(2)],\n",
    "               [model7.pvalues[1].round(2),model7.pvalues[2].round(2),model7.pvalues[3].round(2)]]}\n",
    "df=pd.DataFrame(p)\n",
    "df"
   ]
  },
  {
   "cell_type": "code",
   "execution_count": 40,
   "metadata": {},
   "outputs": [
    {
     "data": {
      "text/html": [
       "<div>\n",
       "<style scoped>\n",
       "    .dataframe tbody tr th:only-of-type {\n",
       "        vertical-align: middle;\n",
       "    }\n",
       "\n",
       "    .dataframe tbody tr th {\n",
       "        vertical-align: top;\n",
       "    }\n",
       "\n",
       "    .dataframe thead th {\n",
       "        text-align: right;\n",
       "    }\n",
       "</style>\n",
       "<table border=\"1\" class=\"dataframe\">\n",
       "  <thead>\n",
       "    <tr style=\"text-align: right;\">\n",
       "      <th></th>\n",
       "      <th>Models</th>\n",
       "      <th>R-squared values</th>\n",
       "      <th>RMSE</th>\n",
       "      <th>P values</th>\n",
       "    </tr>\n",
       "  </thead>\n",
       "  <tbody>\n",
       "    <tr>\n",
       "      <th>0</th>\n",
       "      <td>rd spend</td>\n",
       "      <td>0.946535</td>\n",
       "      <td>0.231224</td>\n",
       "      <td>0</td>\n",
       "    </tr>\n",
       "    <tr>\n",
       "      <th>1</th>\n",
       "      <td>Administration</td>\n",
       "      <td>0.040287</td>\n",
       "      <td>0.979649</td>\n",
       "      <td>0.16</td>\n",
       "    </tr>\n",
       "    <tr>\n",
       "      <th>2</th>\n",
       "      <td>marketing spend</td>\n",
       "      <td>0.559154</td>\n",
       "      <td>0.663963</td>\n",
       "      <td>0</td>\n",
       "    </tr>\n",
       "    <tr>\n",
       "      <th>3</th>\n",
       "      <td>rd spend+ administration</td>\n",
       "      <td>0.947813</td>\n",
       "      <td>0.228445</td>\n",
       "      <td>[0.0, 0.29]</td>\n",
       "    </tr>\n",
       "    <tr>\n",
       "      <th>4</th>\n",
       "      <td>rd_spend+marketing_spend</td>\n",
       "      <td>0.950450</td>\n",
       "      <td>0.222598</td>\n",
       "      <td>[0.0, 0.06]</td>\n",
       "    </tr>\n",
       "    <tr>\n",
       "      <th>5</th>\n",
       "      <td>administration+marketing spend</td>\n",
       "      <td>0.609723</td>\n",
       "      <td>0.624722</td>\n",
       "      <td>[0.0, 0.02]</td>\n",
       "    </tr>\n",
       "    <tr>\n",
       "      <th>6</th>\n",
       "      <td>rd_spend+marketing_spend+administration</td>\n",
       "      <td>0.950746</td>\n",
       "      <td>0.221932</td>\n",
       "      <td>[0.0, 0.1, 0.6]</td>\n",
       "    </tr>\n",
       "  </tbody>\n",
       "</table>\n",
       "</div>"
      ],
      "text/plain": [
       "                                    Models  R-squared values      RMSE  \\\n",
       "0                                 rd spend          0.946535  0.231224   \n",
       "1                           Administration          0.040287  0.979649   \n",
       "2                          marketing spend          0.559154  0.663963   \n",
       "3                 rd spend+ administration          0.947813  0.228445   \n",
       "4                 rd_spend+marketing_spend          0.950450  0.222598   \n",
       "5           administration+marketing spend          0.609723  0.624722   \n",
       "6  rd_spend+marketing_spend+administration          0.950746  0.221932   \n",
       "\n",
       "          P values  \n",
       "0                0  \n",
       "1             0.16  \n",
       "2                0  \n",
       "3      [0.0, 0.29]  \n",
       "4      [0.0, 0.06]  \n",
       "5      [0.0, 0.02]  \n",
       "6  [0.0, 0.1, 0.6]  "
      ]
     },
     "execution_count": 40,
     "metadata": {},
     "output_type": "execute_result"
    }
   ],
   "source": [
    "# Merging the two dataframes\n",
    "df_model=pd.merge(df_result,df)\n",
    "df_model"
   ]
  },
  {
   "cell_type": "markdown",
   "metadata": {},
   "source": [
    "#### 4th and 6th model have the highest R-squared values and lowest errors.\n",
    "\n",
    "#### As adding variables always slightly increases R-squared values , 4th model can be better than 6th one as 6th has all three input variables so may be that is contributing to high R-squared values .\n",
    "\n",
    "#### Also the P-values for model 4 is less compared to model 6 indicating that the variables in model 4 are more significant than in model 6.So safe bet is model 4.\n",
    "\n",
    "#### So the best model for predicting profit will be the one having only two predictor variables : rd_spend and marketing_spend.\n"
   ]
  },
  {
   "cell_type": "code",
   "execution_count": null,
   "metadata": {},
   "outputs": [],
   "source": []
  }
 ],
 "metadata": {
  "kernelspec": {
   "display_name": "Python 3 (ipykernel)",
   "language": "python",
   "name": "python3"
  },
  "language_info": {
   "codemirror_mode": {
    "name": "ipython",
    "version": 3
   },
   "file_extension": ".py",
   "mimetype": "text/x-python",
   "name": "python",
   "nbconvert_exporter": "python",
   "pygments_lexer": "ipython3",
   "version": "3.9.12"
  }
 },
 "nbformat": 4,
 "nbformat_minor": 4
}
