{
 "cells": [
  {
   "cell_type": "code",
   "execution_count": 1,
   "metadata": {},
   "outputs": [],
   "source": [
    "import numpy as np\n",
    "import pandas as pd\n",
    "import matplotlib.pyplot as plt"
   ]
  },
  {
   "cell_type": "code",
   "execution_count": 2,
   "metadata": {},
   "outputs": [],
   "source": [
    "from keras.models import Sequential\n",
    "from keras.layers import Dense"
   ]
  },
  {
   "cell_type": "code",
   "execution_count": 3,
   "metadata": {},
   "outputs": [
    {
     "data": {
      "text/html": [
       "<div>\n",
       "<style scoped>\n",
       "    .dataframe tbody tr th:only-of-type {\n",
       "        vertical-align: middle;\n",
       "    }\n",
       "\n",
       "    .dataframe tbody tr th {\n",
       "        vertical-align: top;\n",
       "    }\n",
       "\n",
       "    .dataframe thead th {\n",
       "        text-align: right;\n",
       "    }\n",
       "</style>\n",
       "<table border=\"1\" class=\"dataframe\">\n",
       "  <thead>\n",
       "    <tr style=\"text-align: right;\">\n",
       "      <th></th>\n",
       "      <th>AT</th>\n",
       "      <th>AP</th>\n",
       "      <th>AH</th>\n",
       "      <th>AFDP</th>\n",
       "      <th>GTEP</th>\n",
       "      <th>TIT</th>\n",
       "      <th>TAT</th>\n",
       "      <th>TEY</th>\n",
       "      <th>CDP</th>\n",
       "      <th>CO</th>\n",
       "      <th>NOX</th>\n",
       "    </tr>\n",
       "  </thead>\n",
       "  <tbody>\n",
       "    <tr>\n",
       "      <th>0</th>\n",
       "      <td>6.8594</td>\n",
       "      <td>1007.9</td>\n",
       "      <td>96.799</td>\n",
       "      <td>3.5000</td>\n",
       "      <td>19.663</td>\n",
       "      <td>1059.2</td>\n",
       "      <td>550.00</td>\n",
       "      <td>114.70</td>\n",
       "      <td>10.605</td>\n",
       "      <td>3.1547</td>\n",
       "      <td>82.722</td>\n",
       "    </tr>\n",
       "    <tr>\n",
       "      <th>1</th>\n",
       "      <td>6.7850</td>\n",
       "      <td>1008.4</td>\n",
       "      <td>97.118</td>\n",
       "      <td>3.4998</td>\n",
       "      <td>19.728</td>\n",
       "      <td>1059.3</td>\n",
       "      <td>550.00</td>\n",
       "      <td>114.72</td>\n",
       "      <td>10.598</td>\n",
       "      <td>3.2363</td>\n",
       "      <td>82.776</td>\n",
       "    </tr>\n",
       "    <tr>\n",
       "      <th>2</th>\n",
       "      <td>6.8977</td>\n",
       "      <td>1008.8</td>\n",
       "      <td>95.939</td>\n",
       "      <td>3.4824</td>\n",
       "      <td>19.779</td>\n",
       "      <td>1059.4</td>\n",
       "      <td>549.87</td>\n",
       "      <td>114.71</td>\n",
       "      <td>10.601</td>\n",
       "      <td>3.2012</td>\n",
       "      <td>82.468</td>\n",
       "    </tr>\n",
       "    <tr>\n",
       "      <th>3</th>\n",
       "      <td>7.0569</td>\n",
       "      <td>1009.2</td>\n",
       "      <td>95.249</td>\n",
       "      <td>3.4805</td>\n",
       "      <td>19.792</td>\n",
       "      <td>1059.6</td>\n",
       "      <td>549.99</td>\n",
       "      <td>114.72</td>\n",
       "      <td>10.606</td>\n",
       "      <td>3.1923</td>\n",
       "      <td>82.670</td>\n",
       "    </tr>\n",
       "    <tr>\n",
       "      <th>4</th>\n",
       "      <td>7.3978</td>\n",
       "      <td>1009.7</td>\n",
       "      <td>95.150</td>\n",
       "      <td>3.4976</td>\n",
       "      <td>19.765</td>\n",
       "      <td>1059.7</td>\n",
       "      <td>549.98</td>\n",
       "      <td>114.72</td>\n",
       "      <td>10.612</td>\n",
       "      <td>3.2484</td>\n",
       "      <td>82.311</td>\n",
       "    </tr>\n",
       "  </tbody>\n",
       "</table>\n",
       "</div>"
      ],
      "text/plain": [
       "       AT      AP      AH    AFDP    GTEP     TIT     TAT     TEY     CDP  \\\n",
       "0  6.8594  1007.9  96.799  3.5000  19.663  1059.2  550.00  114.70  10.605   \n",
       "1  6.7850  1008.4  97.118  3.4998  19.728  1059.3  550.00  114.72  10.598   \n",
       "2  6.8977  1008.8  95.939  3.4824  19.779  1059.4  549.87  114.71  10.601   \n",
       "3  7.0569  1009.2  95.249  3.4805  19.792  1059.6  549.99  114.72  10.606   \n",
       "4  7.3978  1009.7  95.150  3.4976  19.765  1059.7  549.98  114.72  10.612   \n",
       "\n",
       "       CO     NOX  \n",
       "0  3.1547  82.722  \n",
       "1  3.2363  82.776  \n",
       "2  3.2012  82.468  \n",
       "3  3.1923  82.670  \n",
       "4  3.2484  82.311  "
      ]
     },
     "execution_count": 3,
     "metadata": {},
     "output_type": "execute_result"
    }
   ],
   "source": [
    "df=pd.read_csv('H:/ExcelR Data Science/datasets_BA/gas_turbines.csv')\n",
    "df.head()"
   ]
  },
  {
   "cell_type": "code",
   "execution_count": 4,
   "metadata": {},
   "outputs": [
    {
     "name": "stdout",
     "output_type": "stream",
     "text": [
      "Shape of dataset before dropping duplicates: (15039, 11)\n"
     ]
    }
   ],
   "source": [
    "print('Shape of dataset before dropping duplicates:',df.shape)"
   ]
  },
  {
   "cell_type": "code",
   "execution_count": 5,
   "metadata": {},
   "outputs": [],
   "source": [
    "df.drop_duplicates(keep=False,inplace=True)"
   ]
  },
  {
   "cell_type": "code",
   "execution_count": 6,
   "metadata": {},
   "outputs": [
    {
     "name": "stdout",
     "output_type": "stream",
     "text": [
      "Shape of dataset after dropping duplicates: (15039, 11)\n"
     ]
    }
   ],
   "source": [
    "print('Shape of dataset after dropping duplicates:',df.shape)"
   ]
  },
  {
   "cell_type": "code",
   "execution_count": 7,
   "metadata": {},
   "outputs": [
    {
     "name": "stdout",
     "output_type": "stream",
     "text": [
      "<class 'pandas.core.frame.DataFrame'>\n",
      "Int64Index: 15039 entries, 0 to 15038\n",
      "Data columns (total 11 columns):\n",
      " #   Column  Non-Null Count  Dtype  \n",
      "---  ------  --------------  -----  \n",
      " 0   AT      15039 non-null  float64\n",
      " 1   AP      15039 non-null  float64\n",
      " 2   AH      15039 non-null  float64\n",
      " 3   AFDP    15039 non-null  float64\n",
      " 4   GTEP    15039 non-null  float64\n",
      " 5   TIT     15039 non-null  float64\n",
      " 6   TAT     15039 non-null  float64\n",
      " 7   TEY     15039 non-null  float64\n",
      " 8   CDP     15039 non-null  float64\n",
      " 9   CO      15039 non-null  float64\n",
      " 10  NOX     15039 non-null  float64\n",
      "dtypes: float64(11)\n",
      "memory usage: 1.4 MB\n"
     ]
    }
   ],
   "source": [
    "df.info()"
   ]
  },
  {
   "cell_type": "code",
   "execution_count": 8,
   "metadata": {},
   "outputs": [
    {
     "data": {
      "text/html": [
       "<div>\n",
       "<style scoped>\n",
       "    .dataframe tbody tr th:only-of-type {\n",
       "        vertical-align: middle;\n",
       "    }\n",
       "\n",
       "    .dataframe tbody tr th {\n",
       "        vertical-align: top;\n",
       "    }\n",
       "\n",
       "    .dataframe thead th {\n",
       "        text-align: right;\n",
       "    }\n",
       "</style>\n",
       "<table border=\"1\" class=\"dataframe\">\n",
       "  <thead>\n",
       "    <tr style=\"text-align: right;\">\n",
       "      <th></th>\n",
       "      <th>AT</th>\n",
       "      <th>AP</th>\n",
       "      <th>AH</th>\n",
       "      <th>AFDP</th>\n",
       "      <th>GTEP</th>\n",
       "      <th>TIT</th>\n",
       "      <th>TAT</th>\n",
       "      <th>TEY</th>\n",
       "      <th>CDP</th>\n",
       "      <th>CO</th>\n",
       "      <th>NOX</th>\n",
       "    </tr>\n",
       "  </thead>\n",
       "  <tbody>\n",
       "    <tr>\n",
       "      <th>count</th>\n",
       "      <td>15039.000000</td>\n",
       "      <td>15039.00000</td>\n",
       "      <td>15039.000000</td>\n",
       "      <td>15039.000000</td>\n",
       "      <td>15039.000000</td>\n",
       "      <td>15039.000000</td>\n",
       "      <td>15039.000000</td>\n",
       "      <td>15039.000000</td>\n",
       "      <td>15039.000000</td>\n",
       "      <td>15039.000000</td>\n",
       "      <td>15039.000000</td>\n",
       "    </tr>\n",
       "    <tr>\n",
       "      <th>mean</th>\n",
       "      <td>17.764381</td>\n",
       "      <td>1013.19924</td>\n",
       "      <td>79.124174</td>\n",
       "      <td>4.200294</td>\n",
       "      <td>25.419061</td>\n",
       "      <td>1083.798770</td>\n",
       "      <td>545.396183</td>\n",
       "      <td>134.188464</td>\n",
       "      <td>12.102353</td>\n",
       "      <td>1.972499</td>\n",
       "      <td>68.190934</td>\n",
       "    </tr>\n",
       "    <tr>\n",
       "      <th>std</th>\n",
       "      <td>7.574323</td>\n",
       "      <td>6.41076</td>\n",
       "      <td>13.793439</td>\n",
       "      <td>0.760197</td>\n",
       "      <td>4.173916</td>\n",
       "      <td>16.527806</td>\n",
       "      <td>7.866803</td>\n",
       "      <td>15.829717</td>\n",
       "      <td>1.103196</td>\n",
       "      <td>2.222206</td>\n",
       "      <td>10.470586</td>\n",
       "    </tr>\n",
       "    <tr>\n",
       "      <th>min</th>\n",
       "      <td>0.522300</td>\n",
       "      <td>985.85000</td>\n",
       "      <td>30.344000</td>\n",
       "      <td>2.087400</td>\n",
       "      <td>17.878000</td>\n",
       "      <td>1000.800000</td>\n",
       "      <td>512.450000</td>\n",
       "      <td>100.170000</td>\n",
       "      <td>9.904400</td>\n",
       "      <td>0.000388</td>\n",
       "      <td>27.765000</td>\n",
       "    </tr>\n",
       "    <tr>\n",
       "      <th>25%</th>\n",
       "      <td>11.408000</td>\n",
       "      <td>1008.90000</td>\n",
       "      <td>69.750000</td>\n",
       "      <td>3.723900</td>\n",
       "      <td>23.294000</td>\n",
       "      <td>1079.600000</td>\n",
       "      <td>542.170000</td>\n",
       "      <td>127.985000</td>\n",
       "      <td>11.622000</td>\n",
       "      <td>0.858055</td>\n",
       "      <td>61.303500</td>\n",
       "    </tr>\n",
       "    <tr>\n",
       "      <th>50%</th>\n",
       "      <td>18.186000</td>\n",
       "      <td>1012.80000</td>\n",
       "      <td>82.266000</td>\n",
       "      <td>4.186200</td>\n",
       "      <td>25.082000</td>\n",
       "      <td>1088.700000</td>\n",
       "      <td>549.890000</td>\n",
       "      <td>133.780000</td>\n",
       "      <td>12.025000</td>\n",
       "      <td>1.390200</td>\n",
       "      <td>66.601000</td>\n",
       "    </tr>\n",
       "    <tr>\n",
       "      <th>75%</th>\n",
       "      <td>23.862500</td>\n",
       "      <td>1016.90000</td>\n",
       "      <td>90.043500</td>\n",
       "      <td>4.550900</td>\n",
       "      <td>27.184000</td>\n",
       "      <td>1096.000000</td>\n",
       "      <td>550.060000</td>\n",
       "      <td>140.895000</td>\n",
       "      <td>12.578000</td>\n",
       "      <td>2.160400</td>\n",
       "      <td>73.935500</td>\n",
       "    </tr>\n",
       "    <tr>\n",
       "      <th>max</th>\n",
       "      <td>34.929000</td>\n",
       "      <td>1034.20000</td>\n",
       "      <td>100.200000</td>\n",
       "      <td>7.610600</td>\n",
       "      <td>37.402000</td>\n",
       "      <td>1100.800000</td>\n",
       "      <td>550.610000</td>\n",
       "      <td>174.610000</td>\n",
       "      <td>15.081000</td>\n",
       "      <td>44.103000</td>\n",
       "      <td>119.890000</td>\n",
       "    </tr>\n",
       "  </tbody>\n",
       "</table>\n",
       "</div>"
      ],
      "text/plain": [
       "                 AT           AP            AH          AFDP          GTEP  \\\n",
       "count  15039.000000  15039.00000  15039.000000  15039.000000  15039.000000   \n",
       "mean      17.764381   1013.19924     79.124174      4.200294     25.419061   \n",
       "std        7.574323      6.41076     13.793439      0.760197      4.173916   \n",
       "min        0.522300    985.85000     30.344000      2.087400     17.878000   \n",
       "25%       11.408000   1008.90000     69.750000      3.723900     23.294000   \n",
       "50%       18.186000   1012.80000     82.266000      4.186200     25.082000   \n",
       "75%       23.862500   1016.90000     90.043500      4.550900     27.184000   \n",
       "max       34.929000   1034.20000    100.200000      7.610600     37.402000   \n",
       "\n",
       "                TIT           TAT           TEY           CDP            CO  \\\n",
       "count  15039.000000  15039.000000  15039.000000  15039.000000  15039.000000   \n",
       "mean    1083.798770    545.396183    134.188464     12.102353      1.972499   \n",
       "std       16.527806      7.866803     15.829717      1.103196      2.222206   \n",
       "min     1000.800000    512.450000    100.170000      9.904400      0.000388   \n",
       "25%     1079.600000    542.170000    127.985000     11.622000      0.858055   \n",
       "50%     1088.700000    549.890000    133.780000     12.025000      1.390200   \n",
       "75%     1096.000000    550.060000    140.895000     12.578000      2.160400   \n",
       "max     1100.800000    550.610000    174.610000     15.081000     44.103000   \n",
       "\n",
       "                NOX  \n",
       "count  15039.000000  \n",
       "mean      68.190934  \n",
       "std       10.470586  \n",
       "min       27.765000  \n",
       "25%       61.303500  \n",
       "50%       66.601000  \n",
       "75%       73.935500  \n",
       "max      119.890000  "
      ]
     },
     "execution_count": 8,
     "metadata": {},
     "output_type": "execute_result"
    }
   ],
   "source": [
    "df.describe()"
   ]
  },
  {
   "cell_type": "code",
   "execution_count": 9,
   "metadata": {},
   "outputs": [
    {
     "data": {
      "text/plain": [
       "Index(['AT', 'AP', 'AH', 'AFDP', 'GTEP', 'TIT', 'TAT', 'TEY', 'CDP', 'CO',\n",
       "       'NOX'],\n",
       "      dtype='object')"
      ]
     },
     "execution_count": 9,
     "metadata": {},
     "output_type": "execute_result"
    }
   ],
   "source": [
    "df.columns"
   ]
  },
  {
   "cell_type": "code",
   "execution_count": 10,
   "metadata": {},
   "outputs": [],
   "source": [
    "# Splitting into X and Y\n",
    "X=df.loc[:,['AT', 'AP', 'AH', 'AFDP', 'GTEP', 'TIT', 'TAT','CDP', 'CO','NOX']]\n",
    "Y=df.loc[:,['TEY']]"
   ]
  },
  {
   "cell_type": "code",
   "execution_count": 11,
   "metadata": {},
   "outputs": [],
   "source": [
    "# Splitting into training and testing set\n",
    "\n",
    "from sklearn.model_selection import train_test_split\n",
    "X_train,X_test,Y_train,Y_test=train_test_split(X,Y,test_size=0.3,random_state=10)\n"
   ]
  },
  {
   "cell_type": "markdown",
   "metadata": {},
   "source": [
    "### Using ColumnTransformer to standardize X"
   ]
  },
  {
   "cell_type": "code",
   "execution_count": 12,
   "metadata": {},
   "outputs": [],
   "source": [
    "from sklearn.preprocessing import StandardScaler\n",
    "\n",
    "from sklearn.compose import ColumnTransformer\n",
    "\n",
    "t=[('num',StandardScaler(),['AT', 'AP', 'AH', 'AFDP', 'GTEP', 'TIT', 'TAT','CDP', 'CO','NOX'])]\n",
    "transformer=ColumnTransformer(transformers=t)\n",
    "\n",
    "# fit training data\n",
    "transformer.fit(X_train)\n",
    "\n",
    "# transform training data\n",
    "X_train = transformer.transform(X_train)\n",
    "\n",
    "# transform the test data\n",
    "X_test = transformer.transform(X_test)\n"
   ]
  },
  {
   "cell_type": "code",
   "execution_count": 13,
   "metadata": {},
   "outputs": [
    {
     "name": "stdout",
     "output_type": "stream",
     "text": [
      "Shape of training data (10527, 10)\n",
      "Shape of testing data (4512, 10)\n"
     ]
    }
   ],
   "source": [
    "print(\"Shape of training data\",X_train.shape)\n",
    "print(\"Shape of testing data\",X_test.shape)"
   ]
  },
  {
   "cell_type": "markdown",
   "metadata": {},
   "source": [
    "## Building Neural Network base model"
   ]
  },
  {
   "cell_type": "code",
   "execution_count": 14,
   "metadata": {},
   "outputs": [
    {
     "name": "stdout",
     "output_type": "stream",
     "text": [
      "Input dimension: 10\n"
     ]
    }
   ],
   "source": [
    "print('Input dimension:',X_test.shape[1])"
   ]
  },
  {
   "cell_type": "code",
   "execution_count": 15,
   "metadata": {},
   "outputs": [],
   "source": [
    "model = Sequential()\n",
    "model.add(Dense(10, input_dim=10,kernel_initializer='uniform', activation='relu'))\n",
    "model.add(Dense(20, kernel_initializer='uniform', activation='relu'))\n",
    "model.add(Dense(1, kernel_initializer='uniform', activation='linear'))\n",
    "\n"
   ]
  },
  {
   "cell_type": "code",
   "execution_count": 16,
   "metadata": {},
   "outputs": [],
   "source": [
    "import pydot\n",
    "import keras\n",
    "from keras.utils.vis_utils import plot_model\n",
    "keras.utils.vis_utils.pydot = pydot"
   ]
  },
  {
   "cell_type": "code",
   "execution_count": 17,
   "metadata": {},
   "outputs": [
    {
     "data": {
      "image/png": "[encoded data removed]",
      "text/plain": [
       "<IPython.core.display.Image object>"
      ]
     },
     "execution_count": 17,
     "metadata": {},
     "output_type": "execute_result"
    }
   ],
   "source": [
    "# Visualizing the neural network\n",
    "plot_model(model,show_shapes=True, show_layer_names=True)"
   ]
  },
  {
   "cell_type": "code",
   "execution_count": 18,
   "metadata": {},
   "outputs": [
    {
     "name": "stdout",
     "output_type": "stream",
     "text": [
      "Model: \"sequential\"\n",
      "_________________________________________________________________\n",
      "Layer (type)                 Output Shape              Param #   \n",
      "=================================================================\n",
      "dense (Dense)                (None, 10)                110       \n",
      "_________________________________________________________________\n",
      "dense_1 (Dense)              (None, 20)                220       \n",
      "_________________________________________________________________\n",
      "dense_2 (Dense)              (None, 1)                 21        \n",
      "=================================================================\n",
      "Total params: 351\n",
      "Trainable params: 351\n",
      "Non-trainable params: 0\n",
      "_________________________________________________________________\n"
     ]
    }
   ],
   "source": [
    "# Summary of neural network\n",
    "model.summary()"
   ]
  },
  {
   "cell_type": "code",
   "execution_count": 19,
   "metadata": {},
   "outputs": [],
   "source": [
    "# Compile model\n",
    "\n",
    "model.compile(loss='mse', optimizer='adam',metrics=['mse','mae'])"
   ]
  },
  {
   "cell_type": "code",
   "execution_count": 20,
   "metadata": {},
   "outputs": [
    {
     "name": "stdout",
     "output_type": "stream",
     "text": [
      "Epoch 1/50\n",
      "11/11 [==============================] - 2s 118ms/step - loss: 18243.0125 - mse: 18243.0125 - mae: 134.1415 - val_loss: 18268.2598 - val_mse: 18268.2598 - val_mae: 134.2319\n",
      "Epoch 2/50\n",
      "11/11 [==============================] - 0s 8ms/step - loss: 18185.1120 - mse: 18185.1120 - mae: 133.9192 - val_loss: 18262.2461 - val_mse: 18262.2461 - val_mae: 134.2098\n",
      "Epoch 3/50\n",
      "11/11 [==============================] - 0s 5ms/step - loss: 18247.5667 - mse: 18247.5667 - mae: 134.1552 - val_loss: 18252.9375 - val_mse: 18252.9375 - val_mae: 134.1761\n",
      "Epoch 4/50\n",
      "11/11 [==============================] - 0s 5ms/step - loss: 18287.7091 - mse: 18287.7091 - mae: 134.3033 - val_loss: 18237.9297 - val_mse: 18237.9297 - val_mae: 134.1219\n",
      "Epoch 5/50\n",
      "11/11 [==============================] - 0s 5ms/step - loss: 18264.4017 - mse: 18264.4017 - mae: 134.2171 - val_loss: 18213.9102 - val_mse: 18213.9102 - val_mae: 134.0356\n",
      "Epoch 6/50\n",
      "11/11 [==============================] - 0s 5ms/step - loss: 18237.4124 - mse: 18237.4124 - mae: 134.1244 - val_loss: 18177.0410 - val_mse: 18177.0410 - val_mae: 133.9035\n",
      "Epoch 7/50\n",
      "11/11 [==============================] - 0s 3ms/step - loss: 18129.9917 - mse: 18129.9917 - mae: 133.7245 - val_loss: 18123.0254 - val_mse: 18123.0254 - val_mae: 133.7099\n",
      "Epoch 8/50\n",
      "11/11 [==============================] - 0s 3ms/step - loss: 18081.6196 - mse: 18081.6196 - mae: 133.5628 - val_loss: 18047.3086 - val_mse: 18047.3086 - val_mae: 133.4384\n",
      "Epoch 9/50\n",
      "11/11 [==============================] - 0s 4ms/step - loss: 18027.7935 - mse: 18027.7935 - mae: 133.3749 - val_loss: 17944.9863 - val_mse: 17944.9863 - val_mae: 133.0707\n",
      "Epoch 10/50\n",
      "11/11 [==============================] - 0s 5ms/step - loss: 17940.9714 - mse: 17940.9714 - mae: 133.0459 - val_loss: 17811.5664 - val_mse: 17811.5664 - val_mae: 132.5894\n",
      "Epoch 11/50\n",
      "11/11 [==============================] - 0s 5ms/step - loss: 17747.5373 - mse: 17747.5373 - mae: 132.3527 - val_loss: 17642.7637 - val_mse: 17642.7637 - val_mae: 131.9771\n",
      "Epoch 12/50\n",
      "11/11 [==============================] - 0s 5ms/step - loss: 17566.2954 - mse: 17566.2954 - mae: 131.7041 - val_loss: 17433.5371 - val_mse: 17433.5371 - val_mae: 131.2131\n",
      "Epoch 13/50\n",
      "11/11 [==============================] - 0s 5ms/step - loss: 17366.0960 - mse: 17366.0960 - mae: 130.9670 - val_loss: 17180.0801 - val_mse: 17180.0801 - val_mae: 130.2794\n",
      "Epoch 14/50\n",
      "11/11 [==============================] - 0s 5ms/step - loss: 17086.1632 - mse: 17086.1632 - mae: 129.9347 - val_loss: 16879.3008 - val_mse: 16879.3008 - val_mae: 129.1594\n",
      "Epoch 15/50\n",
      "11/11 [==============================] - 0s 4ms/step - loss: 16794.3439 - mse: 16794.3439 - mae: 128.8232 - val_loss: 16524.1816 - val_mse: 16524.1816 - val_mae: 127.8200\n",
      "Epoch 16/50\n",
      "11/11 [==============================] - 0s 3ms/step - loss: 16395.8162 - mse: 16395.8162 - mae: 127.3209 - val_loss: 16114.1416 - val_mse: 16114.1416 - val_mae: 126.2475\n",
      "Epoch 17/50\n",
      "11/11 [==============================] - 0s 4ms/step - loss: 15987.4615 - mse: 15987.4615 - mae: 125.7459 - val_loss: 15646.8799 - val_mse: 15646.8799 - val_mae: 124.4210\n",
      "Epoch 18/50\n",
      "11/11 [==============================] - 0s 5ms/step - loss: 15524.9779 - mse: 15524.9779 - mae: 123.9384 - val_loss: 15122.3213 - val_mse: 15122.3213 - val_mae: 122.3243\n",
      "Epoch 19/50\n",
      "11/11 [==============================] - 0s 5ms/step - loss: 14959.9064 - mse: 14959.9064 - mae: 121.6626 - val_loss: 14544.2744 - val_mse: 14544.2744 - val_mae: 119.9512\n",
      "Epoch 20/50\n",
      "11/11 [==============================] - 0s 5ms/step - loss: 14404.9504 - mse: 14404.9504 - mae: 119.3626 - val_loss: 13916.3916 - val_mse: 13916.3916 - val_mae: 117.2946\n",
      "Epoch 21/50\n",
      "11/11 [==============================] - 0s 5ms/step - loss: 13737.8649 - mse: 13737.8649 - mae: 116.5073 - val_loss: 13245.7842 - val_mse: 13245.7842 - val_mae: 114.3556\n",
      "Epoch 22/50\n",
      "11/11 [==============================] - 0s 5ms/step - loss: 13075.1918 - mse: 13075.1918 - mae: 113.5746 - val_loss: 12538.8896 - val_mse: 12538.8896 - val_mae: 111.1318\n",
      "Epoch 23/50\n",
      "11/11 [==============================] - 0s 4ms/step - loss: 12340.8968 - mse: 12340.8968 - mae: 110.1909 - val_loss: 11806.4473 - val_mse: 11806.4473 - val_mae: 107.6373\n",
      "Epoch 24/50\n",
      "11/11 [==============================] - 0s 5ms/step - loss: 11605.1650 - mse: 11605.1650 - mae: 106.6352 - val_loss: 11059.4395 - val_mse: 11059.4395 - val_mae: 103.8895\n",
      "Epoch 25/50\n",
      "11/11 [==============================] - 0s 5ms/step - loss: 10874.3108 - mse: 10874.3108 - mae: 102.9117 - val_loss: 10306.4990 - val_mse: 10306.4990 - val_mae: 99.8942\n",
      "Epoch 26/50\n",
      "11/11 [==============================] - 0s 5ms/step - loss: 10097.0719 - mse: 10097.0719 - mae: 98.7361 - val_loss: 9561.5186 - val_mse: 9561.5186 - val_mae: 95.6871\n",
      "Epoch 27/50\n",
      "11/11 [==============================] - 0s 3ms/step - loss: 9417.0881 - mse: 9417.0881 - mae: 94.7728 - val_loss: 8836.1738 - val_mse: 8836.1738 - val_mae: 91.3011\n",
      "Epoch 28/50\n",
      "11/11 [==============================] - 0s 4ms/step - loss: 8651.2285 - mse: 8651.2285 - mae: 90.1002 - val_loss: 8141.4980 - val_mse: 8141.4980 - val_mae: 86.7780\n",
      "Epoch 29/50\n",
      "11/11 [==============================] - 0s 5ms/step - loss: 7953.8717 - mse: 7953.8717 - mae: 85.4728 - val_loss: 7486.5762 - val_mse: 7486.5762 - val_mae: 82.1658\n",
      "Epoch 30/50\n",
      "11/11 [==============================] - 0s 4ms/step - loss: 7342.7150 - mse: 7342.7150 - mae: 81.0643 - val_loss: 6875.3818 - val_mse: 6875.3818 - val_mae: 77.4951\n",
      "Epoch 31/50\n",
      "11/11 [==============================] - 0s 3ms/step - loss: 6795.2504 - mse: 6795.2504 - mae: 76.6615 - val_loss: 6310.3994 - val_mse: 6310.3994 - val_mae: 72.8614\n",
      "Epoch 32/50\n",
      "11/11 [==============================] - 0s 4ms/step - loss: 6186.5923 - mse: 6186.5923 - mae: 71.7526 - val_loss: 5795.3218 - val_mse: 5795.3218 - val_mae: 68.4290\n",
      "Epoch 33/50\n",
      "11/11 [==============================] - 0s 5ms/step - loss: 5671.8068 - mse: 5671.8068 - mae: 67.4219 - val_loss: 5331.6948 - val_mse: 5331.6948 - val_mae: 64.3634\n",
      "Epoch 34/50\n",
      "11/11 [==============================] - 0s 4ms/step - loss: 5219.4708 - mse: 5219.4708 - mae: 63.3584 - val_loss: 4918.1685 - val_mse: 4918.1685 - val_mae: 60.7848\n",
      "Epoch 35/50\n",
      "11/11 [==============================] - 0s 5ms/step - loss: 4826.9126 - mse: 4826.9126 - mae: 59.8465 - val_loss: 4550.5054 - val_mse: 4550.5054 - val_mae: 57.6466\n",
      "Epoch 36/50\n",
      "11/11 [==============================] - 0s 5ms/step - loss: 4496.5166 - mse: 4496.5169 - mae: 57.1190 - val_loss: 4221.2251 - val_mse: 4221.2251 - val_mae: 54.8586\n",
      "Epoch 37/50\n",
      "11/11 [==============================] - 0s 5ms/step - loss: 4144.9545 - mse: 4144.9545 - mae: 54.2324 - val_loss: 3926.1787 - val_mse: 3926.1787 - val_mae: 52.4045\n",
      "Epoch 38/50\n",
      "11/11 [==============================] - 0s 5ms/step - loss: 3877.0545 - mse: 3877.0545 - mae: 52.0865 - val_loss: 3658.9399 - val_mse: 3658.9399 - val_mae: 50.1679\n",
      "Epoch 39/50\n",
      "11/11 [==============================] - 0s 5ms/step - loss: 3587.6564 - mse: 3587.6564 - mae: 49.6032 - val_loss: 3416.3074 - val_mse: 3416.3074 - val_mae: 48.1395\n",
      "Epoch 40/50\n",
      "11/11 [==============================] - 0s 5ms/step - loss: 3321.4741 - mse: 3321.4741 - mae: 47.3054 - val_loss: 3193.4373 - val_mse: 3193.4373 - val_mae: 46.2973\n",
      "Epoch 41/50\n",
      "11/11 [==============================] - 0s 3ms/step - loss: 3146.5805 - mse: 3146.5805 - mae: 45.8841 - val_loss: 2986.5542 - val_mse: 2986.5542 - val_mae: 44.6259\n",
      "Epoch 42/50\n",
      "11/11 [==============================] - 0s 3ms/step - loss: 2954.9373 - mse: 2954.9373 - mae: 44.4567 - val_loss: 2795.0220 - val_mse: 2795.0220 - val_mae: 43.1229\n",
      "Epoch 43/50\n",
      "11/11 [==============================] - 0s 4ms/step - loss: 2751.9963 - mse: 2751.9963 - mae: 42.8123 - val_loss: 2615.7512 - val_mse: 2615.7512 - val_mae: 41.7399\n",
      "Epoch 44/50\n",
      "11/11 [==============================] - 0s 5ms/step - loss: 2599.0927 - mse: 2599.0927 - mae: 41.5830 - val_loss: 2448.8396 - val_mse: 2448.8396 - val_mae: 40.4597\n",
      "Epoch 45/50\n",
      "11/11 [==============================] - 0s 5ms/step - loss: 2431.0829 - mse: 2431.0829 - mae: 40.3593 - val_loss: 2292.3809 - val_mse: 2292.3809 - val_mae: 39.2534\n",
      "Epoch 46/50\n",
      "11/11 [==============================] - 0s 5ms/step - loss: 2259.1013 - mse: 2259.1013 - mae: 39.0896 - val_loss: 2145.9312 - val_mse: 2145.9312 - val_mae: 38.1040\n",
      "Epoch 47/50\n",
      "11/11 [==============================] - 0s 5ms/step - loss: 2112.9674 - mse: 2112.9674 - mae: 37.7848 - val_loss: 2009.3923 - val_mse: 2009.3923 - val_mae: 36.9975\n",
      "Epoch 48/50\n",
      "11/11 [==============================] - 0s 3ms/step - loss: 1983.1004 - mse: 1983.1004 - mae: 36.8348 - val_loss: 1881.2108 - val_mse: 1881.2108 - val_mae: 35.9163\n",
      "Epoch 49/50\n",
      "11/11 [==============================] - 0s 4ms/step - loss: 1855.8472 - mse: 1855.8472 - mae: 35.6502 - val_loss: 1761.3575 - val_mse: 1761.3575 - val_mae: 34.8646\n",
      "Epoch 50/50\n",
      "11/11 [==============================] - 0s 5ms/step - loss: 1728.1456 - mse: 1728.1456 - mae: 34.5573 - val_loss: 1650.2607 - val_mse: 1650.2607 - val_mae: 33.8360\n"
     ]
    }
   ],
   "source": [
    "# Training and evaluating the model\n",
    "history=model.fit(X_train, Y_train, validation_data=(X_test,Y_test),epochs =50, batch_size=1000)"
   ]
  },
  {
   "cell_type": "code",
   "execution_count": 35,
   "metadata": {},
   "outputs": [
    {
     "data": {
      "image/png": "[encoded data removed]",
      "text/plain": [
       "<Figure size 432x288 with 1 Axes>"
      ]
     },
     "metadata": {
      "needs_background": "light"
     },
     "output_type": "display_data"
    }
   ],
   "source": [
    "# plot loss during training\n",
    "\n",
    "plt.title('Model Loss(MSE)')\n",
    "plt.plot(history.history['loss'], label='train')\n",
    "plt.plot(history.history['val_loss'], label='test')\n",
    "plt.ylabel('MSE')\n",
    "plt.xlabel('epoch')\n",
    "\n",
    "plt.legend()\n",
    "plt.show()"
   ]
  },
  {
   "cell_type": "code",
   "execution_count": 22,
   "metadata": {},
   "outputs": [
    {
     "name": "stdout",
     "output_type": "stream",
     "text": [
      "Training set rmse: 40.710, Testing set rmse: 40.623\n"
     ]
    }
   ],
   "source": [
    "# evaluate the model\n",
    "\n",
    "y_train_pred= model.predict(X_train)\n",
    "y_test_pred= model.predict(X_test)\n",
    "\n",
    "from sklearn.metrics import mean_squared_error\n",
    "\n",
    "train_rmse = mean_squared_error(Y_train,y_train_pred,squared=False)\n",
    "test_rmse = mean_squared_error(Y_test, y_test_pred,squared=False)\n",
    "\n",
    "print('Training set rmse: %.3f, Testing set rmse: %.3f' % (train_rmse, test_rmse))"
   ]
  },
  {
   "cell_type": "markdown",
   "metadata": {},
   "source": [
    "## Hyperparameter Tuning using RandomizedSearchCV"
   ]
  },
  {
   "cell_type": "markdown",
   "metadata": {},
   "source": [
    "https://towardsdatascience.com/regression-based-neural-networks-with-tensorflow-v2-0-predicting-average-daily-rates-e20fffa7ac9a"
   ]
  },
  {
   "cell_type": "code",
   "execution_count": 23,
   "metadata": {},
   "outputs": [],
   "source": [
    "from sklearn.model_selection import RandomizedSearchCV, KFold"
   ]
  },
  {
   "cell_type": "code",
   "execution_count": 24,
   "metadata": {},
   "outputs": [],
   "source": [
    "from keras.optimizers import Adam"
   ]
  },
  {
   "cell_type": "code",
   "execution_count": 25,
   "metadata": {},
   "outputs": [],
   "source": [
    "from keras.wrappers.scikit_learn import KerasRegressor\n"
   ]
  },
  {
   "cell_type": "code",
   "execution_count": 26,
   "metadata": {},
   "outputs": [],
   "source": [
    "# Building a keras regression model\n",
    "\n",
    "def keras_reg_model(learning_rate,activation_function,init,neuron1,neuron2):\n",
    "    \n",
    "    model = Sequential()\n",
    "    \n",
    "    model.add(Dense(neuron1,input_dim = 10,kernel_initializer = init,activation = activation_function))\n",
    " \n",
    "    model.add(Dense(neuron2,input_dim = neuron1,kernel_initializer = init,activation = activation_function))\n",
    "\n",
    "    model.add(Dense(1,activation = 'linear'))\n",
    "    \n",
    "    adam = Adam(lr = learning_rate)\n",
    "    \n",
    "    model.compile(loss = 'mse',optimizer = adam,metrics = ['mse','mae'])\n",
    "    return model"
   ]
  },
  {
   "cell_type": "code",
   "execution_count": 27,
   "metadata": {},
   "outputs": [],
   "source": [
    "# Wrapping the keras model in a object\n",
    "\n",
    "keras_reg = KerasRegressor(build_fn = keras_reg_model,verbose = 0)"
   ]
  },
  {
   "cell_type": "code",
   "execution_count": 28,
   "metadata": {},
   "outputs": [
    {
     "name": "stdout",
     "output_type": "stream",
     "text": [
      "Fitting 5 folds for each of 10 candidates, totalling 50 fits\n"
     ]
    },
    {
     "name": "stderr",
     "output_type": "stream",
     "text": [
      "[Parallel(n_jobs=-1)]: Using backend LokyBackend with 4 concurrent workers.\n",
      "[Parallel(n_jobs=-1)]: Done   5 tasks      | elapsed:    5.8s\n",
      "[Parallel(n_jobs=-1)]: Done  10 tasks      | elapsed:    8.5s\n",
      "[Parallel(n_jobs=-1)]: Done  17 tasks      | elapsed:   20.3s\n",
      "[Parallel(n_jobs=-1)]: Done  24 tasks      | elapsed:   29.1s\n",
      "[Parallel(n_jobs=-1)]: Done  33 tasks      | elapsed:   35.2s\n",
      "[Parallel(n_jobs=-1)]: Done  42 tasks      | elapsed:   39.6s\n",
      "[Parallel(n_jobs=-1)]: Done  50 out of  50 | elapsed:   48.1s finished\n"
     ]
    }
   ],
   "source": [
    "# Define the search parameters\n",
    "\n",
    "batch_size = [10,50,100,500,1000,2000]\n",
    "epochs = [25,50,80,100,150]\n",
    "learning_rate = [0.001,0.01,0.1]\n",
    "\n",
    "activation_function = ['elu','relu','linear']\n",
    "init = ['uniform','normal','zero']\n",
    "neuron1 = [5,10,20,30]\n",
    "neuron2 = [5,10,20,30]\n",
    "\n",
    "\n",
    "# Create a dictionary of the parameters\n",
    "\n",
    "param_grids = dict(batch_size = batch_size,epochs = epochs,learning_rate = learning_rate,\n",
    "                   activation_function = activation_function,init = init,neuron1 = neuron1,neuron2 = neuron2)\n",
    "\n",
    "\n",
    "# Build and fit the RandomizedSearchCV\n",
    "\n",
    "random_search = RandomizedSearchCV(estimator = keras_reg,param_distributions = param_grids,cv = 5,n_jobs=-1,verbose = 10,\n",
    "                                   random_state=40)\n",
    "random_result = random_search.fit(X_train,Y_train)\n",
    "\n"
   ]
  },
  {
   "cell_type": "code",
   "execution_count": 29,
   "metadata": {},
   "outputs": [
    {
     "name": "stdout",
     "output_type": "stream",
     "text": [
      "Best score: -0.5703281164169312\n",
      "Best parameters: {'neuron2': 20, 'neuron1': 10, 'learning_rate': 0.01, 'init': 'normal', 'epochs': 25, 'batch_size': 1000, 'activation_function': 'linear'}\n"
     ]
    }
   ],
   "source": [
    "# Summarize the results\n",
    "print('Best score:',random_result.best_score_)\n",
    "print('Best parameters:',random_result.best_params_)\n"
   ]
  },
  {
   "cell_type": "code",
   "execution_count": 31,
   "metadata": {},
   "outputs": [
    {
     "name": "stdout",
     "output_type": "stream",
     "text": [
      "Epoch 1/25\n",
      "11/11 [==============================] - 1s 17ms/step - loss: 18177.6216 - mse: 18177.6216 - mae: 133.9348 - val_loss: 17733.4434 - val_mse: 17733.4434 - val_mae: 132.6107\n",
      "Epoch 2/25\n",
      "11/11 [==============================] - 0s 5ms/step - loss: 17440.8215 - mse: 17440.8215 - mae: 131.6911 - val_loss: 16199.4111 - val_mse: 16199.4111 - val_mae: 127.1643\n",
      "Epoch 3/25\n",
      "11/11 [==============================] - 0s 5ms/step - loss: 15655.6396 - mse: 15655.6396 - mae: 124.7989 - val_loss: 13152.5332 - val_mse: 13152.5332 - val_mae: 114.2028\n",
      "Epoch 4/25\n",
      "11/11 [==============================] - 0s 5ms/step - loss: 11978.1518 - mse: 11978.1518 - mae: 108.9814 - val_loss: 7677.3032 - val_mse: 7677.3032 - val_mae: 87.3760\n",
      "Epoch 5/25\n",
      "11/11 [==============================] - 0s 5ms/step - loss: 6111.1224 - mse: 6111.1224 - mae: 77.3291 - val_loss: 1702.1199 - val_mse: 1702.1199 - val_mae: 41.1512\n",
      "Epoch 6/25\n",
      "11/11 [==============================] - 0s 5ms/step - loss: 957.1806 - mse: 957.1806 - mae: 28.2284 - val_loss: 102.2965 - val_mse: 102.2965 - val_mae: 9.6737\n",
      "Epoch 7/25\n",
      "11/11 [==============================] - 0s 5ms/step - loss: 237.0559 - mse: 237.0559 - mae: 14.6648 - val_loss: 242.0452 - val_mse: 242.0452 - val_mae: 15.2722\n",
      "Epoch 8/25\n",
      "11/11 [==============================] - 0s 4ms/step - loss: 139.8628 - mse: 139.8628 - mae: 10.7250 - val_loss: 8.1967 - val_mse: 8.1967 - val_mae: 2.5643\n",
      "Epoch 9/25\n",
      "11/11 [==============================] - 0s 5ms/step - loss: 20.8030 - mse: 20.8030 - mae: 4.2317 - val_loss: 27.3062 - val_mse: 27.3062 - val_mae: 5.1456\n",
      "Epoch 10/25\n",
      "11/11 [==============================] - 0s 5ms/step - loss: 17.4743 - mse: 17.4743 - mae: 3.8625 - val_loss: 0.8975 - val_mse: 0.8975 - val_mae: 0.6949\n",
      "Epoch 11/25\n",
      "11/11 [==============================] - 0s 5ms/step - loss: 2.2660 - mse: 2.2660 - mae: 1.2246 - val_loss: 3.4697 - val_mse: 3.4697 - val_mae: 1.6673\n",
      "Epoch 12/25\n",
      "11/11 [==============================] - 0s 5ms/step - loss: 2.2939 - mse: 2.2939 - mae: 1.2748 - val_loss: 0.6380 - val_mse: 0.6380 - val_mae: 0.6003\n",
      "Epoch 13/25\n",
      "11/11 [==============================] - 0s 5ms/step - loss: 0.8030 - mse: 0.8030 - mae: 0.7053 - val_loss: 0.8052 - val_mse: 0.8052 - val_mae: 0.7041\n",
      "Epoch 14/25\n",
      "11/11 [==============================] - 0s 5ms/step - loss: 0.6907 - mse: 0.6907 - mae: 0.6382 - val_loss: 0.5961 - val_mse: 0.5961 - val_mae: 0.5561\n",
      "Epoch 15/25\n",
      "11/11 [==============================] - 0s 5ms/step - loss: 0.5980 - mse: 0.5980 - mae: 0.5567 - val_loss: 0.5829 - val_mse: 0.5829 - val_mae: 0.5546\n",
      "Epoch 16/25\n",
      "11/11 [==============================] - 0s 6ms/step - loss: 0.5866 - mse: 0.5866 - mae: 0.5556 - val_loss: 0.5892 - val_mse: 0.5892 - val_mae: 0.5439\n",
      "Epoch 17/25\n",
      "11/11 [==============================] - 0s 5ms/step - loss: 0.5772 - mse: 0.5772 - mae: 0.5486 - val_loss: 0.5605 - val_mse: 0.5605 - val_mae: 0.5452\n",
      "Epoch 18/25\n",
      "11/11 [==============================] - 0s 5ms/step - loss: 0.5508 - mse: 0.5508 - mae: 0.5370 - val_loss: 0.5603 - val_mse: 0.5603 - val_mae: 0.5409\n",
      "Epoch 19/25\n",
      "11/11 [==============================] - 0s 5ms/step - loss: 0.5661 - mse: 0.5661 - mae: 0.5399 - val_loss: 0.5593 - val_mse: 0.5593 - val_mae: 0.5392\n",
      "Epoch 20/25\n",
      "11/11 [==============================] - 0s 5ms/step - loss: 0.5667 - mse: 0.5667 - mae: 0.5424 - val_loss: 0.5600 - val_mse: 0.5600 - val_mae: 0.5357\n",
      "Epoch 21/25\n",
      "11/11 [==============================] - 0s 6ms/step - loss: 0.5550 - mse: 0.5550 - mae: 0.5385 - val_loss: 0.5583 - val_mse: 0.5583 - val_mae: 0.5433\n",
      "Epoch 22/25\n",
      "11/11 [==============================] - 0s 5ms/step - loss: 0.5607 - mse: 0.5607 - mae: 0.5422 - val_loss: 0.5562 - val_mse: 0.5562 - val_mae: 0.5418\n",
      "Epoch 23/25\n",
      "11/11 [==============================] - 0s 5ms/step - loss: 0.5537 - mse: 0.5537 - mae: 0.5313 - val_loss: 0.5552 - val_mse: 0.5552 - val_mae: 0.5409\n",
      "Epoch 24/25\n",
      "11/11 [==============================] - 0s 5ms/step - loss: 0.5420 - mse: 0.5420 - mae: 0.5366 - val_loss: 0.5630 - val_mse: 0.5630 - val_mae: 0.5484\n",
      "Epoch 25/25\n",
      "11/11 [==============================] - 0s 5ms/step - loss: 0.5692 - mse: 0.5692 - mae: 0.5502 - val_loss: 0.5587 - val_mse: 0.5587 - val_mae: 0.5450\n"
     ]
    }
   ],
   "source": [
    "## storing the best parameters in a variable\n",
    "## fitting the model with best parameters\n",
    "\n",
    "d1= random_result.best_params_\n",
    "\n",
    "keras_tuned=keras_reg_model(learning_rate=d1['learning_rate'],activation_function=d1['activation_function'],init=d1['init'],\n",
    "                                                                                       neuron1=d1['neuron1'],neuron2=d1['neuron2'])\n",
    "\n",
    "# Training and evaluating the model\n",
    "history2=keras_tuned.fit(X_train, Y_train, validation_data=(X_test,Y_test),\n",
    "                         epochs =d1['epochs'], batch_size=d1['batch_size'])\n"
   ]
  },
  {
   "cell_type": "code",
   "execution_count": 37,
   "metadata": {},
   "outputs": [
    {
     "data": {
      "image/png": "[encoded data removed]",
      "text/plain": [
       "<Figure size 432x288 with 1 Axes>"
      ]
     },
     "metadata": {
      "needs_background": "light"
     },
     "output_type": "display_data"
    }
   ],
   "source": [
    "# PLotting Loss(MSE) After Tuning\n",
    "\n",
    "plt.title('Model Loss(MSE)After Tuning')\n",
    "plt.plot(history2.history['loss'], label='train')\n",
    "plt.plot(history2.history['val_loss'], label='test')\n",
    "plt.ylabel('MSE')\n",
    "plt.xlabel('epoch')\n",
    "\n",
    "plt.legend()\n",
    "plt.show()"
   ]
  },
  {
   "cell_type": "code",
   "execution_count": 38,
   "metadata": {},
   "outputs": [
    {
     "name": "stdout",
     "output_type": "stream",
     "text": [
      "Training set rmse : 0.743, Testing set rmse: 0.747\n"
     ]
    }
   ],
   "source": [
    "# evaluate the model\n",
    "\n",
    "y_train_pred_tuned= keras_tuned.predict(X_train)\n",
    "y_test_pred_tuned= keras_tuned.predict(X_test)\n",
    "\n",
    "from sklearn.metrics import mean_squared_error\n",
    "\n",
    "train_rmse_tuned = mean_squared_error(Y_train,y_train_pred_tuned,squared=False)\n",
    "test_rmse_tuned = mean_squared_error(Y_test, y_test_pred_tuned,squared=False)\n",
    "\n",
    "print('Training set rmse : %.3f, Testing set rmse: %.3f' % (train_rmse_tuned, test_rmse_tuned))"
   ]
  },
  {
   "cell_type": "markdown",
   "metadata": {},
   "source": [
    "## Comparing base model and tuned model"
   ]
  },
  {
   "cell_type": "code",
   "execution_count": 39,
   "metadata": {},
   "outputs": [
    {
     "data": {
      "text/html": [
       "<div>\n",
       "<style scoped>\n",
       "    .dataframe tbody tr th:only-of-type {\n",
       "        vertical-align: middle;\n",
       "    }\n",
       "\n",
       "    .dataframe tbody tr th {\n",
       "        vertical-align: top;\n",
       "    }\n",
       "\n",
       "    .dataframe thead th {\n",
       "        text-align: right;\n",
       "    }\n",
       "</style>\n",
       "<table border=\"1\" class=\"dataframe\">\n",
       "  <thead>\n",
       "    <tr style=\"text-align: right;\">\n",
       "      <th></th>\n",
       "      <th>models</th>\n",
       "      <th>train rmse</th>\n",
       "      <th>test rmse</th>\n",
       "    </tr>\n",
       "  </thead>\n",
       "  <tbody>\n",
       "    <tr>\n",
       "      <th>0</th>\n",
       "      <td>base model</td>\n",
       "      <td>40.709783</td>\n",
       "      <td>40.623402</td>\n",
       "    </tr>\n",
       "    <tr>\n",
       "      <th>1</th>\n",
       "      <td>tuned model</td>\n",
       "      <td>0.742717</td>\n",
       "      <td>0.747451</td>\n",
       "    </tr>\n",
       "  </tbody>\n",
       "</table>\n",
       "</div>"
      ],
      "text/plain": [
       "        models  train rmse  test rmse\n",
       "0   base model   40.709783  40.623402\n",
       "1  tuned model    0.742717   0.747451"
      ]
     },
     "execution_count": 39,
     "metadata": {},
     "output_type": "execute_result"
    }
   ],
   "source": [
    "result=pd.DataFrame({'models':['base model','tuned model'],'train rmse':[train_rmse,train_rmse_tuned],\n",
    "                     'test rmse':[test_rmse,test_rmse_tuned]})\n",
    "result"
   ]
  },
  {
   "cell_type": "markdown",
   "metadata": {},
   "source": [
    "For both base model and tuned model, the difference between rmse for train and test set is very low indicating almost no overfitting.\n",
    "\n",
    "For tuned model,the rmse has decreased compared to base model suggesting that hypertuning parameters has increased the efficiency of this regression model."
   ]
  },
  {
   "cell_type": "code",
   "execution_count": null,
   "metadata": {},
   "outputs": [],
   "source": []
  }
 ],
 "metadata": {
  "kernelspec": {
   "display_name": "Python 3 (ipykernel)",
   "language": "python",
   "name": "python3"
  },
  "language_info": {
   "codemirror_mode": {
    "name": "ipython",
    "version": 3
   },
   "file_extension": ".py",
   "mimetype": "text/x-python",
   "name": "python",
   "nbconvert_exporter": "python",
   "pygments_lexer": "ipython3",
   "version": "3.9.12"
  }
 },
 "nbformat": 4,
 "nbformat_minor": 4
}
